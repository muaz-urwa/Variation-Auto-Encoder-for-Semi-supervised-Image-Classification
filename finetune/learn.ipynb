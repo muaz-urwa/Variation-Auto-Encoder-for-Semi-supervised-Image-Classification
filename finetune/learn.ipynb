{
 "cells": [
  {
   "cell_type": "code",
   "execution_count": 1,
   "metadata": {},
   "outputs": [],
   "source": [
    "#from __future__ import print_function\n",
    "import argparse\n",
    "import os\n",
    "import imp\n",
    "import algorithms as alg\n",
    "from dataloader import DataLoader, GenericDataset"
   ]
  },
  {
   "cell_type": "code",
   "execution_count": 2,
   "metadata": {},
   "outputs": [
    {
     "data": {
      "text/plain": [
       "1L"
      ]
     },
     "execution_count": 2,
     "metadata": {},
     "output_type": "execute_result"
    }
   ],
   "source": [
    "import torch\n",
    "import torch.nn as nn\n",
    "torch.cuda.device_count()"
   ]
  },
  {
   "cell_type": "code",
   "execution_count": 3,
   "metadata": {},
   "outputs": [],
   "source": [
    "class Namespace:\n",
    "    def __init__(self, **kwargs):\n",
    "        self.__dict__.update(kwargs)"
   ]
  },
  {
   "cell_type": "code",
   "execution_count": 4,
   "metadata": {},
   "outputs": [],
   "source": [
    "args_opt = Namespace(\n",
    "    exp = 'Vae_NonLinearClassifiers_ImageNet_RotNet_AlexNet_Features',\n",
    "    evaluate = False,\n",
    "    checkpoint = 4,\n",
    "    num_workers = 1,\n",
    "    cuda = True,\n",
    "    disp_step= 5\n",
    ")"
   ]
  },
  {
   "cell_type": "code",
   "execution_count": 5,
   "metadata": {},
   "outputs": [],
   "source": [
    "exp_config_file = os.path.join('.','config',args_opt.exp+'.py')\n",
    "# if args_opt.semi == -1:\n",
    "exp_directory = os.path.join('.','experiments',args_opt.exp)\n",
    "# else:\n",
    "#    assert(args_opt.semi>0)\n",
    "#    exp_directory = os.path.join('.','experiments/unsupervised',args_opt.exp+'_semi'+str(args_opt.semi))"
   ]
  },
  {
   "cell_type": "code",
   "execution_count": 6,
   "metadata": {},
   "outputs": [
    {
     "data": {
      "text/plain": [
       "'./config/Vae_NonLinearClassifiers_ImageNet_RotNet_AlexNet_Features.py'"
      ]
     },
     "execution_count": 6,
     "metadata": {},
     "output_type": "execute_result"
    }
   ],
   "source": [
    "exp_config_file"
   ]
  },
  {
   "cell_type": "code",
   "execution_count": 7,
   "metadata": {},
   "outputs": [
    {
     "name": "stdout",
     "output_type": "stream",
     "text": [
      "Launching experiment: ./config/Vae_NonLinearClassifiers_ImageNet_RotNet_AlexNet_Features.py\n",
      "Loading experiment Vae_NonLinearClassifiers_ImageNet_RotNet_AlexNet_Features from file: ./config/Vae_NonLinearClassifiers_ImageNet_RotNet_AlexNet_Features.py\n",
      "Generated logs, snapshots, and model files will be stored on ./experiments/Vae_NonLinearClassifiers_ImageNet_RotNet_AlexNet_Features\n"
     ]
    }
   ],
   "source": [
    "# Load the configuration params of the experiment\n",
    "print('Launching experiment: %s' % exp_config_file)\n",
    "config = imp.load_source(\"\",exp_config_file).config\n",
    "config['exp_dir'] = exp_directory # the place where logs, models, and other stuff will be stored\n",
    "print(\"Loading experiment %s from file: %s\" % (args_opt.exp, exp_config_file))\n",
    "print(\"Generated logs, snapshots, and model files will be stored on %s\" % (config['exp_dir']))"
   ]
  },
  {
   "cell_type": "code",
   "execution_count": 8,
   "metadata": {},
   "outputs": [],
   "source": [
    "# Set train and test datasets and the corresponding data loaders\n",
    "data_train_opt = config['data_train_opt']\n",
    "data_test_opt = config['data_test_opt']\n",
    "num_imgs_per_cat = data_train_opt['num_imgs_per_cat'] if ('num_imgs_per_cat' in data_train_opt) else None"
   ]
  },
  {
   "cell_type": "code",
   "execution_count": 9,
   "metadata": {},
   "outputs": [
    {
     "name": "stdout",
     "output_type": "stream",
     "text": [
      "custom\n"
     ]
    }
   ],
   "source": [
    "dataset_train = GenericDataset(\n",
    "    dataset_name=data_train_opt['dataset_name'],\n",
    "    split=data_train_opt['split'],\n",
    "    random_sized_crop=data_train_opt['random_sized_crop'],\n",
    "num_imgs_per_cat=num_imgs_per_cat)"
   ]
  },
  {
   "cell_type": "code",
   "execution_count": 10,
   "metadata": {},
   "outputs": [
    {
     "name": "stdout",
     "output_type": "stream",
     "text": [
      "custom\n"
     ]
    }
   ],
   "source": [
    "dataset_test = GenericDataset(\n",
    "    dataset_name=data_test_opt['dataset_name'],\n",
    "    split=data_test_opt['split'],\n",
    "    random_sized_crop=data_test_opt['random_sized_crop'])"
   ]
  },
  {
   "cell_type": "code",
   "execution_count": 11,
   "metadata": {},
   "outputs": [],
   "source": [
    "dloader_train = DataLoader(\n",
    "    dataset=dataset_train,\n",
    "    batch_size=data_train_opt['batch_size'],\n",
    "    unsupervised=data_train_opt['unsupervised'],\n",
    "    epoch_size=data_train_opt['epoch_size'],\n",
    "    num_workers=args_opt.num_workers,\n",
    "shuffle=True)"
   ]
  },
  {
   "cell_type": "code",
   "execution_count": 12,
   "metadata": {},
   "outputs": [],
   "source": [
    "dloader_test = DataLoader(\n",
    "    dataset=dataset_test,\n",
    "    batch_size=data_test_opt['batch_size'],\n",
    "    unsupervised=data_test_opt['unsupervised'],\n",
    "    epoch_size=data_test_opt['epoch_size'],\n",
    "    num_workers=args_opt.num_workers,\n",
    "shuffle=False)"
   ]
  },
  {
   "cell_type": "code",
   "execution_count": 13,
   "metadata": {},
   "outputs": [],
   "source": [
    "# import torchvision.datasets as datasets\n",
    "# import torchvision.transforms as transforms\n",
    "\n",
    "# trainDataDir = '/scratch/um367/DL/data/sampledata/supervised/train'\n",
    "# valDataDir = '/scratch/um367/DL/data/sampledata/supervised/val'\n",
    "\n",
    "# kwargs = {'num_workers': 1, 'pin_memory': True} if args_opt.cuda else {}\n",
    "\n",
    "# dloader_train = torch.utils.data.DataLoader(\n",
    "#     datasets.ImageFolder(trainDataDir, transform=transforms.ToTensor()),\n",
    "#     batch_size=data_train_opt['batch_size'], shuffle=True, **kwargs)\n",
    "\n",
    "# dloader_test = torch.utils.data.DataLoader(\n",
    "#     datasets.ImageFolder(valDataDir, transform=transforms.ToTensor()),\n",
    "#     batch_size=data_test_opt['batch_size'], shuffle=True, **kwargs)"
   ]
  },
  {
   "cell_type": "code",
   "execution_count": 14,
   "metadata": {},
   "outputs": [
    {
     "data": {
      "text/plain": [
       "64000"
      ]
     },
     "execution_count": 14,
     "metadata": {},
     "output_type": "execute_result"
    }
   ],
   "source": [
    "len(dloader_train.dataset)"
   ]
  },
  {
   "cell_type": "code",
   "execution_count": 15,
   "metadata": {},
   "outputs": [],
   "source": [
    "config['disp_step'] = args_opt.disp_step"
   ]
  },
  {
   "cell_type": "code",
   "execution_count": 16,
   "metadata": {
    "scrolled": false
   },
   "outputs": [
    {
     "name": "stderr",
     "output_type": "stream",
     "text": [
      "2019-05-15 05:26:52,832 - algorithms.Algorithm - INFO   - Algorithm options {'max_num_epochs': 40, 'disp_step': 5, 'algorithm_type': 'FeatureClassificationModel', 'criterions': {'loss': {'opt': None, 'ctype': 'CrossEntropyLoss'}}, 'data_test_opt': {'unsupervised': False, 'batch_size': 150, 'epoch_size': None, 'random_sized_crop': False, 'split': 'supervised/val', 'dataset_name': 'custom'}, 'exp_dir': './experiments/Vae_NonLinearClassifiers_ImageNet_RotNet_AlexNet_Features', 'out_feat_keys': ['conv5'], 'networks': {'classifier': {'opt': [{'cls_type': 'Vae', 'num_classes': 1000, 'nChannels': 256}], 'def_file': 'architectures/MultipleNonLinearClassifiers.py', 'optim_params': {'LUT_lr': [(10, 0.01), (20, 0.002), (30, 0.0004), (40, 8e-05)], 'nesterov': True, 'optim_type': 'sgd', 'lr': 0.1, 'weight_decay': 0.0005, 'momentum': 0.9}, 'pretrained': None}, 'feat_extractor': {'opt': {'num_classes': 4}, 'def_file': 'architectures/vaecnn.py', 'optim_params': None, 'pretrained': './vaetest3.pth.tar'}}, 'data_train_opt': {'unsupervised': False, 'batch_size': 150, 'epoch_size': None, 'random_sized_crop': False, 'split': 'supervised/train', 'dataset_name': 'custom'}}\n",
      "2019-05-15 05:26:52,834 - algorithms.Algorithm - INFO   - Set network classifier\n",
      "2019-05-15 05:26:52,836 - algorithms.Algorithm - INFO   - ==> Initiliaze network classifier from file architectures/MultipleNonLinearClassifiers.py with opts: [{'cls_type': 'Vae', 'num_classes': 1000, 'nChannels': 256}]\n"
     ]
    },
    {
     "name": "stdout",
     "output_type": "stream",
     "text": [
      "init_all_networks()\n",
      "[('classifier', {'opt': [{'cls_type': 'Vae', 'num_classes': 1000, 'nChannels': 256}], 'def_file': 'architectures/MultipleNonLinearClassifiers.py', 'optim_params': {'LUT_lr': [(10, 0.01), (20, 0.002), (30, 0.0004), (40, 8e-05)], 'nesterov': True, 'optim_type': 'sgd', 'lr': 0.1, 'weight_decay': 0.0005, 'momentum': 0.9}, 'pretrained': None}), ('feat_extractor', {'opt': {'num_classes': 4}, 'def_file': 'architectures/vaecnn.py', 'optim_params': None, 'pretrained': './vaetest3.pth.tar'})]\n"
     ]
    },
    {
     "name": "stderr",
     "output_type": "stream",
     "text": [
      "2019-05-15 05:26:53,970 - algorithms.Algorithm - INFO   - Set network feat_extractor\n",
      "2019-05-15 05:26:53,973 - algorithms.Algorithm - INFO   - ==> Initiliaze network feat_extractor from file architectures/vaecnn.py with opts: {'num_classes': 4}\n",
      "2019-05-15 05:26:54,424 - algorithms.Algorithm - INFO   - ==> Load pretrained parameters from file ./vaetest3.pth.tar:\n",
      "2019-05-15 05:27:11,525 - algorithms.Algorithm - INFO   - Initialize criterion[loss]: CrossEntropyLoss with options: None\n"
     ]
    },
    {
     "name": "stdout",
     "output_type": "stream",
     "text": [
      "init_all_criterions()\n",
      "allocate_tensors()\n"
     ]
    }
   ],
   "source": [
    "algorithm = getattr(alg, config['algorithm_type'])(config)"
   ]
  },
  {
   "cell_type": "code",
   "execution_count": 17,
   "metadata": {},
   "outputs": [
    {
     "data": {
      "text/plain": [
       "9216"
      ]
     },
     "execution_count": 17,
     "metadata": {},
     "output_type": "execute_result"
    }
   ],
   "source": [
    "# device = torch.device(\"cuda\")\n",
    "# device\n",
    "256*6*6"
   ]
  },
  {
   "cell_type": "code",
   "execution_count": 18,
   "metadata": {},
   "outputs": [
    {
     "name": "stderr",
     "output_type": "stream",
     "text": [
      "2019-05-15 05:27:11,749 - algorithms.Algorithm - INFO   - Load checkpoint of epoch 4\n",
      "2019-05-15 05:27:12,472 - algorithms.Algorithm - INFO   - Initialize optimizer: sgd with params: {'LUT_lr': [(10, 0.01), (20, 0.002), (30, 0.0004), (40, 8e-05)], 'nesterov': True, 'optim_type': 'sgd', 'lr': 0.1, 'weight_decay': 0.0005, 'momentum': 0.9} for netwotk: classifier\n"
     ]
    }
   ],
   "source": [
    "if args_opt.cuda: # enable cuda\n",
    "#     if torch.cuda.device_count() > 1:\n",
    "#         algorithm = nn.DataParallel(algorithm)\n",
    "    algorithm.load_to_gpu()\n",
    "#     algorithm.to(device)\n",
    "if args_opt.checkpoint > 0: # load checkpoint\n",
    "    algorithm.load_checkpoint(args_opt.checkpoint, train= (not args_opt.evaluate))"
   ]
  },
  {
   "cell_type": "code",
   "execution_count": null,
   "metadata": {
    "scrolled": false
   },
   "outputs": [
    {
     "name": "stderr",
     "output_type": "stream",
     "text": [
      "2019-05-15 05:27:13,158 - algorithms.Algorithm - INFO   - Training epoch [  5 /  40]\n",
      "2019-05-15 05:27:13,161 - algorithms.Algorithm - INFO   - ==> Set to classifier optimizer lr = 0.0100000000\n",
      "2019-05-15 05:27:13,163 - algorithms.Algorithm - INFO   - Training: Vae_NonLinearClassifiers_ImageNet_RotNet_AlexNet_Features\n",
      "  1%|          | 4/427 [00:14<28:35,  4.05s/it]2019-05-15 05:27:32,065 - algorithms.Algorithm - INFO   - ==> Iteration [  5][   5 /  426]: {'process_time': 82.5668, 'prec5_c1': 13.8667, 'loss': 5.8078, 'prec1_c1': 5.3333, 'load_time': 17.4332}\n",
      "  2%|▏         | 9/427 [00:32<25:08,  3.61s/it]2019-05-15 05:27:48,794 - algorithms.Algorithm - INFO   - ==> Iteration [  5][  10 /  426]: {'process_time': 83.1142, 'prec5_c1': 13.6667, 'loss': 5.8209, 'prec1_c1': 5.0667, 'load_time': 16.8858}\n",
      "  3%|▎         | 14/427 [00:48<22:44,  3.30s/it]2019-05-15 05:28:05,112 - algorithms.Algorithm - INFO   - ==> Iteration [  5][  15 /  426]: {'process_time': 82.1117, 'prec5_c1': 13.7333, 'loss': 5.7972, 'prec1_c1': 5.1556, 'load_time': 17.8883}\n",
      "  4%|▍         | 19/427 [01:05<22:58,  3.38s/it]2019-05-15 05:28:22,256 - algorithms.Algorithm - INFO   - ==> Iteration [  5][  20 /  426]: {'process_time': 81.8105, 'prec5_c1': 13.6333, 'loss': 5.796, 'prec1_c1': 5.1333, 'load_time': 18.1895}\n",
      "  6%|▌         | 24/427 [01:21<21:08,  3.15s/it]2019-05-15 05:28:38,624 - algorithms.Algorithm - INFO   - ==> Iteration [  5][  25 /  426]: {'process_time': 81.5854, 'prec5_c1': 13.3333, 'loss': 5.797, 'prec1_c1': 5.1733, 'load_time': 18.4146}\n",
      "  7%|▋         | 29/427 [01:37<19:52,  3.00s/it]2019-05-15 05:28:53,232 - algorithms.Algorithm - INFO   - ==> Iteration [  5][  30 /  426]: {'process_time': 80.7027, 'prec5_c1': 13.0889, 'loss': 5.8104, 'prec1_c1': 5.0222, 'load_time': 19.2973}\n",
      "  8%|▊         | 34/427 [01:53<20:35,  3.14s/it]2019-05-15 05:29:09,105 - algorithms.Algorithm - INFO   - ==> Iteration [  5][  35 /  426]: {'process_time': 80.6492, 'prec5_c1': 13.0095, 'loss': 5.8094, 'prec1_c1': 4.9714, 'load_time': 19.3508}\n",
      "  9%|▉         | 39/427 [02:08<19:40,  3.04s/it]2019-05-15 05:29:24,074 - algorithms.Algorithm - INFO   - ==> Iteration [  5][  40 /  426]: {'process_time': 80.5593, 'prec5_c1': 13.0, 'loss': 5.8039, 'prec1_c1': 5.0167, 'load_time': 19.4407}\n",
      " 10%|█         | 44/427 [02:23<19:40,  3.08s/it]2019-05-15 05:29:39,859 - algorithms.Algorithm - INFO   - ==> Iteration [  5][  45 /  426]: {'process_time': 80.307, 'prec5_c1': 12.9333, 'loss': 5.8065, 'prec1_c1': 5.0074, 'load_time': 19.693}\n",
      " 11%|█▏        | 49/427 [02:38<18:33,  2.95s/it]2019-05-15 05:29:55,035 - algorithms.Algorithm - INFO   - ==> Iteration [  5][  50 /  426]: {'process_time': 80.7181, 'prec5_c1': 12.72, 'loss': 5.8153, 'prec1_c1': 4.8133, 'load_time': 19.2819}\n",
      " 13%|█▎        | 54/427 [02:53<18:40,  3.00s/it]2019-05-15 05:30:10,741 - algorithms.Algorithm - INFO   - ==> Iteration [  5][  55 /  426]: {'process_time': 79.7931, 'prec5_c1': 12.7273, 'loss': 5.8241, 'prec1_c1': 4.7758, 'load_time': 20.2069}\n",
      " 14%|█▍        | 59/427 [03:09<18:43,  3.05s/it]2019-05-15 05:30:25,545 - algorithms.Algorithm - INFO   - ==> Iteration [  5][  60 /  426]: {'process_time': 79.754, 'prec5_c1': 12.6444, 'loss': 5.8293, 'prec1_c1': 4.8, 'load_time': 20.246}\n",
      " 15%|█▍        | 64/427 [03:24<17:33,  2.90s/it]2019-05-15 05:30:40,319 - algorithms.Algorithm - INFO   - ==> Iteration [  5][  65 /  426]: {'process_time': 79.2135, 'prec5_c1': 12.5128, 'loss': 5.8366, 'prec1_c1': 4.6564, 'load_time': 20.7865}\n",
      " 16%|█▌        | 69/427 [03:39<17:42,  2.97s/it]2019-05-15 05:30:55,494 - algorithms.Algorithm - INFO   - ==> Iteration [  5][  70 /  426]: {'process_time': 79.0201, 'prec5_c1': 12.4476, 'loss': 5.8386, 'prec1_c1': 4.6286, 'load_time': 20.9799}\n",
      " 17%|█▋        | 74/427 [03:54<17:41,  3.01s/it]2019-05-15 05:31:10,975 - algorithms.Algorithm - INFO   - ==> Iteration [  5][  75 /  426]: {'process_time': 79.0653, 'prec5_c1': 12.3822, 'loss': 5.84, 'prec1_c1': 4.5778, 'load_time': 20.9347}\n",
      " 19%|█▊        | 79/427 [04:10<19:04,  3.29s/it]2019-05-15 05:31:27,244 - algorithms.Algorithm - INFO   - ==> Iteration [  5][  80 /  426]: {'process_time': 79.3077, 'prec5_c1': 12.2917, 'loss': 5.8422, 'prec1_c1': 4.5917, 'load_time': 20.6923}\n",
      " 20%|█▉        | 84/427 [04:26<18:06,  3.17s/it]2019-05-15 05:31:42,249 - algorithms.Algorithm - INFO   - ==> Iteration [  5][  85 /  426]: {'process_time': 78.9814, 'prec5_c1': 12.2431, 'loss': 5.842, 'prec1_c1': 4.6118, 'load_time': 21.0186}\n",
      " 21%|██        | 89/427 [04:41<17:53,  3.18s/it]2019-05-15 05:31:57,906 - algorithms.Algorithm - INFO   - ==> Iteration [  5][  90 /  426]: {'process_time': 78.9168, 'prec5_c1': 12.4519, 'loss': 5.8351, 'prec1_c1': 4.6667, 'load_time': 21.0832}\n",
      " 22%|██▏       | 94/427 [04:58<19:17,  3.47s/it]2019-05-15 05:32:15,295 - algorithms.Algorithm - INFO   - ==> Iteration [  5][  95 /  426]: {'process_time': 79.2999, 'prec5_c1': 12.3368, 'loss': 5.8398, 'prec1_c1': 4.6526, 'load_time': 20.7001}\n",
      " 23%|██▎       | 99/427 [05:13<16:44,  3.06s/it]2019-05-15 05:32:30,207 - algorithms.Algorithm - INFO   - ==> Iteration [  5][ 100 /  426]: {'process_time': 79.2257, 'prec5_c1': 12.2867, 'loss': 5.8396, 'prec1_c1': 4.6, 'load_time': 20.7743}\n",
      " 24%|██▍       | 104/427 [05:29<16:22,  3.04s/it]2019-05-15 05:32:45,223 - algorithms.Algorithm - INFO   - ==> Iteration [  5][ 105 /  426]: {'process_time': 79.2155, 'prec5_c1': 12.3365, 'loss': 5.8408, 'prec1_c1': 4.5587, 'load_time': 20.7845}\n",
      " 26%|██▌       | 109/427 [05:44<16:34,  3.13s/it]2019-05-15 05:33:00,933 - algorithms.Algorithm - INFO   - ==> Iteration [  5][ 110 /  426]: {'process_time': 79.4634, 'prec5_c1': 12.2848, 'loss': 5.8429, 'prec1_c1': 4.5273, 'load_time': 20.5366}\n",
      " 27%|██▋       | 114/427 [06:00<16:02,  3.08s/it]2019-05-15 05:33:16,462 - algorithms.Algorithm - INFO   - ==> Iteration [  5][ 115 /  426]: {'process_time': 79.4347, 'prec5_c1': 12.2493, 'loss': 5.8448, 'prec1_c1': 4.5043, 'load_time': 20.5653}\n",
      " 28%|██▊       | 119/427 [06:15<16:19,  3.18s/it]2019-05-15 05:33:31,551 - algorithms.Algorithm - INFO   - ==> Iteration [  5][ 120 /  426]: {'process_time': 79.3496, 'prec5_c1': 12.1389, 'loss': 5.8488, 'prec1_c1': 4.4444, 'load_time': 20.6504}\n",
      " 29%|██▉       | 124/427 [06:29<14:39,  2.90s/it]2019-05-15 05:33:46,070 - algorithms.Algorithm - INFO   - ==> Iteration [  5][ 125 /  426]: {'process_time': 79.3712, 'prec5_c1': 12.1227, 'loss': 5.8499, 'prec1_c1': 4.448, 'load_time': 20.6288}\n",
      " 30%|███       | 129/427 [06:43<13:37,  2.74s/it]2019-05-15 05:33:59,470 - algorithms.Algorithm - INFO   - ==> Iteration [  5][ 130 /  426]: {'process_time': 79.1019, 'prec5_c1': 12.1538, 'loss': 5.85, 'prec1_c1': 4.4359, 'load_time': 20.8981}\n",
      " 31%|███▏      | 134/427 [06:58<14:47,  3.03s/it]2019-05-15 05:34:14,706 - algorithms.Algorithm - INFO   - ==> Iteration [  5][ 135 /  426]: {'process_time': 79.2413, 'prec5_c1': 12.0938, 'loss': 5.8508, 'prec1_c1': 4.3951, 'load_time': 20.7587}\n",
      " 33%|███▎      | 139/427 [07:13<14:01,  2.92s/it]2019-05-15 05:34:29,084 - algorithms.Algorithm - INFO   - ==> Iteration [  5][ 140 /  426]: {'process_time': 79.2149, 'prec5_c1': 12.0952, 'loss': 5.8502, 'prec1_c1': 4.3571, 'load_time': 20.7851}\n",
      " 34%|███▎      | 144/427 [07:28<15:19,  3.25s/it]2019-05-15 05:34:45,371 - algorithms.Algorithm - INFO   - ==> Iteration [  5][ 145 /  426]: {'process_time': 79.4332, 'prec5_c1': 12.046, 'loss': 5.8533, 'prec1_c1': 4.3402, 'load_time': 20.5668}\n",
      " 35%|███▍      | 149/427 [07:44<14:11,  3.06s/it]2019-05-15 05:35:00,886 - algorithms.Algorithm - INFO   - ==> Iteration [  5][ 150 /  426]: {'process_time': 79.572, 'prec5_c1': 12.0489, 'loss': 5.8533, 'prec1_c1': 4.3022, 'load_time': 20.428}\n",
      " 36%|███▌      | 154/427 [08:00<13:57,  3.07s/it]2019-05-15 05:35:16,717 - algorithms.Algorithm - INFO   - ==> Iteration [  5][ 155 /  426]: {'process_time': 79.5394, 'prec5_c1': 12.0989, 'loss': 5.8534, 'prec1_c1': 4.3226, 'load_time': 20.4606}\n",
      " 37%|███▋      | 159/427 [08:16<14:14,  3.19s/it]2019-05-15 05:35:32,110 - algorithms.Algorithm - INFO   - ==> Iteration [  5][ 160 /  426]: {'process_time': 79.6057, 'prec5_c1': 12.0917, 'loss': 5.8543, 'prec1_c1': 4.3, 'load_time': 20.3943}\n",
      " 38%|███▊      | 164/427 [08:32<14:10,  3.24s/it]2019-05-15 05:35:48,040 - algorithms.Algorithm - INFO   - ==> Iteration [  5][ 165 /  426]: {'process_time': 79.794, 'prec5_c1': 12.0202, 'loss': 5.8573, 'prec1_c1': 4.2747, 'load_time': 20.206}\n"
     ]
    },
    {
     "name": "stderr",
     "output_type": "stream",
     "text": [
      " 40%|███▉      | 169/427 [08:48<14:29,  3.37s/it]2019-05-15 05:36:06,403 - algorithms.Algorithm - INFO   - ==> Iteration [  5][ 170 /  426]: {'process_time': 79.789, 'prec5_c1': 12.0824, 'loss': 5.8576, 'prec1_c1': 4.2902, 'load_time': 20.211}\n",
      " 41%|████      | 174/427 [09:06<13:56,  3.31s/it]2019-05-15 05:36:22,257 - algorithms.Algorithm - INFO   - ==> Iteration [  5][ 175 /  426]: {'process_time': 79.9567, 'prec5_c1': 12.0229, 'loss': 5.8575, 'prec1_c1': 4.2514, 'load_time': 20.0433}\n",
      " 42%|████▏     | 179/427 [09:21<12:45,  3.09s/it]2019-05-15 05:36:37,200 - algorithms.Algorithm - INFO   - ==> Iteration [  5][ 180 /  426]: {'process_time': 80.0548, 'prec5_c1': 12.0222, 'loss': 5.8579, 'prec1_c1': 4.2519, 'load_time': 19.9452}\n",
      " 43%|████▎     | 184/427 [09:36<12:34,  3.11s/it]2019-05-15 05:36:52,683 - algorithms.Algorithm - INFO   - ==> Iteration [  5][ 185 /  426]: {'process_time': 79.8314, 'prec5_c1': 12.0468, 'loss': 5.8579, 'prec1_c1': 4.2595, 'load_time': 20.1686}\n",
      " 44%|████▍     | 189/427 [09:51<11:59,  3.02s/it]2019-05-15 05:37:07,994 - algorithms.Algorithm - INFO   - ==> Iteration [  5][ 190 /  426]: {'process_time': 80.0281, 'prec5_c1': 12.0596, 'loss': 5.8583, 'prec1_c1': 4.2526, 'load_time': 19.9719}\n",
      " 45%|████▌     | 194/427 [10:07<12:40,  3.26s/it]2019-05-15 05:37:24,280 - algorithms.Algorithm - INFO   - ==> Iteration [  5][ 195 /  426]: {'process_time': 80.0699, 'prec5_c1': 12.0547, 'loss': 5.8584, 'prec1_c1': 4.2598, 'load_time': 19.9301}\n",
      " 47%|████▋     | 199/427 [10:26<13:41,  3.60s/it]2019-05-15 05:37:42,780 - algorithms.Algorithm - INFO   - ==> Iteration [  5][ 200 /  426]: {'process_time': 80.2012, 'prec5_c1': 12.06, 'loss': 5.8573, 'prec1_c1': 4.2467, 'load_time': 19.7988}\n",
      " 48%|████▊     | 204/427 [10:41<11:09,  3.00s/it]2019-05-15 05:37:57,579 - algorithms.Algorithm - INFO   - ==> Iteration [  5][ 205 /  426]: {'process_time': 80.2035, 'prec5_c1': 12.0488, 'loss': 5.8573, 'prec1_c1': 4.2407, 'load_time': 19.7965}\n",
      " 49%|████▉     | 209/427 [10:56<11:05,  3.05s/it]2019-05-15 05:38:13,961 - algorithms.Algorithm - INFO   - ==> Iteration [  5][ 210 /  426]: {'process_time': 80.1134, 'prec5_c1': 12.0222, 'loss': 5.8567, 'prec1_c1': 4.2127, 'load_time': 19.8866}\n",
      " 50%|█████     | 214/427 [11:13<11:26,  3.22s/it]2019-05-15 05:38:29,748 - algorithms.Algorithm - INFO   - ==> Iteration [  5][ 215 /  426]: {'process_time': 80.1302, 'prec5_c1': 12.0062, 'loss': 5.8582, 'prec1_c1': 4.1922, 'load_time': 19.8698}\n",
      " 51%|█████▏    | 219/427 [11:30<11:51,  3.42s/it]2019-05-15 05:38:46,367 - algorithms.Algorithm - INFO   - ==> Iteration [  5][ 220 /  426]: {'process_time': 80.055, 'prec5_c1': 12.0, 'loss': 5.859, 'prec1_c1': 4.1848, 'load_time': 19.945}\n",
      " 52%|█████▏    | 224/427 [11:45<10:52,  3.22s/it]2019-05-15 05:39:01,797 - algorithms.Algorithm - INFO   - ==> Iteration [  5][ 225 /  426]: {'process_time': 80.1298, 'prec5_c1': 12.0059, 'loss': 5.8583, 'prec1_c1': 4.1778, 'load_time': 19.8702}\n",
      " 54%|█████▎    | 229/427 [12:01<11:03,  3.35s/it]2019-05-15 05:39:18,123 - algorithms.Algorithm - INFO   - ==> Iteration [  5][ 230 /  426]: {'process_time': 80.2082, 'prec5_c1': 12.0319, 'loss': 5.8575, 'prec1_c1': 4.1884, 'load_time': 19.7918}\n",
      " 55%|█████▍    | 234/427 [12:18<10:53,  3.38s/it]2019-05-15 05:39:35,003 - algorithms.Algorithm - INFO   - ==> Iteration [  5][ 235 /  426]: {'process_time': 80.1922, 'prec5_c1': 12.0567, 'loss': 5.8577, 'prec1_c1': 4.1986, 'load_time': 19.8078}\n",
      " 56%|█████▌    | 239/427 [12:35<11:23,  3.63s/it]2019-05-15 05:39:52,670 - algorithms.Algorithm - INFO   - ==> Iteration [  5][ 240 /  426]: {'process_time': 80.2026, 'prec5_c1': 12.0306, 'loss': 5.86, 'prec1_c1': 4.1667, 'load_time': 19.7974}\n",
      " 57%|█████▋    | 244/427 [12:53<10:24,  3.41s/it]2019-05-15 05:40:09,766 - algorithms.Algorithm - INFO   - ==> Iteration [  5][ 245 /  426]: {'process_time': 80.1755, 'prec5_c1': 12.0381, 'loss': 5.8583, 'prec1_c1': 4.1714, 'load_time': 19.8245}\n",
      " 58%|█████▊    | 249/427 [13:10<09:59,  3.37s/it]2019-05-15 05:40:26,566 - algorithms.Algorithm - INFO   - ==> Iteration [  5][ 250 /  426]: {'process_time': 80.3156, 'prec5_c1': 12.0747, 'loss': 5.8555, 'prec1_c1': 4.1733, 'load_time': 19.6844}\n",
      " 59%|█████▉    | 254/427 [13:26<09:27,  3.28s/it]2019-05-15 05:40:42,945 - algorithms.Algorithm - INFO   - ==> Iteration [  5][ 255 /  426]: {'process_time': 80.3637, 'prec5_c1': 12.0889, 'loss': 5.8546, 'prec1_c1': 4.1569, 'load_time': 19.6363}\n",
      " 61%|██████    | 259/427 [13:41<08:43,  3.11s/it]2019-05-15 05:40:58,113 - algorithms.Algorithm - INFO   - ==> Iteration [  5][ 260 /  426]: {'process_time': 80.4659, 'prec5_c1': 12.0667, 'loss': 5.8558, 'prec1_c1': 4.1615, 'load_time': 19.5341}\n",
      " 62%|██████▏   | 264/427 [13:57<08:47,  3.24s/it]2019-05-15 05:41:14,362 - algorithms.Algorithm - INFO   - ==> Iteration [  5][ 265 /  426]: {'process_time': 80.5174, 'prec5_c1': 12.0629, 'loss': 5.8556, 'prec1_c1': 4.1987, 'load_time': 19.4826}\n",
      " 63%|██████▎   | 269/427 [14:13<08:11,  3.11s/it]2019-05-15 05:41:29,468 - algorithms.Algorithm - INFO   - ==> Iteration [  5][ 270 /  426]: {'process_time': 80.5685, 'prec5_c1': 12.0716, 'loss': 5.8553, 'prec1_c1': 4.1852, 'load_time': 19.4315}\n",
      " 64%|██████▍   | 274/427 [14:28<07:47,  3.06s/it]2019-05-15 05:41:44,794 - algorithms.Algorithm - INFO   - ==> Iteration [  5][ 275 /  426]: {'process_time': 80.6085, 'prec5_c1': 12.1139, 'loss': 5.8536, 'prec1_c1': 4.1939, 'load_time': 19.3915}\n",
      " 65%|██████▌   | 279/427 [14:46<09:31,  3.86s/it]2019-05-15 05:42:03,018 - algorithms.Algorithm - INFO   - ==> Iteration [  5][ 280 /  426]: {'process_time': 80.5097, 'prec5_c1': 12.1119, 'loss': 5.8532, 'prec1_c1': 4.1833, 'load_time': 19.4903}\n",
      " 67%|██████▋   | 284/427 [15:03<08:22,  3.52s/it]2019-05-15 05:42:20,455 - algorithms.Algorithm - INFO   - ==> Iteration [  5][ 285 /  426]: {'process_time': 80.6664, 'prec5_c1': 12.1216, 'loss': 5.8541, 'prec1_c1': 4.1942, 'load_time': 19.3336}\n",
      " 68%|██████▊   | 289/427 [15:23<08:54,  3.87s/it]2019-05-15 05:42:39,961 - algorithms.Algorithm - INFO   - ==> Iteration [  5][ 290 /  426]: {'process_time': 80.7579, 'prec5_c1': 12.1402, 'loss': 5.8531, 'prec1_c1': 4.177, 'load_time': 19.2421}\n",
      " 69%|██████▉   | 294/427 [15:41<08:35,  3.87s/it]2019-05-15 05:42:59,137 - algorithms.Algorithm - INFO   - ==> Iteration [  5][ 295 /  426]: {'process_time': 80.7731, 'prec5_c1': 12.1492, 'loss': 5.8531, 'prec1_c1': 4.1921, 'load_time': 19.2269}\n",
      " 70%|███████   | 299/427 [15:59<07:22,  3.46s/it]2019-05-15 05:43:15,559 - algorithms.Algorithm - INFO   - ==> Iteration [  5][ 300 /  426]: {'process_time': 80.9243, 'prec5_c1': 12.1311, 'loss': 5.855, 'prec1_c1': 4.1822, 'load_time': 19.0757}\n",
      " 71%|███████   | 304/427 [16:16<07:29,  3.65s/it]2019-05-15 05:43:32,237 - algorithms.Algorithm - INFO   - ==> Iteration [  5][ 305 /  426]: {'process_time': 80.8437, 'prec5_c1': 12.1464, 'loss': 5.8561, 'prec1_c1': 4.1792, 'load_time': 19.1563}\n",
      " 72%|███████▏  | 309/427 [16:31<06:14,  3.17s/it]2019-05-15 05:43:48,000 - algorithms.Algorithm - INFO   - ==> Iteration [  5][ 310 /  426]: {'process_time': 80.8937, 'prec5_c1': 12.1204, 'loss': 5.8569, 'prec1_c1': 4.1699, 'load_time': 19.1063}\n",
      " 74%|███████▎  | 314/427 [16:47<06:05,  3.23s/it]2019-05-15 05:44:03,913 - algorithms.Algorithm - INFO   - ==> Iteration [  5][ 315 /  426]: {'process_time': 80.9819, 'prec5_c1': 12.1355, 'loss': 5.8564, 'prec1_c1': 4.1651, 'load_time': 19.0181}\n",
      " 75%|███████▍  | 319/427 [17:03<05:37,  3.12s/it]2019-05-15 05:44:19,181 - algorithms.Algorithm - INFO   - ==> Iteration [  5][ 320 /  426]: {'process_time': 80.9756, 'prec5_c1': 12.1458, 'loss': 5.8554, 'prec1_c1': 4.1708, 'load_time': 19.0244}\n",
      " 76%|███████▌  | 324/427 [17:18<05:12,  3.04s/it]2019-05-15 05:44:34,864 - algorithms.Algorithm - INFO   - ==> Iteration [  5][ 325 /  426]: {'process_time': 81.028, 'prec5_c1': 12.1231, 'loss': 5.857, 'prec1_c1': 4.1538, 'load_time': 18.972}\n",
      " 77%|███████▋  | 329/427 [17:34<05:20,  3.27s/it]2019-05-15 05:44:50,939 - algorithms.Algorithm - INFO   - ==> Iteration [  5][ 330 /  426]: {'process_time': 81.0556, 'prec5_c1': 12.1455, 'loss': 5.8579, 'prec1_c1': 4.1657, 'load_time': 18.9444}\n",
      " 78%|███████▊  | 334/427 [17:49<04:34,  2.95s/it]2019-05-15 05:45:06,063 - algorithms.Algorithm - INFO   - ==> Iteration [  5][ 335 /  426]: {'process_time': 81.1452, 'prec5_c1': 12.1572, 'loss': 5.8578, 'prec1_c1': 4.1692, 'load_time': 18.8548}\n"
     ]
    },
    {
     "name": "stderr",
     "output_type": "stream",
     "text": [
      " 79%|███████▉  | 339/427 [18:07<05:08,  3.51s/it]2019-05-15 05:45:24,175 - algorithms.Algorithm - INFO   - ==> Iteration [  5][ 340 /  426]: {'process_time': 81.1187, 'prec5_c1': 12.1882, 'loss': 5.857, 'prec1_c1': 4.1765, 'load_time': 18.8813}\n",
      " 81%|████████  | 344/427 [18:25<04:55,  3.56s/it]2019-05-15 05:45:41,823 - algorithms.Algorithm - INFO   - ==> Iteration [  5][ 345 /  426]: {'process_time': 81.1867, 'prec5_c1': 12.1739, 'loss': 5.8571, 'prec1_c1': 4.1874, 'load_time': 18.8133}\n",
      " 82%|████████▏ | 349/427 [18:42<04:27,  3.43s/it]2019-05-15 05:45:58,869 - algorithms.Algorithm - INFO   - ==> Iteration [  5][ 350 /  426]: {'process_time': 81.0967, 'prec5_c1': 12.1505, 'loss': 5.8582, 'prec1_c1': 4.1733, 'load_time': 18.9033}\n",
      " 83%|████████▎ | 354/427 [18:59<04:18,  3.54s/it]2019-05-15 05:46:15,945 - algorithms.Algorithm - INFO   - ==> Iteration [  5][ 355 /  426]: {'process_time': 81.2236, 'prec5_c1': 12.1408, 'loss': 5.8581, 'prec1_c1': 4.1634, 'load_time': 18.7764}\n",
      " 84%|████████▍ | 359/427 [19:15<03:47,  3.34s/it]2019-05-15 05:46:32,305 - algorithms.Algorithm - INFO   - ==> Iteration [  5][ 360 /  426]: {'process_time': 81.2003, 'prec5_c1': 12.1315, 'loss': 5.8589, 'prec1_c1': 4.1574, 'load_time': 18.7997}\n",
      " 85%|████████▌ | 364/427 [19:32<03:34,  3.41s/it]2019-05-15 05:46:48,736 - algorithms.Algorithm - INFO   - ==> Iteration [  5][ 365 /  426]: {'process_time': 81.3024, 'prec5_c1': 12.1279, 'loss': 5.8588, 'prec1_c1': 4.1553, 'load_time': 18.6976}\n",
      " 86%|████████▋ | 369/427 [19:51<03:25,  3.54s/it]2019-05-15 05:47:08,012 - algorithms.Algorithm - INFO   - ==> Iteration [  5][ 370 /  426]: {'process_time': 81.3228, 'prec5_c1': 12.1514, 'loss': 5.8575, 'prec1_c1': 4.1874, 'load_time': 18.6772}\n",
      " 88%|████████▊ | 374/427 [20:07<02:49,  3.20s/it]2019-05-15 05:47:23,388 - algorithms.Algorithm - INFO   - ==> Iteration [  5][ 375 /  426]: {'process_time': 81.3041, 'prec5_c1': 12.1387, 'loss': 5.8584, 'prec1_c1': 4.1867, 'load_time': 18.6959}\n",
      " 89%|████████▉ | 379/427 [20:22<02:33,  3.19s/it]2019-05-15 05:47:38,602 - algorithms.Algorithm - INFO   - ==> Iteration [  5][ 380 /  426]: {'process_time': 81.2861, 'prec5_c1': 12.1351, 'loss': 5.8586, 'prec1_c1': 4.193, 'load_time': 18.7139}\n",
      " 90%|████████▉ | 384/427 [20:38<02:15,  3.16s/it]2019-05-15 05:47:55,086 - algorithms.Algorithm - INFO   - ==> Iteration [  5][ 385 /  426]: {'process_time': 81.2792, 'prec5_c1': 12.1316, 'loss': 5.8601, 'prec1_c1': 4.1766, 'load_time': 18.7208}\n",
      " 91%|█████████ | 389/427 [20:57<02:24,  3.79s/it]2019-05-15 05:48:13,601 - algorithms.Algorithm - INFO   - ==> Iteration [  5][ 390 /  426]: {'process_time': 81.3425, 'prec5_c1': 12.1043, 'loss': 5.8615, 'prec1_c1': 4.1607, 'load_time': 18.6575}\n",
      " 92%|█████████▏| 394/427 [21:13<01:49,  3.31s/it]2019-05-15 05:48:29,893 - algorithms.Algorithm - INFO   - ==> Iteration [  5][ 395 /  426]: {'process_time': 81.3817, 'prec5_c1': 12.1046, 'loss': 5.8625, 'prec1_c1': 4.1401, 'load_time': 18.6183}\n",
      " 93%|█████████▎| 399/427 [21:31<01:40,  3.58s/it]2019-05-15 05:48:46,902 - algorithms.Algorithm - INFO   - ==> Iteration [  5][ 400 /  426]: {'process_time': 81.4493, 'prec5_c1': 12.09, 'loss': 5.8634, 'prec1_c1': 4.1233, 'load_time': 18.5507}\n",
      " 95%|█████████▍| 404/427 [21:47<01:19,  3.45s/it]2019-05-15 05:49:05,466 - algorithms.Algorithm - INFO   - ==> Iteration [  5][ 405 /  426]: {'process_time': 81.5357, 'prec5_c1': 12.0988, 'loss': 5.8639, 'prec1_c1': 4.1152, 'load_time': 18.4643}\n",
      " 96%|█████████▌| 409/427 [22:08<01:08,  3.80s/it]2019-05-15 05:49:24,823 - algorithms.Algorithm - INFO   - ==> Iteration [  5][ 410 /  426]: {'process_time': 81.5998, 'prec5_c1': 12.1089, 'loss': 5.8633, 'prec1_c1': 4.1171, 'load_time': 18.4002}\n",
      " 97%|█████████▋| 414/427 [22:24<00:43,  3.33s/it]2019-05-15 05:49:41,478 - algorithms.Algorithm - INFO   - ==> Iteration [  5][ 415 /  426]: {'process_time': 81.4444, 'prec5_c1': 12.1076, 'loss': 5.8636, 'prec1_c1': 4.1141, 'load_time': 18.5556}\n",
      " 98%|█████████▊| 419/427 [22:41<00:26,  3.26s/it]2019-05-15 05:49:57,593 - algorithms.Algorithm - INFO   - ==> Iteration [  5][ 420 /  426]: {'process_time': 81.4467, 'prec5_c1': 12.1, 'loss': 5.8636, 'prec1_c1': 4.119, 'load_time': 18.5533}\n",
      " 99%|█████████▉| 424/427 [22:56<00:09,  3.15s/it]2019-05-15 05:50:13,928 - algorithms.Algorithm - INFO   - ==> Iteration [  5][ 425 /  426]: {'process_time': 81.4233, 'prec5_c1': 12.1114, 'loss': 5.8634, 'prec1_c1': 4.1239, 'load_time': 18.5767}\n",
      "100%|██████████| 427/427 [23:05<00:00,  2.91s/it]\n",
      "2019-05-15 05:50:19,119 - algorithms.Algorithm - INFO   - ==> Training stats: {'process_time': 81.4623, 'prec5_c1': 12.1109, 'loss': 5.8635, 'prec1_c1': 4.1171, 'load_time': 18.5377}\n",
      "2019-05-15 05:50:20,153 - algorithms.Algorithm - INFO   - Evaluating: Vae_NonLinearClassifiers_ImageNet_RotNet_AlexNet_Features\n",
      "2019-05-15 05:50:20,158 - algorithms.Algorithm - INFO   - ==> Dataset: custom_supervised/val [64000 images]\n",
      "100%|██████████| 427/427 [19:36<00:00,  2.24s/it]\n",
      "2019-05-15 06:09:56,624 - algorithms.Algorithm - INFO   - ==> Results: {'process_time': 78.7489, 'prec5_c1': 11.7518, 'loss': 5.992, 'prec1_c1': 4.146, 'load_time': 21.2511}\n",
      "2019-05-15 06:09:56,646 - algorithms.Algorithm - INFO   - ==> Evaluation stats: {'process_time': 78.7489, 'prec5_c1': 11.7518, 'loss': 5.992, 'prec1_c1': 4.146, 'load_time': 21.2511}\n",
      "2019-05-15 06:09:56,648 - algorithms.Algorithm - INFO   - Training epoch [  6 /  40]\n",
      "2019-05-15 06:09:56,649 - algorithms.Algorithm - INFO   - ==> Set to classifier optimizer lr = 0.0100000000\n",
      "2019-05-15 06:09:56,650 - algorithms.Algorithm - INFO   - Training: Vae_NonLinearClassifiers_ImageNet_RotNet_AlexNet_Features\n",
      "  1%|          | 4/427 [00:15<28:55,  4.10s/it]2019-05-15 06:10:15,503 - algorithms.Algorithm - INFO   - ==> Iteration [  6][   5 /  426]: {'process_time': 82.7746, 'prec5_c1': 14.9333, 'loss': 5.6727, 'prec1_c1': 4.5333, 'load_time': 17.2254}\n",
      "  2%|▏         | 9/427 [00:31<22:39,  3.25s/it]2019-05-15 06:10:31,029 - algorithms.Algorithm - INFO   - ==> Iteration [  6][  10 /  426]: {'process_time': 82.2621, 'prec5_c1': 14.0667, 'loss': 5.6632, 'prec1_c1': 3.9333, 'load_time': 17.7379}\n",
      "  3%|▎         | 14/427 [00:46<21:21,  3.10s/it]2019-05-15 06:10:46,742 - algorithms.Algorithm - INFO   - ==> Iteration [  6][  15 /  426]: {'process_time': 82.816, 'prec5_c1': 13.5556, 'loss': 5.7036, 'prec1_c1': 4.0444, 'load_time': 17.184}\n",
      "  4%|▍         | 19/427 [01:03<22:28,  3.30s/it]2019-05-15 06:11:02,915 - algorithms.Algorithm - INFO   - ==> Iteration [  6][  20 /  426]: {'process_time': 83.9, 'prec5_c1': 13.0, 'loss': 5.7437, 'prec1_c1': 3.9667, 'load_time': 16.1}\n",
      "  6%|▌         | 24/427 [01:19<22:40,  3.38s/it]2019-05-15 06:11:19,986 - algorithms.Algorithm - INFO   - ==> Iteration [  6][  25 /  426]: {'process_time': 83.3336, 'prec5_c1': 13.1733, 'loss': 5.7424, 'prec1_c1': 4.24, 'load_time': 16.6664}\n",
      "  7%|▋         | 29/427 [01:35<20:20,  3.07s/it]2019-05-15 06:11:35,270 - algorithms.Algorithm - INFO   - ==> Iteration [  6][  30 /  426]: {'process_time': 83.8591, 'prec5_c1': 13.0222, 'loss': 5.7559, 'prec1_c1': 4.1778, 'load_time': 16.1409}\n",
      "  8%|▊         | 34/427 [01:50<19:29,  2.97s/it]2019-05-15 06:11:50,082 - algorithms.Algorithm - INFO   - ==> Iteration [  6][  35 /  426]: {'process_time': 83.4734, 'prec5_c1': 13.181, 'loss': 5.7542, 'prec1_c1': 4.1714, 'load_time': 16.5266}\n",
      "  9%|▉         | 39/427 [02:07<21:42,  3.36s/it]2019-05-15 06:12:07,832 - algorithms.Algorithm - INFO   - ==> Iteration [  6][  40 /  426]: {'process_time': 82.2459, 'prec5_c1': 13.25, 'loss': 5.7514, 'prec1_c1': 4.3833, 'load_time': 17.7541}\n",
      " 10%|█         | 44/427 [02:24<21:47,  3.41s/it]2019-05-15 06:12:24,721 - algorithms.Algorithm - INFO   - ==> Iteration [  6][  45 /  426]: {'process_time': 82.192, 'prec5_c1': 13.2593, 'loss': 5.7498, 'prec1_c1': 4.4, 'load_time': 17.808}\n",
      " 11%|█▏        | 49/427 [02:41<20:44,  3.29s/it]2019-05-15 06:12:40,861 - algorithms.Algorithm - INFO   - ==> Iteration [  6][  50 /  426]: {'process_time': 82.4334, 'prec5_c1': 13.1867, 'loss': 5.7516, 'prec1_c1': 4.48, 'load_time': 17.5666}\n",
      " 13%|█▎        | 54/427 [02:56<19:48,  3.19s/it]2019-05-15 06:12:56,665 - algorithms.Algorithm - INFO   - ==> Iteration [  6][  55 /  426]: {'process_time': 81.8626, 'prec5_c1': 13.1879, 'loss': 5.7484, 'prec1_c1': 4.4848, 'load_time': 18.1374}\n"
     ]
    },
    {
     "name": "stderr",
     "output_type": "stream",
     "text": [
      " 14%|█▍        | 59/427 [03:12<19:12,  3.13s/it]2019-05-15 06:13:13,468 - algorithms.Algorithm - INFO   - ==> Iteration [  6][  60 /  426]: {'process_time': 82.2341, 'prec5_c1': 13.4111, 'loss': 5.7441, 'prec1_c1': 4.5889, 'load_time': 17.7659}\n",
      " 15%|█▍        | 64/427 [03:29<19:46,  3.27s/it]2019-05-15 06:13:29,451 - algorithms.Algorithm - INFO   - ==> Iteration [  6][  65 /  426]: {'process_time': 82.4507, 'prec5_c1': 13.4256, 'loss': 5.7444, 'prec1_c1': 4.6256, 'load_time': 17.5493}\n",
      " 16%|█▌        | 69/427 [03:46<21:04,  3.53s/it]2019-05-15 06:13:46,956 - algorithms.Algorithm - INFO   - ==> Iteration [  6][  70 /  426]: {'process_time': 82.0553, 'prec5_c1': 13.381, 'loss': 5.7493, 'prec1_c1': 4.5905, 'load_time': 17.9447}\n",
      " 17%|█▋        | 74/427 [04:04<20:37,  3.51s/it]2019-05-15 06:14:04,673 - algorithms.Algorithm - INFO   - ==> Iteration [  6][  75 /  426]: {'process_time': 81.9842, 'prec5_c1': 13.3867, 'loss': 5.745, 'prec1_c1': 4.6044, 'load_time': 18.0158}\n",
      " 19%|█▊        | 79/427 [04:22<20:23,  3.52s/it]2019-05-15 06:14:21,780 - algorithms.Algorithm - INFO   - ==> Iteration [  6][  80 /  426]: {'process_time': 82.0362, 'prec5_c1': 13.45, 'loss': 5.745, 'prec1_c1': 4.6333, 'load_time': 17.9638}\n",
      " 20%|█▉        | 84/427 [04:37<18:30,  3.24s/it]2019-05-15 06:14:37,709 - algorithms.Algorithm - INFO   - ==> Iteration [  6][  85 /  426]: {'process_time': 81.8503, 'prec5_c1': 13.3333, 'loss': 5.7526, 'prec1_c1': 4.5569, 'load_time': 18.1497}\n",
      " 21%|██        | 89/427 [04:56<20:47,  3.69s/it]2019-05-15 06:14:56,223 - algorithms.Algorithm - INFO   - ==> Iteration [  6][  90 /  426]: {'process_time': 81.7744, 'prec5_c1': 13.4296, 'loss': 5.7494, 'prec1_c1': 4.5556, 'load_time': 18.2256}\n",
      " 22%|██▏       | 94/427 [05:13<19:11,  3.46s/it]2019-05-15 06:15:14,219 - algorithms.Algorithm - INFO   - ==> Iteration [  6][  95 /  426]: {'process_time': 81.7168, 'prec5_c1': 13.4316, 'loss': 5.7473, 'prec1_c1': 4.5474, 'load_time': 18.2832}\n",
      " 23%|██▎       | 99/427 [05:30<18:09,  3.32s/it]2019-05-15 06:15:32,044 - algorithms.Algorithm - INFO   - ==> Iteration [  6][ 100 /  426]: {'process_time': 81.7819, 'prec5_c1': 13.3867, 'loss': 5.7523, 'prec1_c1': 4.48, 'load_time': 18.2181}\n",
      " 24%|██▍       | 104/427 [05:48<18:09,  3.37s/it]2019-05-15 06:15:48,036 - algorithms.Algorithm - INFO   - ==> Iteration [  6][ 105 /  426]: {'process_time': 81.6937, 'prec5_c1': 13.3968, 'loss': 5.7542, 'prec1_c1': 4.4762, 'load_time': 18.3063}\n",
      " 26%|██▌       | 109/427 [06:04<17:46,  3.35s/it]2019-05-15 06:16:04,617 - algorithms.Algorithm - INFO   - ==> Iteration [  6][ 110 /  426]: {'process_time': 81.7197, 'prec5_c1': 13.3091, 'loss': 5.758, 'prec1_c1': 4.4, 'load_time': 18.2803}\n",
      " 27%|██▋       | 114/427 [06:22<18:16,  3.50s/it]2019-05-15 06:16:21,925 - algorithms.Algorithm - INFO   - ==> Iteration [  6][ 115 /  426]: {'process_time': 81.6249, 'prec5_c1': 13.2638, 'loss': 5.7601, 'prec1_c1': 4.429, 'load_time': 18.3751}\n",
      " 28%|██▊       | 119/427 [06:38<17:29,  3.41s/it]2019-05-15 06:16:38,029 - algorithms.Algorithm - INFO   - ==> Iteration [  6][ 120 /  426]: {'process_time': 81.6864, 'prec5_c1': 13.3056, 'loss': 5.7584, 'prec1_c1': 4.4611, 'load_time': 18.3136}\n",
      " 29%|██▉       | 124/427 [06:52<14:31,  2.88s/it]2019-05-15 06:16:52,653 - algorithms.Algorithm - INFO   - ==> Iteration [  6][ 125 /  426]: {'process_time': 81.522, 'prec5_c1': 13.232, 'loss': 5.7614, 'prec1_c1': 4.4267, 'load_time': 18.478}\n",
      " 30%|███       | 129/427 [07:08<14:48,  2.98s/it]2019-05-15 06:17:08,051 - algorithms.Algorithm - INFO   - ==> Iteration [  6][ 130 /  426]: {'process_time': 81.4532, 'prec5_c1': 13.1487, 'loss': 5.7609, 'prec1_c1': 4.4205, 'load_time': 18.5468}\n",
      " 31%|███▏      | 134/427 [07:22<13:19,  2.73s/it]2019-05-15 06:17:21,636 - algorithms.Algorithm - INFO   - ==> Iteration [  6][ 135 /  426]: {'process_time': 81.2393, 'prec5_c1': 13.1753, 'loss': 5.7615, 'prec1_c1': 4.4198, 'load_time': 18.7607}\n",
      " 33%|███▎      | 139/427 [07:35<12:45,  2.66s/it]2019-05-15 06:17:35,206 - algorithms.Algorithm - INFO   - ==> Iteration [  6][ 140 /  426]: {'process_time': 81.2599, 'prec5_c1': 13.119, 'loss': 5.7643, 'prec1_c1': 4.3905, 'load_time': 18.7401}\n",
      " 34%|███▎      | 144/427 [07:50<13:38,  2.89s/it]2019-05-15 06:17:49,606 - algorithms.Algorithm - INFO   - ==> Iteration [  6][ 145 /  426]: {'process_time': 81.2059, 'prec5_c1': 13.1586, 'loss': 5.7621, 'prec1_c1': 4.423, 'load_time': 18.7941}\n",
      " 35%|███▍      | 149/427 [08:04<13:46,  2.97s/it]2019-05-15 06:18:04,424 - algorithms.Algorithm - INFO   - ==> Iteration [  6][ 150 /  426]: {'process_time': 81.3153, 'prec5_c1': 13.2844, 'loss': 5.7612, 'prec1_c1': 4.4933, 'load_time': 18.6847}\n",
      " 36%|███▌      | 154/427 [08:19<13:00,  2.86s/it]2019-05-15 06:18:19,890 - algorithms.Algorithm - INFO   - ==> Iteration [  6][ 155 /  426]: {'process_time': 81.2485, 'prec5_c1': 13.2903, 'loss': 5.7591, 'prec1_c1': 4.5075, 'load_time': 18.7515}\n",
      " 37%|███▋      | 159/427 [08:35<13:12,  2.96s/it]2019-05-15 06:18:35,124 - algorithms.Algorithm - INFO   - ==> Iteration [  6][ 160 /  426]: {'process_time': 81.2317, 'prec5_c1': 13.2, 'loss': 5.7613, 'prec1_c1': 4.5, 'load_time': 18.7683}\n",
      " 38%|███▊      | 164/427 [08:52<15:08,  3.46s/it]2019-05-15 06:18:53,713 - algorithms.Algorithm - INFO   - ==> Iteration [  6][ 165 /  426]: {'process_time': 81.179, 'prec5_c1': 13.1475, 'loss': 5.7645, 'prec1_c1': 4.5051, 'load_time': 18.821}\n",
      " 40%|███▉      | 169/427 [09:08<13:08,  3.06s/it]2019-05-15 06:19:07,939 - algorithms.Algorithm - INFO   - ==> Iteration [  6][ 170 /  426]: {'process_time': 81.1742, 'prec5_c1': 13.1098, 'loss': 5.7656, 'prec1_c1': 4.502, 'load_time': 18.8258}\n",
      " 41%|████      | 174/427 [09:24<13:11,  3.13s/it]2019-05-15 06:19:24,217 - algorithms.Algorithm - INFO   - ==> Iteration [  6][ 175 /  426]: {'process_time': 81.2148, 'prec5_c1': 13.1086, 'loss': 5.7692, 'prec1_c1': 4.5067, 'load_time': 18.7852}\n",
      " 42%|████▏     | 179/427 [09:38<11:42,  2.83s/it]2019-05-15 06:19:37,947 - algorithms.Algorithm - INFO   - ==> Iteration [  6][ 180 /  426]: {'process_time': 81.1497, 'prec5_c1': 13.1741, 'loss': 5.7676, 'prec1_c1': 4.5556, 'load_time': 18.8503}\n",
      " 43%|████▎     | 184/427 [09:53<12:02,  2.97s/it]2019-05-15 06:19:53,327 - algorithms.Algorithm - INFO   - ==> Iteration [  6][ 185 /  426]: {'process_time': 81.0958, 'prec5_c1': 13.2, 'loss': 5.7678, 'prec1_c1': 4.5766, 'load_time': 18.9042}\n",
      " 44%|████▍     | 189/427 [10:08<11:35,  2.92s/it]2019-05-15 06:20:07,768 - algorithms.Algorithm - INFO   - ==> Iteration [  6][ 190 /  426]: {'process_time': 81.0293, 'prec5_c1': 13.1719, 'loss': 5.7693, 'prec1_c1': 4.5684, 'load_time': 18.9707}\n",
      " 45%|████▌     | 194/427 [10:23<11:45,  3.03s/it]2019-05-15 06:20:22,974 - algorithms.Algorithm - INFO   - ==> Iteration [  6][ 195 /  426]: {'process_time': 80.9877, 'prec5_c1': 13.1487, 'loss': 5.7698, 'prec1_c1': 4.547, 'load_time': 19.0123}\n",
      " 47%|████▋     | 199/427 [10:38<11:26,  3.01s/it]2019-05-15 06:20:37,985 - algorithms.Algorithm - INFO   - ==> Iteration [  6][ 200 /  426]: {'process_time': 81.065, 'prec5_c1': 13.1767, 'loss': 5.7699, 'prec1_c1': 4.5733, 'load_time': 18.935}\n",
      " 48%|████▊     | 204/427 [10:53<10:52,  2.93s/it]2019-05-15 06:20:52,239 - algorithms.Algorithm - INFO   - ==> Iteration [  6][ 205 /  426]: {'process_time': 81.0702, 'prec5_c1': 13.1902, 'loss': 5.7692, 'prec1_c1': 4.5691, 'load_time': 18.9298}\n",
      " 49%|████▉     | 209/427 [11:07<10:24,  2.87s/it]2019-05-15 06:21:06,692 - algorithms.Algorithm - INFO   - ==> Iteration [  6][ 210 /  426]: {'process_time': 81.0242, 'prec5_c1': 13.1397, 'loss': 5.7704, 'prec1_c1': 4.546, 'load_time': 18.9758}\n",
      " 50%|█████     | 214/427 [11:23<11:16,  3.18s/it]2019-05-15 06:21:23,044 - algorithms.Algorithm - INFO   - ==> Iteration [  6][ 215 /  426]: {'process_time': 81.0069, 'prec5_c1': 13.1752, 'loss': 5.7699, 'prec1_c1': 4.586, 'load_time': 18.9931}\n",
      " 51%|█████▏    | 219/427 [11:39<10:58,  3.17s/it]2019-05-15 06:21:39,087 - algorithms.Algorithm - INFO   - ==> Iteration [  6][ 220 /  426]: {'process_time': 81.0664, 'prec5_c1': 13.2091, 'loss': 5.7697, 'prec1_c1': 4.5939, 'load_time': 18.9336}\n",
      " 52%|█████▏    | 224/427 [11:53<09:45,  2.88s/it]2019-05-15 06:21:53,318 - algorithms.Algorithm - INFO   - ==> Iteration [  6][ 225 /  426]: {'process_time': 81.1062, 'prec5_c1': 13.1911, 'loss': 5.7702, 'prec1_c1': 4.5807, 'load_time': 18.8938}\n"
     ]
    },
    {
     "name": "stderr",
     "output_type": "stream",
     "text": [
      " 54%|█████▎    | 229/427 [12:08<09:57,  3.02s/it]2019-05-15 06:22:08,494 - algorithms.Algorithm - INFO   - ==> Iteration [  6][ 230 /  426]: {'process_time': 81.0248, 'prec5_c1': 13.1739, 'loss': 5.7724, 'prec1_c1': 4.5884, 'load_time': 18.9752}\n",
      " 55%|█████▍    | 234/427 [12:24<09:42,  3.02s/it]2019-05-15 06:22:23,619 - algorithms.Algorithm - INFO   - ==> Iteration [  6][ 235 /  426]: {'process_time': 80.9773, 'prec5_c1': 13.1319, 'loss': 5.7747, 'prec1_c1': 4.556, 'load_time': 19.0227}\n",
      " 56%|█████▌    | 239/427 [12:38<08:50,  2.82s/it]2019-05-15 06:22:37,658 - algorithms.Algorithm - INFO   - ==> Iteration [  6][ 240 /  426]: {'process_time': 80.9908, 'prec5_c1': 13.1083, 'loss': 5.7764, 'prec1_c1': 4.55, 'load_time': 19.0092}\n",
      " 57%|█████▋    | 244/427 [12:53<09:14,  3.03s/it]2019-05-15 06:22:53,164 - algorithms.Algorithm - INFO   - ==> Iteration [  6][ 245 /  426]: {'process_time': 80.9447, 'prec5_c1': 13.1293, 'loss': 5.775, 'prec1_c1': 4.585, 'load_time': 19.0553}\n",
      " 58%|█████▊    | 249/427 [13:07<08:33,  2.89s/it]2019-05-15 06:23:07,076 - algorithms.Algorithm - INFO   - ==> Iteration [  6][ 250 /  426]: {'process_time': 80.9719, 'prec5_c1': 13.12, 'loss': 5.7757, 'prec1_c1': 4.5867, 'load_time': 19.0281}\n",
      " 59%|█████▉    | 254/427 [13:22<08:41,  3.02s/it]2019-05-15 06:23:22,352 - algorithms.Algorithm - INFO   - ==> Iteration [  6][ 255 /  426]: {'process_time': 80.9967, 'prec5_c1': 13.1582, 'loss': 5.7745, 'prec1_c1': 4.6065, 'load_time': 19.0033}\n",
      " 61%|██████    | 259/427 [13:38<08:47,  3.14s/it]2019-05-15 06:23:38,134 - algorithms.Algorithm - INFO   - ==> Iteration [  6][ 260 /  426]: {'process_time': 80.9241, 'prec5_c1': 13.0974, 'loss': 5.7778, 'prec1_c1': 4.5846, 'load_time': 19.0759}\n",
      " 62%|██████▏   | 264/427 [13:53<08:01,  2.96s/it]2019-05-15 06:23:52,950 - algorithms.Algorithm - INFO   - ==> Iteration [  6][ 265 /  426]: {'process_time': 80.8825, 'prec5_c1': 13.1019, 'loss': 5.7779, 'prec1_c1': 4.5711, 'load_time': 19.1175}\n",
      " 63%|██████▎   | 269/427 [14:09<08:13,  3.13s/it]2019-05-15 06:24:08,645 - algorithms.Algorithm - INFO   - ==> Iteration [  6][ 270 /  426]: {'process_time': 80.8847, 'prec5_c1': 13.1531, 'loss': 5.7769, 'prec1_c1': 4.5753, 'load_time': 19.1153}\n",
      " 64%|██████▍   | 274/427 [14:24<07:39,  3.00s/it]2019-05-15 06:24:24,078 - algorithms.Algorithm - INFO   - ==> Iteration [  6][ 275 /  426]: {'process_time': 80.8899, 'prec5_c1': 13.1733, 'loss': 5.7758, 'prec1_c1': 4.5939, 'load_time': 19.1101}\n",
      " 65%|██████▌   | 279/427 [14:38<07:12,  2.92s/it]2019-05-15 06:24:38,417 - algorithms.Algorithm - INFO   - ==> Iteration [  6][ 280 /  426]: {'process_time': 80.8617, 'prec5_c1': 13.1738, 'loss': 5.7758, 'prec1_c1': 4.5976, 'load_time': 19.1383}\n",
      " 67%|██████▋   | 284/427 [14:52<06:40,  2.80s/it]2019-05-15 06:24:52,593 - algorithms.Algorithm - INFO   - ==> Iteration [  6][ 285 /  426]: {'process_time': 80.8372, 'prec5_c1': 13.1789, 'loss': 5.7771, 'prec1_c1': 4.5801, 'load_time': 19.1628}\n",
      " 68%|██████▊   | 289/427 [15:12<07:56,  3.46s/it]2019-05-15 06:25:13,114 - algorithms.Algorithm - INFO   - ==> Iteration [  6][ 290 /  426]: {'process_time': 80.7778, 'prec5_c1': 13.1632, 'loss': 5.777, 'prec1_c1': 4.5747, 'load_time': 19.2222}\n",
      " 69%|██████▉   | 294/427 [15:28<06:48,  3.07s/it]2019-05-15 06:25:27,572 - algorithms.Algorithm - INFO   - ==> Iteration [  6][ 295 /  426]: {'process_time': 80.7333, 'prec5_c1': 13.1774, 'loss': 5.7758, 'prec1_c1': 4.5898, 'load_time': 19.2667}\n",
      " 70%|███████   | 299/427 [15:42<06:03,  2.84s/it]2019-05-15 06:25:41,763 - algorithms.Algorithm - INFO   - ==> Iteration [  6][ 300 /  426]: {'process_time': 80.687, 'prec5_c1': 13.14, 'loss': 5.7771, 'prec1_c1': 4.5711, 'load_time': 19.313}\n",
      " 71%|███████   | 304/427 [15:56<05:52,  2.86s/it]2019-05-15 06:25:56,208 - algorithms.Algorithm - INFO   - ==> Iteration [  6][ 305 /  426]: {'process_time': 80.6447, 'prec5_c1': 13.1344, 'loss': 5.7782, 'prec1_c1': 4.5749, 'load_time': 19.3553}\n",
      " 72%|███████▏  | 309/427 [16:11<05:38,  2.87s/it]2019-05-15 06:26:10,969 - algorithms.Algorithm - INFO   - ==> Iteration [  6][ 310 /  426]: {'process_time': 80.7082, 'prec5_c1': 13.1075, 'loss': 5.7792, 'prec1_c1': 4.5699, 'load_time': 19.2918}\n",
      " 74%|███████▎  | 314/427 [16:25<05:14,  2.78s/it]2019-05-15 06:26:24,483 - algorithms.Algorithm - INFO   - ==> Iteration [  6][ 315 /  426]: {'process_time': 80.6995, 'prec5_c1': 13.0836, 'loss': 5.7803, 'prec1_c1': 4.5566, 'load_time': 19.3005}\n",
      " 75%|███████▍  | 319/427 [16:39<05:03,  2.81s/it]2019-05-15 06:26:38,233 - algorithms.Algorithm - INFO   - ==> Iteration [  6][ 320 /  426]: {'process_time': 80.676, 'prec5_c1': 13.0583, 'loss': 5.781, 'prec1_c1': 4.5521, 'load_time': 19.324}\n",
      " 76%|███████▌  | 324/427 [16:52<04:36,  2.68s/it]2019-05-15 06:26:51,439 - algorithms.Algorithm - INFO   - ==> Iteration [  6][ 325 /  426]: {'process_time': 80.6288, 'prec5_c1': 13.0831, 'loss': 5.7805, 'prec1_c1': 4.5703, 'load_time': 19.3712}\n",
      " 77%|███████▋  | 329/427 [17:05<04:25,  2.71s/it]2019-05-15 06:27:05,066 - algorithms.Algorithm - INFO   - ==> Iteration [  6][ 330 /  426]: {'process_time': 80.6341, 'prec5_c1': 13.0707, 'loss': 5.7805, 'prec1_c1': 4.5677, 'load_time': 19.3659}\n",
      " 78%|███████▊  | 334/427 [17:19<04:18,  2.78s/it]2019-05-15 06:27:19,559 - algorithms.Algorithm - INFO   - ==> Iteration [  6][ 335 /  426]: {'process_time': 80.542, 'prec5_c1': 13.0706, 'loss': 5.7806, 'prec1_c1': 4.5731, 'load_time': 19.458}\n",
      " 79%|███████▉  | 339/427 [17:33<04:04,  2.78s/it]2019-05-15 06:27:34,636 - algorithms.Algorithm - INFO   - ==> Iteration [  6][ 340 /  426]: {'process_time': 80.5434, 'prec5_c1': 13.0667, 'loss': 5.7806, 'prec1_c1': 4.5647, 'load_time': 19.4566}\n",
      " 81%|████████  | 344/427 [17:48<03:52,  2.80s/it]2019-05-15 06:27:47,854 - algorithms.Algorithm - INFO   - ==> Iteration [  6][ 345 /  426]: {'process_time': 80.5357, 'prec5_c1': 13.0763, 'loss': 5.7799, 'prec1_c1': 4.5681, 'load_time': 19.4643}\n",
      " 82%|████████▏ | 349/427 [18:03<03:49,  2.94s/it]2019-05-15 06:28:02,679 - algorithms.Algorithm - INFO   - ==> Iteration [  6][ 350 /  426]: {'process_time': 80.5697, 'prec5_c1': 13.1067, 'loss': 5.7796, 'prec1_c1': 4.5886, 'load_time': 19.4303}\n",
      " 83%|████████▎ | 354/427 [18:19<04:01,  3.31s/it]2019-05-15 06:28:19,030 - algorithms.Algorithm - INFO   - ==> Iteration [  6][ 355 /  426]: {'process_time': 80.5336, 'prec5_c1': 13.1117, 'loss': 5.7798, 'prec1_c1': 4.5915, 'load_time': 19.4664}\n",
      " 84%|████████▍ | 359/427 [18:34<03:26,  3.04s/it]2019-05-15 06:28:34,333 - algorithms.Algorithm - INFO   - ==> Iteration [  6][ 360 /  426]: {'process_time': 80.5502, 'prec5_c1': 13.113, 'loss': 5.7795, 'prec1_c1': 4.5944, 'load_time': 19.4498}\n",
      " 85%|████████▌ | 364/427 [18:50<03:18,  3.16s/it]2019-05-15 06:28:50,532 - algorithms.Algorithm - INFO   - ==> Iteration [  6][ 365 /  426]: {'process_time': 80.5758, 'prec5_c1': 13.1233, 'loss': 5.7796, 'prec1_c1': 4.5881, 'load_time': 19.4242}\n",
      " 86%|████████▋ | 369/427 [19:05<02:52,  2.97s/it]2019-05-15 06:29:05,549 - algorithms.Algorithm - INFO   - ==> Iteration [  6][ 370 /  426]: {'process_time': 80.5156, 'prec5_c1': 13.1387, 'loss': 5.7794, 'prec1_c1': 4.5982, 'load_time': 19.4844}\n",
      " 88%|████████▊ | 374/427 [19:22<02:53,  3.27s/it]2019-05-15 06:29:21,484 - algorithms.Algorithm - INFO   - ==> Iteration [  6][ 375 /  426]: {'process_time': 80.5713, 'prec5_c1': 13.1218, 'loss': 5.7803, 'prec1_c1': 4.6062, 'load_time': 19.4287}\n",
      " 89%|████████▉ | 379/427 [19:36<02:25,  3.02s/it]2019-05-15 06:29:36,593 - algorithms.Algorithm - INFO   - ==> Iteration [  6][ 380 /  426]: {'process_time': 80.5644, 'prec5_c1': 13.1018, 'loss': 5.7805, 'prec1_c1': 4.6053, 'load_time': 19.4356}\n",
      " 90%|████████▉ | 384/427 [19:51<02:10,  3.04s/it]2019-05-15 06:29:50,867 - algorithms.Algorithm - INFO   - ==> Iteration [  6][ 385 /  426]: {'process_time': 80.4873, 'prec5_c1': 13.0667, 'loss': 5.783, 'prec1_c1': 4.5974, 'load_time': 19.5127}\n",
      " 91%|█████████ | 389/427 [20:07<01:58,  3.12s/it]2019-05-15 06:30:06,902 - algorithms.Algorithm - INFO   - ==> Iteration [  6][ 390 /  426]: {'process_time': 80.4987, 'prec5_c1': 13.0752, 'loss': 5.7829, 'prec1_c1': 4.5966, 'load_time': 19.5013}\n",
      " 92%|█████████▏| 394/427 [20:23<01:44,  3.17s/it]2019-05-15 06:30:22,753 - algorithms.Algorithm - INFO   - ==> Iteration [  6][ 395 /  426]: {'process_time': 80.4958, 'prec5_c1': 13.0903, 'loss': 5.7834, 'prec1_c1': 4.6042, 'load_time': 19.5042}\n"
     ]
    },
    {
     "name": "stderr",
     "output_type": "stream",
     "text": [
      " 93%|█████████▎| 399/427 [20:40<01:35,  3.40s/it]2019-05-15 06:30:40,294 - algorithms.Algorithm - INFO   - ==> Iteration [  6][ 400 /  426]: {'process_time': 80.5165, 'prec5_c1': 13.0883, 'loss': 5.7832, 'prec1_c1': 4.6067, 'load_time': 19.4835}\n",
      " 95%|█████████▍| 404/427 [20:54<01:08,  2.99s/it]2019-05-15 06:30:55,229 - algorithms.Algorithm - INFO   - ==> Iteration [  6][ 405 /  426]: {'process_time': 80.5244, 'prec5_c1': 13.0667, 'loss': 5.7839, 'prec1_c1': 4.5975, 'load_time': 19.4756}\n",
      " 96%|█████████▌| 409/427 [21:11<00:56,  3.16s/it]2019-05-15 06:31:13,947 - algorithms.Algorithm - INFO   - ==> Iteration [  6][ 410 /  426]: {'process_time': 80.62, 'prec5_c1': 13.0715, 'loss': 5.7842, 'prec1_c1': 4.6098, 'load_time': 19.38}\n",
      " 97%|█████████▋| 414/427 [21:30<00:46,  3.56s/it]2019-05-15 06:31:30,513 - algorithms.Algorithm - INFO   - ==> Iteration [  6][ 415 /  426]: {'process_time': 80.6231, 'prec5_c1': 13.0651, 'loss': 5.7845, 'prec1_c1': 4.6072, 'load_time': 19.3769}\n",
      " 98%|█████████▊| 419/427 [21:47<00:27,  3.50s/it]2019-05-15 06:31:46,733 - algorithms.Algorithm - INFO   - ==> Iteration [  6][ 420 /  426]: {'process_time': 80.6831, 'prec5_c1': 13.0603, 'loss': 5.7849, 'prec1_c1': 4.6048, 'load_time': 19.3169}\n",
      " 99%|█████████▉| 424/427 [22:04<00:10,  3.64s/it]2019-05-15 06:32:04,826 - algorithms.Algorithm - INFO   - ==> Iteration [  6][ 425 /  426]: {'process_time': 80.5957, 'prec5_c1': 13.0494, 'loss': 5.7857, 'prec1_c1': 4.5961, 'load_time': 19.4043}\n",
      "100%|██████████| 427/427 [22:13<00:00,  2.98s/it]\n",
      "2019-05-15 06:32:09,785 - algorithms.Algorithm - INFO   - ==> Training stats: {'process_time': 80.6225, 'prec5_c1': 13.0343, 'loss': 5.7864, 'prec1_c1': 4.5917, 'load_time': 19.3775}\n",
      "2019-05-15 06:32:10,663 - algorithms.Algorithm - INFO   - Evaluating: Vae_NonLinearClassifiers_ImageNet_RotNet_AlexNet_Features\n",
      "2019-05-15 06:32:10,665 - algorithms.Algorithm - INFO   - ==> Dataset: custom_supervised/val [64000 images]\n",
      "100%|██████████| 427/427 [15:56<00:00,  1.97s/it]\n",
      "2019-05-15 06:48:07,013 - algorithms.Algorithm - INFO   - ==> Results: {'process_time': 77.0903, 'prec5_c1': 12.3653, 'loss': 5.95, 'prec1_c1': 4.324, 'load_time': 22.9097}\n",
      "2019-05-15 06:48:07,035 - algorithms.Algorithm - INFO   - ==> Evaluation stats: {'process_time': 77.0903, 'prec5_c1': 12.3653, 'loss': 5.95, 'prec1_c1': 4.324, 'load_time': 22.9097}\n",
      "2019-05-15 06:48:07,036 - algorithms.Algorithm - INFO   - Training epoch [  7 /  40]\n",
      "2019-05-15 06:48:07,038 - algorithms.Algorithm - INFO   - ==> Set to classifier optimizer lr = 0.0100000000\n",
      "2019-05-15 06:48:07,039 - algorithms.Algorithm - INFO   - Training: Vae_NonLinearClassifiers_ImageNet_RotNet_AlexNet_Features\n",
      "  1%|          | 4/427 [00:24<51:03,  7.24s/it]  2019-05-15 06:48:34,689 - algorithms.Algorithm - INFO   - ==> Iteration [  7][   5 /  426]: {'process_time': 87.267, 'prec5_c1': 18.2667, 'loss': 5.5328, 'prec1_c1': 6.8, 'load_time': 12.733}\n",
      "  2%|▏         | 9/427 [00:40<26:28,  3.80s/it]2019-05-15 06:48:50,106 - algorithms.Algorithm - INFO   - ==> Iteration [  7][  10 /  426]: {'process_time': 81.978, 'prec5_c1': 17.0667, 'loss': 5.5519, 'prec1_c1': 6.4667, 'load_time': 18.022}\n",
      "  3%|▎         | 14/427 [00:55<23:06,  3.36s/it]2019-05-15 06:49:06,152 - algorithms.Algorithm - INFO   - ==> Iteration [  7][  15 /  426]: {'process_time': 82.4834, 'prec5_c1': 16.6222, 'loss': 5.5844, 'prec1_c1': 6.0, 'load_time': 17.5166}\n",
      "  4%|▍         | 19/427 [01:12<22:26,  3.30s/it]2019-05-15 06:49:22,135 - algorithms.Algorithm - INFO   - ==> Iteration [  7][  20 /  426]: {'process_time': 81.3297, 'prec5_c1': 16.3333, 'loss': 5.6012, 'prec1_c1': 6.0333, 'load_time': 18.6703}\n",
      "  6%|▌         | 24/427 [01:26<19:54,  2.96s/it]2019-05-15 06:49:36,640 - algorithms.Algorithm - INFO   - ==> Iteration [  7][  25 /  426]: {'process_time': 81.4882, 'prec5_c1': 15.84, 'loss': 5.6101, 'prec1_c1': 5.7067, 'load_time': 18.5118}\n",
      "  7%|▋         | 29/427 [01:42<21:31,  3.24s/it]2019-05-15 06:49:52,421 - algorithms.Algorithm - INFO   - ==> Iteration [  7][  30 /  426]: {'process_time': 81.9993, 'prec5_c1': 15.1556, 'loss': 5.6378, 'prec1_c1': 5.4667, 'load_time': 18.0007}\n",
      "  8%|▊         | 34/427 [01:59<22:47,  3.48s/it]2019-05-15 06:50:10,783 - algorithms.Algorithm - INFO   - ==> Iteration [  7][  35 /  426]: {'process_time': 82.8531, 'prec5_c1': 14.6857, 'loss': 5.6471, 'prec1_c1': 5.3905, 'load_time': 17.1469}\n",
      "  9%|▉         | 39/427 [02:17<21:07,  3.27s/it]2019-05-15 06:50:27,340 - algorithms.Algorithm - INFO   - ==> Iteration [  7][  40 /  426]: {'process_time': 82.6046, 'prec5_c1': 14.8333, 'loss': 5.6439, 'prec1_c1': 5.5, 'load_time': 17.3954}\n",
      " 10%|█         | 44/427 [02:32<20:28,  3.21s/it]2019-05-15 06:50:44,376 - algorithms.Algorithm - INFO   - ==> Iteration [  7][  45 /  426]: {'process_time': 82.5479, 'prec5_c1': 14.9333, 'loss': 5.6415, 'prec1_c1': 5.437, 'load_time': 17.4521}\n",
      " 11%|█▏        | 49/427 [02:52<23:50,  3.78s/it]2019-05-15 06:51:02,050 - algorithms.Algorithm - INFO   - ==> Iteration [  7][  50 /  426]: {'process_time': 82.5817, 'prec5_c1': 14.8267, 'loss': 5.6488, 'prec1_c1': 5.4933, 'load_time': 17.4183}\n",
      " 13%|█▎        | 54/427 [03:09<22:51,  3.68s/it]2019-05-15 06:51:19,581 - algorithms.Algorithm - INFO   - ==> Iteration [  7][  55 /  426]: {'process_time': 82.3855, 'prec5_c1': 14.7515, 'loss': 5.6531, 'prec1_c1': 5.503, 'load_time': 17.6145}\n",
      " 14%|█▍        | 59/427 [03:28<23:53,  3.90s/it]2019-05-15 06:51:38,640 - algorithms.Algorithm - INFO   - ==> Iteration [  7][  60 /  426]: {'process_time': 82.1955, 'prec5_c1': 14.8111, 'loss': 5.6511, 'prec1_c1': 5.5444, 'load_time': 17.8045}\n",
      " 15%|█▍        | 64/427 [03:44<19:53,  3.29s/it]2019-05-15 06:51:55,326 - algorithms.Algorithm - INFO   - ==> Iteration [  7][  65 /  426]: {'process_time': 82.1815, 'prec5_c1': 14.8308, 'loss': 5.6482, 'prec1_c1': 5.559, 'load_time': 17.8185}\n",
      " 16%|█▌        | 69/427 [04:01<19:43,  3.31s/it]2019-05-15 06:52:11,750 - algorithms.Algorithm - INFO   - ==> Iteration [  7][  70 /  426]: {'process_time': 82.7, 'prec5_c1': 14.7905, 'loss': 5.6491, 'prec1_c1': 5.4857, 'load_time': 17.3}\n",
      " 17%|█▋        | 74/427 [04:17<18:41,  3.18s/it]2019-05-15 06:52:27,637 - algorithms.Algorithm - INFO   - ==> Iteration [  7][  75 /  426]: {'process_time': 82.7848, 'prec5_c1': 14.7467, 'loss': 5.6516, 'prec1_c1': 5.4578, 'load_time': 17.2152}\n",
      " 19%|█▊        | 79/427 [04:32<17:57,  3.10s/it]2019-05-15 06:52:43,229 - algorithms.Algorithm - INFO   - ==> Iteration [  7][  80 /  426]: {'process_time': 82.6565, 'prec5_c1': 14.9083, 'loss': 5.6466, 'prec1_c1': 5.5667, 'load_time': 17.3435}\n",
      " 20%|█▉        | 84/427 [04:53<22:46,  3.98s/it]2019-05-15 06:53:04,719 - algorithms.Algorithm - INFO   - ==> Iteration [  7][  85 /  426]: {'process_time': 83.2175, 'prec5_c1': 14.7843, 'loss': 5.6566, 'prec1_c1': 5.498, 'load_time': 16.7825}\n",
      " 21%|██        | 89/427 [05:13<22:07,  3.93s/it]2019-05-15 06:53:24,311 - algorithms.Algorithm - INFO   - ==> Iteration [  7][  90 /  426]: {'process_time': 83.1314, 'prec5_c1': 14.8222, 'loss': 5.657, 'prec1_c1': 5.4519, 'load_time': 16.8686}\n",
      " 22%|██▏       | 94/427 [05:30<19:43,  3.56s/it]2019-05-15 06:53:40,814 - algorithms.Algorithm - INFO   - ==> Iteration [  7][  95 /  426]: {'process_time': 82.9144, 'prec5_c1': 14.8421, 'loss': 5.6608, 'prec1_c1': 5.4807, 'load_time': 17.0856}\n",
      " 23%|██▎       | 99/427 [05:47<19:07,  3.50s/it]2019-05-15 06:53:57,767 - algorithms.Algorithm - INFO   - ==> Iteration [  7][ 100 /  426]: {'process_time': 83.0451, 'prec5_c1': 14.82, 'loss': 5.6617, 'prec1_c1': 5.4933, 'load_time': 16.9549}\n",
      " 24%|██▍       | 104/427 [06:06<20:35,  3.83s/it]2019-05-15 06:54:17,532 - algorithms.Algorithm - INFO   - ==> Iteration [  7][ 105 /  426]: {'process_time': 82.7312, 'prec5_c1': 14.8508, 'loss': 5.6629, 'prec1_c1': 5.5492, 'load_time': 17.2688}\n",
      " 26%|██▌       | 109/427 [06:23<17:56,  3.39s/it]2019-05-15 06:54:34,454 - algorithms.Algorithm - INFO   - ==> Iteration [  7][ 110 /  426]: {'process_time': 82.7158, 'prec5_c1': 14.7636, 'loss': 5.6662, 'prec1_c1': 5.4303, 'load_time': 17.2842}\n",
      " 27%|██▋       | 114/427 [06:41<18:31,  3.55s/it]2019-05-15 06:54:51,875 - algorithms.Algorithm - INFO   - ==> Iteration [  7][ 115 /  426]: {'process_time': 82.7271, 'prec5_c1': 14.7188, 'loss': 5.6671, 'prec1_c1': 5.3623, 'load_time': 17.2729}\n"
     ]
    },
    {
     "name": "stderr",
     "output_type": "stream",
     "text": [
      " 28%|██▊       | 119/427 [06:57<17:08,  3.34s/it]2019-05-15 06:55:08,174 - algorithms.Algorithm - INFO   - ==> Iteration [  7][ 120 /  426]: {'process_time': 82.5348, 'prec5_c1': 14.7556, 'loss': 5.6689, 'prec1_c1': 5.3722, 'load_time': 17.4652}\n",
      " 29%|██▉       | 124/427 [07:13<16:18,  3.23s/it]2019-05-15 06:55:24,549 - algorithms.Algorithm - INFO   - ==> Iteration [  7][ 125 /  426]: {'process_time': 82.2891, 'prec5_c1': 14.688, 'loss': 5.6718, 'prec1_c1': 5.3707, 'load_time': 17.7109}\n",
      " 30%|███       | 129/427 [07:30<16:30,  3.32s/it]2019-05-15 06:55:40,813 - algorithms.Algorithm - INFO   - ==> Iteration [  7][ 130 /  426]: {'process_time': 82.2275, 'prec5_c1': 14.7128, 'loss': 5.67, 'prec1_c1': 5.4154, 'load_time': 17.7725}\n",
      " 31%|███▏      | 134/427 [07:50<20:30,  4.20s/it]2019-05-15 06:55:59,912 - algorithms.Algorithm - INFO   - ==> Iteration [  7][ 135 /  426]: {'process_time': 82.4048, 'prec5_c1': 14.6914, 'loss': 5.6734, 'prec1_c1': 5.4272, 'load_time': 17.5952}\n",
      " 33%|███▎      | 139/427 [08:07<17:26,  3.63s/it]2019-05-15 06:56:17,541 - algorithms.Algorithm - INFO   - ==> Iteration [  7][ 140 /  426]: {'process_time': 82.3006, 'prec5_c1': 14.6476, 'loss': 5.6747, 'prec1_c1': 5.3857, 'load_time': 17.6994}\n",
      " 34%|███▎      | 144/427 [08:23<15:29,  3.28s/it]2019-05-15 06:56:33,814 - algorithms.Algorithm - INFO   - ==> Iteration [  7][ 145 /  426]: {'process_time': 82.284, 'prec5_c1': 14.5931, 'loss': 5.6761, 'prec1_c1': 5.3471, 'load_time': 17.716}\n",
      " 35%|███▍      | 149/427 [08:39<15:14,  3.29s/it]2019-05-15 06:56:52,161 - algorithms.Algorithm - INFO   - ==> Iteration [  7][ 150 /  426]: {'process_time': 82.0928, 'prec5_c1': 14.6267, 'loss': 5.677, 'prec1_c1': 5.3467, 'load_time': 17.9072}\n",
      " 36%|███▌      | 154/427 [08:58<16:08,  3.55s/it]2019-05-15 06:57:08,963 - algorithms.Algorithm - INFO   - ==> Iteration [  7][ 155 /  426]: {'process_time': 82.2166, 'prec5_c1': 14.6839, 'loss': 5.6769, 'prec1_c1': 5.3505, 'load_time': 17.7834}\n",
      " 37%|███▋      | 159/427 [09:15<14:30,  3.25s/it]2019-05-15 06:57:26,150 - algorithms.Algorithm - INFO   - ==> Iteration [  7][ 160 /  426]: {'process_time': 82.2363, 'prec5_c1': 14.6583, 'loss': 5.6777, 'prec1_c1': 5.3167, 'load_time': 17.7637}\n",
      " 38%|███▊      | 164/427 [09:32<14:08,  3.23s/it]2019-05-15 06:57:42,404 - algorithms.Algorithm - INFO   - ==> Iteration [  7][ 165 /  426]: {'process_time': 82.0176, 'prec5_c1': 14.6182, 'loss': 5.678, 'prec1_c1': 5.2768, 'load_time': 17.9824}\n",
      " 40%|███▉      | 169/427 [09:48<13:49,  3.22s/it]2019-05-15 06:57:58,721 - algorithms.Algorithm - INFO   - ==> Iteration [  7][ 170 /  426]: {'process_time': 82.0098, 'prec5_c1': 14.5569, 'loss': 5.6794, 'prec1_c1': 5.2431, 'load_time': 17.9902}\n",
      " 41%|████      | 174/427 [10:03<13:04,  3.10s/it]2019-05-15 06:58:13,947 - algorithms.Algorithm - INFO   - ==> Iteration [  7][ 175 /  426]: {'process_time': 81.9954, 'prec5_c1': 14.5105, 'loss': 5.68, 'prec1_c1': 5.2076, 'load_time': 18.0046}\n",
      " 42%|████▏     | 179/427 [10:19<13:36,  3.29s/it]2019-05-15 06:58:30,551 - algorithms.Algorithm - INFO   - ==> Iteration [  7][ 180 /  426]: {'process_time': 82.0703, 'prec5_c1': 14.5037, 'loss': 5.6801, 'prec1_c1': 5.1815, 'load_time': 17.9297}\n",
      " 43%|████▎     | 184/427 [10:36<13:16,  3.28s/it]2019-05-15 06:58:46,547 - algorithms.Algorithm - INFO   - ==> Iteration [  7][ 185 /  426]: {'process_time': 82.0567, 'prec5_c1': 14.4865, 'loss': 5.6797, 'prec1_c1': 5.164, 'load_time': 17.9433}\n",
      " 44%|████▍     | 189/427 [10:51<12:21,  3.11s/it]2019-05-15 06:59:02,204 - algorithms.Algorithm - INFO   - ==> Iteration [  7][ 190 /  426]: {'process_time': 81.9616, 'prec5_c1': 14.4632, 'loss': 5.6815, 'prec1_c1': 5.1684, 'load_time': 18.0384}\n",
      " 45%|████▌     | 194/427 [11:08<13:06,  3.38s/it]2019-05-15 06:59:18,887 - algorithms.Algorithm - INFO   - ==> Iteration [  7][ 195 /  426]: {'process_time': 81.9708, 'prec5_c1': 14.465, 'loss': 5.6822, 'prec1_c1': 5.2034, 'load_time': 18.0292}\n",
      " 47%|████▋     | 199/427 [11:23<11:48,  3.11s/it]2019-05-15 06:59:35,030 - algorithms.Algorithm - INFO   - ==> Iteration [  7][ 200 /  426]: {'process_time': 81.9532, 'prec5_c1': 14.42, 'loss': 5.6839, 'prec1_c1': 5.1767, 'load_time': 18.0468}\n",
      " 48%|████▊     | 204/427 [11:43<14:24,  3.87s/it]2019-05-15 06:59:53,724 - algorithms.Algorithm - INFO   - ==> Iteration [  7][ 205 /  426]: {'process_time': 82.0761, 'prec5_c1': 14.4423, 'loss': 5.684, 'prec1_c1': 5.1707, 'load_time': 17.9239}\n",
      " 49%|████▉     | 209/427 [12:00<12:44,  3.51s/it]2019-05-15 07:00:11,043 - algorithms.Algorithm - INFO   - ==> Iteration [  7][ 210 /  426]: {'process_time': 82.1634, 'prec5_c1': 14.4286, 'loss': 5.6874, 'prec1_c1': 5.1841, 'load_time': 17.8366}\n",
      " 50%|█████     | 214/427 [12:16<11:55,  3.36s/it]2019-05-15 07:00:26,909 - algorithms.Algorithm - INFO   - ==> Iteration [  7][ 215 /  426]: {'process_time': 81.9284, 'prec5_c1': 14.4124, 'loss': 5.6863, 'prec1_c1': 5.1721, 'load_time': 18.0716}\n",
      " 51%|█████▏    | 219/427 [12:31<10:41,  3.09s/it]2019-05-15 07:00:42,236 - algorithms.Algorithm - INFO   - ==> Iteration [  7][ 220 /  426]: {'process_time': 81.8562, 'prec5_c1': 14.4424, 'loss': 5.6871, 'prec1_c1': 5.2152, 'load_time': 18.1438}\n",
      " 52%|█████▏    | 224/427 [12:48<11:06,  3.28s/it]2019-05-15 07:00:59,882 - algorithms.Algorithm - INFO   - ==> Iteration [  7][ 225 /  426]: {'process_time': 81.9006, 'prec5_c1': 14.4622, 'loss': 5.6885, 'prec1_c1': 5.1941, 'load_time': 18.0994}\n",
      " 54%|█████▎    | 229/427 [13:05<10:54,  3.30s/it]2019-05-15 07:01:17,032 - algorithms.Algorithm - INFO   - ==> Iteration [  7][ 230 /  426]: {'process_time': 81.9479, 'prec5_c1': 14.4522, 'loss': 5.6887, 'prec1_c1': 5.2174, 'load_time': 18.0521}\n",
      " 55%|█████▍    | 234/427 [13:22<10:41,  3.32s/it]2019-05-15 07:01:32,805 - algorithms.Algorithm - INFO   - ==> Iteration [  7][ 235 /  426]: {'process_time': 81.8377, 'prec5_c1': 14.4709, 'loss': 5.6886, 'prec1_c1': 5.2255, 'load_time': 18.1623}\n",
      " 56%|█████▌    | 239/427 [13:38<09:51,  3.15s/it]2019-05-15 07:01:48,921 - algorithms.Algorithm - INFO   - ==> Iteration [  7][ 240 /  426]: {'process_time': 81.8801, 'prec5_c1': 14.4556, 'loss': 5.6916, 'prec1_c1': 5.2139, 'load_time': 18.1199}\n",
      " 57%|█████▋    | 244/427 [13:54<09:48,  3.22s/it]2019-05-15 07:02:04,844 - algorithms.Algorithm - INFO   - ==> Iteration [  7][ 245 /  426]: {'process_time': 81.8063, 'prec5_c1': 14.4571, 'loss': 5.6915, 'prec1_c1': 5.219, 'load_time': 18.1937}\n",
      " 58%|█████▊    | 249/427 [14:10<09:29,  3.20s/it]2019-05-15 07:02:21,067 - algorithms.Algorithm - INFO   - ==> Iteration [  7][ 250 /  426]: {'process_time': 81.8202, 'prec5_c1': 14.4773, 'loss': 5.6914, 'prec1_c1': 5.1973, 'load_time': 18.1798}\n",
      " 59%|█████▉    | 254/427 [14:26<09:01,  3.13s/it]2019-05-15 07:02:36,833 - algorithms.Algorithm - INFO   - ==> Iteration [  7][ 255 /  426]: {'process_time': 81.7642, 'prec5_c1': 14.5046, 'loss': 5.6915, 'prec1_c1': 5.2026, 'load_time': 18.2358}\n",
      " 61%|██████    | 259/427 [14:43<09:40,  3.46s/it]2019-05-15 07:02:53,305 - algorithms.Algorithm - INFO   - ==> Iteration [  7][ 260 /  426]: {'process_time': 81.6496, 'prec5_c1': 14.4897, 'loss': 5.6924, 'prec1_c1': 5.1641, 'load_time': 18.3504}\n",
      " 62%|██████▏   | 264/427 [14:58<08:21,  3.07s/it]2019-05-15 07:03:08,286 - algorithms.Algorithm - INFO   - ==> Iteration [  7][ 265 /  426]: {'process_time': 81.6464, 'prec5_c1': 14.4679, 'loss': 5.6918, 'prec1_c1': 5.1597, 'load_time': 18.3536}\n",
      " 63%|██████▎   | 269/427 [15:13<08:03,  3.06s/it]2019-05-15 07:03:24,151 - algorithms.Algorithm - INFO   - ==> Iteration [  7][ 270 /  426]: {'process_time': 81.489, 'prec5_c1': 14.484, 'loss': 5.6921, 'prec1_c1': 5.1506, 'load_time': 18.511}\n",
      " 64%|██████▍   | 274/427 [15:29<08:03,  3.16s/it]2019-05-15 07:03:39,466 - algorithms.Algorithm - INFO   - ==> Iteration [  7][ 275 /  426]: {'process_time': 81.3727, 'prec5_c1': 14.5018, 'loss': 5.6918, 'prec1_c1': 5.1539, 'load_time': 18.6273}\n",
      " 65%|██████▌   | 279/427 [15:45<07:58,  3.23s/it]2019-05-15 07:03:57,766 - algorithms.Algorithm - INFO   - ==> Iteration [  7][ 280 /  426]: {'process_time': 81.4515, 'prec5_c1': 14.4952, 'loss': 5.6933, 'prec1_c1': 5.1571, 'load_time': 18.5485}\n",
      " 67%|██████▋   | 284/427 [16:03<08:03,  3.38s/it]2019-05-15 07:04:13,391 - algorithms.Algorithm - INFO   - ==> Iteration [  7][ 285 /  426]: {'process_time': 81.3819, 'prec5_c1': 14.4982, 'loss': 5.693, 'prec1_c1': 5.1673, 'load_time': 18.6181}\n"
     ]
    },
    {
     "name": "stderr",
     "output_type": "stream",
     "text": [
      " 68%|██████▊   | 289/427 [16:19<07:28,  3.25s/it]2019-05-15 07:04:29,327 - algorithms.Algorithm - INFO   - ==> Iteration [  7][ 290 /  426]: {'process_time': 81.4063, 'prec5_c1': 14.5241, 'loss': 5.6933, 'prec1_c1': 5.1701, 'load_time': 18.5937}\n",
      " 69%|██████▉   | 294/427 [16:36<07:38,  3.45s/it]2019-05-15 07:04:46,453 - algorithms.Algorithm - INFO   - ==> Iteration [  7][ 295 /  426]: {'process_time': 81.4906, 'prec5_c1': 14.5379, 'loss': 5.6947, 'prec1_c1': 5.1751, 'load_time': 18.5094}\n",
      " 70%|███████   | 299/427 [16:52<06:57,  3.26s/it]2019-05-15 07:05:02,716 - algorithms.Algorithm - INFO   - ==> Iteration [  7][ 300 /  426]: {'process_time': 81.4903, 'prec5_c1': 14.5022, 'loss': 5.6967, 'prec1_c1': 5.1822, 'load_time': 18.5097}\n",
      " 71%|███████   | 304/427 [17:09<06:51,  3.35s/it]2019-05-15 07:05:19,380 - algorithms.Algorithm - INFO   - ==> Iteration [  7][ 305 /  426]: {'process_time': 81.4306, 'prec5_c1': 14.518, 'loss': 5.6965, 'prec1_c1': 5.1934, 'load_time': 18.5694}\n",
      " 72%|███████▏  | 309/427 [17:25<06:41,  3.40s/it]2019-05-15 07:05:35,328 - algorithms.Algorithm - INFO   - ==> Iteration [  7][ 310 /  426]: {'process_time': 81.3701, 'prec5_c1': 14.4946, 'loss': 5.6968, 'prec1_c1': 5.1742, 'load_time': 18.6299}\n",
      " 74%|███████▎  | 314/427 [17:40<05:43,  3.04s/it]2019-05-15 07:05:50,276 - algorithms.Algorithm - INFO   - ==> Iteration [  7][ 315 /  426]: {'process_time': 81.4763, 'prec5_c1': 14.4635, 'loss': 5.6974, 'prec1_c1': 5.1788, 'load_time': 18.5237}\n",
      " 75%|███████▍  | 319/427 [17:56<05:42,  3.17s/it]2019-05-15 07:06:06,370 - algorithms.Algorithm - INFO   - ==> Iteration [  7][ 320 /  426]: {'process_time': 81.4147, 'prec5_c1': 14.4667, 'loss': 5.6992, 'prec1_c1': 5.1771, 'load_time': 18.5853}\n",
      " 76%|███████▌  | 324/427 [18:11<05:21,  3.12s/it]2019-05-15 07:06:22,363 - algorithms.Algorithm - INFO   - ==> Iteration [  7][ 325 /  426]: {'process_time': 81.4197, 'prec5_c1': 14.4513, 'loss': 5.7, 'prec1_c1': 5.1836, 'load_time': 18.5803}\n",
      " 77%|███████▋  | 329/427 [18:28<05:15,  3.22s/it]2019-05-15 07:06:38,813 - algorithms.Algorithm - INFO   - ==> Iteration [  7][ 330 /  426]: {'process_time': 81.4723, 'prec5_c1': 14.4465, 'loss': 5.7003, 'prec1_c1': 5.1758, 'load_time': 18.5277}\n",
      " 78%|███████▊  | 334/427 [18:45<05:20,  3.45s/it]2019-05-15 07:06:55,903 - algorithms.Algorithm - INFO   - ==> Iteration [  7][ 335 /  426]: {'process_time': 81.4362, 'prec5_c1': 14.4119, 'loss': 5.7017, 'prec1_c1': 5.1542, 'load_time': 18.5638}\n",
      " 79%|███████▉  | 339/427 [19:01<04:45,  3.24s/it]2019-05-15 07:07:12,460 - algorithms.Algorithm - INFO   - ==> Iteration [  7][ 340 /  426]: {'process_time': 81.5104, 'prec5_c1': 14.4, 'loss': 5.703, 'prec1_c1': 5.1588, 'load_time': 18.4896}\n",
      " 81%|████████  | 344/427 [19:18<04:25,  3.20s/it]2019-05-15 07:07:29,208 - algorithms.Algorithm - INFO   - ==> Iteration [  7][ 345 /  426]: {'process_time': 81.6189, 'prec5_c1': 14.3981, 'loss': 5.7027, 'prec1_c1': 5.1478, 'load_time': 18.3811}\n",
      " 82%|████████▏ | 349/427 [19:35<04:15,  3.28s/it]2019-05-15 07:07:46,708 - algorithms.Algorithm - INFO   - ==> Iteration [  7][ 350 /  426]: {'process_time': 81.5831, 'prec5_c1': 14.3448, 'loss': 5.7034, 'prec1_c1': 5.1486, 'load_time': 18.4169}\n",
      " 83%|████████▎ | 354/427 [19:51<03:49,  3.15s/it]2019-05-15 07:08:03,744 - algorithms.Algorithm - INFO   - ==> Iteration [  7][ 355 /  426]: {'process_time': 81.4333, 'prec5_c1': 14.3324, 'loss': 5.7042, 'prec1_c1': 5.1474, 'load_time': 18.5667}\n",
      " 84%|████████▍ | 359/427 [20:09<03:40,  3.25s/it]2019-05-15 07:08:20,533 - algorithms.Algorithm - INFO   - ==> Iteration [  7][ 360 /  426]: {'process_time': 81.4943, 'prec5_c1': 14.3333, 'loss': 5.7045, 'prec1_c1': 5.1296, 'load_time': 18.5057}\n",
      " 85%|████████▌ | 364/427 [20:24<03:01,  2.88s/it]2019-05-15 07:08:34,761 - algorithms.Algorithm - INFO   - ==> Iteration [  7][ 365 /  426]: {'process_time': 81.3536, 'prec5_c1': 14.3288, 'loss': 5.7049, 'prec1_c1': 5.1288, 'load_time': 18.6464}\n",
      " 86%|████████▋ | 369/427 [20:39<02:50,  2.94s/it]2019-05-15 07:08:49,541 - algorithms.Algorithm - INFO   - ==> Iteration [  7][ 370 /  426]: {'process_time': 81.3134, 'prec5_c1': 14.3243, 'loss': 5.705, 'prec1_c1': 5.1279, 'load_time': 18.6866}\n",
      " 88%|████████▊ | 374/427 [20:54<02:34,  2.91s/it]2019-05-15 07:09:04,580 - algorithms.Algorithm - INFO   - ==> Iteration [  7][ 375 /  426]: {'process_time': 81.2418, 'prec5_c1': 14.3253, 'loss': 5.7048, 'prec1_c1': 5.1218, 'load_time': 18.7582}\n",
      " 89%|████████▉ | 379/427 [21:10<02:42,  3.38s/it]2019-05-15 07:09:20,799 - algorithms.Algorithm - INFO   - ==> Iteration [  7][ 380 /  426]: {'process_time': 81.237, 'prec5_c1': 14.3404, 'loss': 5.7043, 'prec1_c1': 5.1246, 'load_time': 18.763}\n",
      " 90%|████████▉ | 384/427 [21:28<02:30,  3.50s/it]2019-05-15 07:09:38,417 - algorithms.Algorithm - INFO   - ==> Iteration [  7][ 385 /  426]: {'process_time': 81.2311, 'prec5_c1': 14.3394, 'loss': 5.7047, 'prec1_c1': 5.1273, 'load_time': 18.7689}\n",
      " 91%|█████████ | 389/427 [21:43<01:58,  3.12s/it]2019-05-15 07:09:54,019 - algorithms.Algorithm - INFO   - ==> Iteration [  7][ 390 /  426]: {'process_time': 81.3449, 'prec5_c1': 14.3385, 'loss': 5.7049, 'prec1_c1': 5.1299, 'load_time': 18.6551}\n",
      " 92%|█████████▏| 394/427 [22:00<01:49,  3.31s/it]2019-05-15 07:10:10,880 - algorithms.Algorithm - INFO   - ==> Iteration [  7][ 395 /  426]: {'process_time': 81.3245, 'prec5_c1': 14.3392, 'loss': 5.7052, 'prec1_c1': 5.1274, 'load_time': 18.6755}\n",
      " 93%|█████████▎| 399/427 [22:16<01:27,  3.12s/it]2019-05-15 07:10:26,111 - algorithms.Algorithm - INFO   - ==> Iteration [  7][ 400 /  426]: {'process_time': 81.3142, 'prec5_c1': 14.3233, 'loss': 5.7057, 'prec1_c1': 5.105, 'load_time': 18.6858}\n",
      " 95%|█████████▍| 404/427 [22:32<01:15,  3.27s/it]2019-05-15 07:10:42,762 - algorithms.Algorithm - INFO   - ==> Iteration [  7][ 405 /  426]: {'process_time': 81.2648, 'prec5_c1': 14.321, 'loss': 5.7058, 'prec1_c1': 5.093, 'load_time': 18.7352}\n",
      " 96%|█████████▌| 409/427 [22:47<00:54,  3.05s/it]2019-05-15 07:10:57,780 - algorithms.Algorithm - INFO   - ==> Iteration [  7][ 410 /  426]: {'process_time': 81.3553, 'prec5_c1': 14.3236, 'loss': 5.7059, 'prec1_c1': 5.0894, 'load_time': 18.6447}\n",
      " 97%|█████████▋| 414/427 [23:02<00:37,  2.91s/it]2019-05-15 07:11:12,756 - algorithms.Algorithm - INFO   - ==> Iteration [  7][ 415 /  426]: {'process_time': 81.3122, 'prec5_c1': 14.3149, 'loss': 5.7069, 'prec1_c1': 5.0859, 'load_time': 18.6878}\n",
      " 98%|█████████▊| 419/427 [23:17<00:24,  3.06s/it]2019-05-15 07:11:27,881 - algorithms.Algorithm - INFO   - ==> Iteration [  7][ 420 /  426]: {'process_time': 81.2921, 'prec5_c1': 14.2921, 'loss': 5.7081, 'prec1_c1': 5.081, 'load_time': 18.7079}\n",
      " 99%|█████████▉| 424/427 [23:32<00:08,  2.94s/it]2019-05-15 07:11:42,171 - algorithms.Algorithm - INFO   - ==> Iteration [  7][ 425 /  426]: {'process_time': 81.2956, 'prec5_c1': 14.2682, 'loss': 5.709, 'prec1_c1': 5.0792, 'load_time': 18.7044}\n",
      "100%|██████████| 427/427 [23:39<00:00,  2.53s/it]\n",
      "2019-05-15 07:11:46,694 - algorithms.Algorithm - INFO   - ==> Training stats: {'process_time': 81.2882, 'prec5_c1': 14.249, 'loss': 5.71, 'prec1_c1': 5.0734, 'load_time': 18.7118}\n",
      "2019-05-15 07:11:47,677 - algorithms.Algorithm - INFO   - Evaluating: Vae_NonLinearClassifiers_ImageNet_RotNet_AlexNet_Features\n",
      "2019-05-15 07:11:47,681 - algorithms.Algorithm - INFO   - ==> Dataset: custom_supervised/val [64000 images]\n",
      "100%|██████████| 427/427 [17:44<00:00,  2.20s/it]\n",
      "2019-05-15 07:29:32,000 - algorithms.Algorithm - INFO   - ==> Results: {'process_time': 76.8415, 'prec5_c1': 12.6823, 'loss': 5.9138, 'prec1_c1': 4.5909, 'load_time': 23.1585}\n",
      "2019-05-15 07:29:32,021 - algorithms.Algorithm - INFO   - ==> Evaluation stats: {'process_time': 76.8415, 'prec5_c1': 12.6823, 'loss': 5.9138, 'prec1_c1': 4.5909, 'load_time': 23.1585}\n",
      "2019-05-15 07:29:32,023 - algorithms.Algorithm - INFO   - Training epoch [  8 /  40]\n",
      "2019-05-15 07:29:32,024 - algorithms.Algorithm - INFO   - ==> Set to classifier optimizer lr = 0.0100000000\n",
      "2019-05-15 07:29:32,026 - algorithms.Algorithm - INFO   - Training: Vae_NonLinearClassifiers_ImageNet_RotNet_AlexNet_Features\n",
      "  1%|          | 4/427 [00:16<32:31,  4.61s/it]2019-05-15 07:29:52,315 - algorithms.Algorithm - INFO   - ==> Iteration [  8][   5 /  426]: {'process_time': 75.4527, 'prec5_c1': 14.2667, 'loss': 5.67, 'prec1_c1': 5.2, 'load_time': 24.5473}\n"
     ]
    },
    {
     "name": "stderr",
     "output_type": "stream",
     "text": [
      "  2%|▏         | 9/427 [00:32<23:27,  3.37s/it]2019-05-15 07:30:08,680 - algorithms.Algorithm - INFO   - ==> Iteration [  8][  10 /  426]: {'process_time': 80.6488, 'prec5_c1': 14.4, 'loss': 5.6482, 'prec1_c1': 5.8667, 'load_time': 19.3512}\n",
      "  3%|▎         | 14/427 [00:49<22:30,  3.27s/it]2019-05-15 07:30:24,759 - algorithms.Algorithm - INFO   - ==> Iteration [  8][  15 /  426]: {'process_time': 81.1472, 'prec5_c1': 14.9333, 'loss': 5.6155, 'prec1_c1': 6.0444, 'load_time': 18.8528}\n",
      "  4%|▍         | 19/427 [01:05<21:21,  3.14s/it]2019-05-15 07:30:40,260 - algorithms.Algorithm - INFO   - ==> Iteration [  8][  20 /  426]: {'process_time': 80.5057, 'prec5_c1': 15.7333, 'loss': 5.58, 'prec1_c1': 6.1, 'load_time': 19.4943}\n",
      "  6%|▌         | 24/427 [01:21<21:35,  3.21s/it]2019-05-15 07:30:56,571 - algorithms.Algorithm - INFO   - ==> Iteration [  8][  25 /  426]: {'process_time': 79.9292, 'prec5_c1': 15.84, 'loss': 5.5688, 'prec1_c1': 6.0267, 'load_time': 20.0708}\n",
      "  7%|▋         | 29/427 [01:36<20:34,  3.10s/it]2019-05-15 07:31:12,403 - algorithms.Algorithm - INFO   - ==> Iteration [  8][  30 /  426]: {'process_time': 79.9946, 'prec5_c1': 15.9556, 'loss': 5.5596, 'prec1_c1': 5.9778, 'load_time': 20.0054}\n",
      "  8%|▊         | 34/427 [01:54<23:00,  3.51s/it]2019-05-15 07:31:29,043 - algorithms.Algorithm - INFO   - ==> Iteration [  8][  35 /  426]: {'process_time': 79.8156, 'prec5_c1': 16.1143, 'loss': 5.5547, 'prec1_c1': 6.1905, 'load_time': 20.1844}\n",
      "  9%|▉         | 39/427 [02:09<20:03,  3.10s/it]2019-05-15 07:31:44,221 - algorithms.Algorithm - INFO   - ==> Iteration [  8][  40 /  426]: {'process_time': 80.1752, 'prec5_c1': 16.05, 'loss': 5.5553, 'prec1_c1': 6.1667, 'load_time': 19.8248}\n",
      " 10%|█         | 44/427 [02:25<20:45,  3.25s/it]2019-05-15 07:32:00,581 - algorithms.Algorithm - INFO   - ==> Iteration [  8][  45 /  426]: {'process_time': 80.7207, 'prec5_c1': 15.763, 'loss': 5.5641, 'prec1_c1': 6.1037, 'load_time': 19.2793}\n",
      " 11%|█▏        | 49/427 [02:42<21:53,  3.47s/it]2019-05-15 07:32:17,718 - algorithms.Algorithm - INFO   - ==> Iteration [  8][  50 /  426]: {'process_time': 80.4851, 'prec5_c1': 15.7733, 'loss': 5.5656, 'prec1_c1': 6.0133, 'load_time': 19.5149}\n",
      " 13%|█▎        | 54/427 [02:58<19:52,  3.20s/it]2019-05-15 07:32:32,944 - algorithms.Algorithm - INFO   - ==> Iteration [  8][  55 /  426]: {'process_time': 80.8647, 'prec5_c1': 15.6121, 'loss': 5.5769, 'prec1_c1': 5.9394, 'load_time': 19.1353}\n",
      " 14%|█▍        | 59/427 [03:13<19:58,  3.26s/it]2019-05-15 07:32:48,828 - algorithms.Algorithm - INFO   - ==> Iteration [  8][  60 /  426]: {'process_time': 81.029, 'prec5_c1': 15.5333, 'loss': 5.5777, 'prec1_c1': 5.8, 'load_time': 18.971}\n",
      " 15%|█▍        | 64/427 [03:29<18:52,  3.12s/it]2019-05-15 07:33:04,570 - algorithms.Algorithm - INFO   - ==> Iteration [  8][  65 /  426]: {'process_time': 81.4309, 'prec5_c1': 15.4872, 'loss': 5.5857, 'prec1_c1': 5.8154, 'load_time': 18.5691}\n",
      " 16%|█▌        | 69/427 [03:46<20:20,  3.41s/it]2019-05-15 07:33:22,802 - algorithms.Algorithm - INFO   - ==> Iteration [  8][  70 /  426]: {'process_time': 80.9403, 'prec5_c1': 15.5048, 'loss': 5.5855, 'prec1_c1': 5.7333, 'load_time': 19.0597}\n",
      " 17%|█▋        | 74/427 [04:04<20:44,  3.53s/it]2019-05-15 07:33:40,187 - algorithms.Algorithm - INFO   - ==> Iteration [  8][  75 /  426]: {'process_time': 81.3692, 'prec5_c1': 15.5378, 'loss': 5.586, 'prec1_c1': 5.8133, 'load_time': 18.6308}\n",
      " 19%|█▊        | 79/427 [04:21<20:15,  3.49s/it]2019-05-15 07:33:56,447 - algorithms.Algorithm - INFO   - ==> Iteration [  8][  80 /  426]: {'process_time': 81.9538, 'prec5_c1': 15.6333, 'loss': 5.5846, 'prec1_c1': 5.8083, 'load_time': 18.0462}\n",
      " 20%|█▉        | 84/427 [04:38<19:02,  3.33s/it]2019-05-15 07:34:13,752 - algorithms.Algorithm - INFO   - ==> Iteration [  8][  85 /  426]: {'process_time': 81.7336, 'prec5_c1': 15.5137, 'loss': 5.5909, 'prec1_c1': 5.6784, 'load_time': 18.2664}\n",
      " 21%|██        | 89/427 [04:55<19:45,  3.51s/it]2019-05-15 07:34:30,556 - algorithms.Algorithm - INFO   - ==> Iteration [  8][  90 /  426]: {'process_time': 81.808, 'prec5_c1': 15.6074, 'loss': 5.5918, 'prec1_c1': 5.6741, 'load_time': 18.192}\n",
      " 22%|██▏       | 94/427 [05:11<18:23,  3.31s/it]2019-05-15 07:34:46,679 - algorithms.Algorithm - INFO   - ==> Iteration [  8][  95 /  426]: {'process_time': 81.6762, 'prec5_c1': 15.6211, 'loss': 5.5961, 'prec1_c1': 5.6702, 'load_time': 18.3238}\n",
      " 23%|██▎       | 99/427 [05:29<19:58,  3.65s/it]2019-05-15 07:35:04,937 - algorithms.Algorithm - INFO   - ==> Iteration [  8][ 100 /  426]: {'process_time': 81.5843, 'prec5_c1': 15.6733, 'loss': 5.5919, 'prec1_c1': 5.7067, 'load_time': 18.4157}\n",
      " 24%|██▍       | 104/427 [05:46<18:13,  3.39s/it]2019-05-15 07:35:21,218 - algorithms.Algorithm - INFO   - ==> Iteration [  8][ 105 /  426]: {'process_time': 81.5593, 'prec5_c1': 15.6317, 'loss': 5.5917, 'prec1_c1': 5.6825, 'load_time': 18.4407}\n",
      " 26%|██▌       | 109/427 [06:02<17:31,  3.31s/it]2019-05-15 07:35:38,425 - algorithms.Algorithm - INFO   - ==> Iteration [  8][ 110 /  426]: {'process_time': 81.5087, 'prec5_c1': 15.7273, 'loss': 5.5921, 'prec1_c1': 5.7515, 'load_time': 18.4913}\n",
      " 27%|██▋       | 114/427 [06:20<17:28,  3.35s/it]2019-05-15 07:35:55,592 - algorithms.Algorithm - INFO   - ==> Iteration [  8][ 115 /  426]: {'process_time': 81.4959, 'prec5_c1': 15.7043, 'loss': 5.5949, 'prec1_c1': 5.7565, 'load_time': 18.5041}\n",
      " 28%|██▊       | 119/427 [06:38<18:51,  3.67s/it]2019-05-15 07:36:14,270 - algorithms.Algorithm - INFO   - ==> Iteration [  8][ 120 /  426]: {'process_time': 81.257, 'prec5_c1': 15.6722, 'loss': 5.598, 'prec1_c1': 5.7222, 'load_time': 18.743}\n",
      " 29%|██▉       | 124/427 [06:56<17:52,  3.54s/it]2019-05-15 07:36:31,464 - algorithms.Algorithm - INFO   - ==> Iteration [  8][ 125 /  426]: {'process_time': 81.4275, 'prec5_c1': 15.6107, 'loss': 5.5998, 'prec1_c1': 5.7387, 'load_time': 18.5725}\n",
      " 30%|███       | 129/427 [07:11<15:29,  3.12s/it]2019-05-15 07:36:46,710 - algorithms.Algorithm - INFO   - ==> Iteration [  8][ 130 /  426]: {'process_time': 81.5327, 'prec5_c1': 15.5641, 'loss': 5.6016, 'prec1_c1': 5.7385, 'load_time': 18.4673}\n",
      " 31%|███▏      | 134/427 [07:27<14:40,  3.00s/it]2019-05-15 07:37:02,457 - algorithms.Algorithm - INFO   - ==> Iteration [  8][ 135 /  426]: {'process_time': 81.5802, 'prec5_c1': 15.442, 'loss': 5.6056, 'prec1_c1': 5.6889, 'load_time': 18.4198}\n",
      " 33%|███▎      | 139/427 [07:43<15:07,  3.15s/it]2019-05-15 07:37:18,296 - algorithms.Algorithm - INFO   - ==> Iteration [  8][ 140 /  426]: {'process_time': 81.3391, 'prec5_c1': 15.4048, 'loss': 5.6059, 'prec1_c1': 5.6905, 'load_time': 18.6609}\n",
      " 34%|███▎      | 144/427 [07:58<14:31,  3.08s/it]2019-05-15 07:37:34,313 - algorithms.Algorithm - INFO   - ==> Iteration [  8][ 145 /  426]: {'process_time': 81.3192, 'prec5_c1': 15.4851, 'loss': 5.6079, 'prec1_c1': 5.6874, 'load_time': 18.6808}\n",
      " 35%|███▍      | 149/427 [08:15<15:01,  3.24s/it]2019-05-15 07:37:50,443 - algorithms.Algorithm - INFO   - ==> Iteration [  8][ 150 /  426]: {'process_time': 81.4558, 'prec5_c1': 15.5422, 'loss': 5.6072, 'prec1_c1': 5.7022, 'load_time': 18.5442}\n",
      " 36%|███▌      | 154/427 [08:31<14:22,  3.16s/it]2019-05-15 07:38:05,957 - algorithms.Algorithm - INFO   - ==> Iteration [  8][ 155 /  426]: {'process_time': 81.4033, 'prec5_c1': 15.5527, 'loss': 5.6088, 'prec1_c1': 5.7247, 'load_time': 18.5967}\n",
      " 37%|███▋      | 159/427 [08:46<13:41,  3.07s/it]2019-05-15 07:38:21,524 - algorithms.Algorithm - INFO   - ==> Iteration [  8][ 160 /  426]: {'process_time': 81.4566, 'prec5_c1': 15.5083, 'loss': 5.609, 'prec1_c1': 5.7083, 'load_time': 18.5434}\n",
      " 38%|███▊      | 164/427 [09:01<13:35,  3.10s/it]2019-05-15 07:38:36,407 - algorithms.Algorithm - INFO   - ==> Iteration [  8][ 165 /  426]: {'process_time': 81.6002, 'prec5_c1': 15.4828, 'loss': 5.6104, 'prec1_c1': 5.697, 'load_time': 18.3998}\n",
      " 40%|███▉      | 169/427 [09:17<13:51,  3.22s/it]2019-05-15 07:38:52,522 - algorithms.Algorithm - INFO   - ==> Iteration [  8][ 170 /  426]: {'process_time': 81.6847, 'prec5_c1': 15.4745, 'loss': 5.6114, 'prec1_c1': 5.7059, 'load_time': 18.3153}\n",
      " 41%|████      | 174/427 [09:34<14:05,  3.34s/it]2019-05-15 07:39:09,096 - algorithms.Algorithm - INFO   - ==> Iteration [  8][ 175 /  426]: {'process_time': 81.5994, 'prec5_c1': 15.4857, 'loss': 5.6109, 'prec1_c1': 5.7067, 'load_time': 18.4006}\n"
     ]
    },
    {
     "name": "stderr",
     "output_type": "stream",
     "text": [
      " 42%|████▏     | 179/427 [09:50<13:19,  3.23s/it]2019-05-15 07:39:26,006 - algorithms.Algorithm - INFO   - ==> Iteration [  8][ 180 /  426]: {'process_time': 81.6819, 'prec5_c1': 15.4889, 'loss': 5.6119, 'prec1_c1': 5.6926, 'load_time': 18.3181}\n",
      " 43%|████▎     | 184/427 [10:07<13:25,  3.31s/it]2019-05-15 07:39:42,440 - algorithms.Algorithm - INFO   - ==> Iteration [  8][ 185 /  426]: {'process_time': 81.6315, 'prec5_c1': 15.4378, 'loss': 5.6121, 'prec1_c1': 5.6613, 'load_time': 18.3685}\n",
      " 44%|████▍     | 189/427 [10:22<12:08,  3.06s/it]2019-05-15 07:39:57,793 - algorithms.Algorithm - INFO   - ==> Iteration [  8][ 190 /  426]: {'process_time': 81.7139, 'prec5_c1': 15.3474, 'loss': 5.6157, 'prec1_c1': 5.6526, 'load_time': 18.2861}\n",
      " 45%|████▌     | 194/427 [10:38<12:00,  3.09s/it]2019-05-15 07:40:13,737 - algorithms.Algorithm - INFO   - ==> Iteration [  8][ 195 /  426]: {'process_time': 81.7814, 'prec5_c1': 15.3162, 'loss': 5.6177, 'prec1_c1': 5.6342, 'load_time': 18.2186}\n",
      " 47%|████▋     | 199/427 [10:56<12:58,  3.42s/it]2019-05-15 07:40:31,625 - algorithms.Algorithm - INFO   - ==> Iteration [  8][ 200 /  426]: {'process_time': 81.6881, 'prec5_c1': 15.29, 'loss': 5.6202, 'prec1_c1': 5.6533, 'load_time': 18.3119}\n",
      " 48%|████▊     | 204/427 [11:12<11:54,  3.21s/it]2019-05-15 07:40:47,201 - algorithms.Algorithm - INFO   - ==> Iteration [  8][ 205 /  426]: {'process_time': 81.6459, 'prec5_c1': 15.2911, 'loss': 5.6205, 'prec1_c1': 5.6455, 'load_time': 18.3541}\n",
      " 49%|████▉     | 209/427 [11:27<11:10,  3.07s/it]2019-05-15 07:41:02,472 - algorithms.Algorithm - INFO   - ==> Iteration [  8][ 210 /  426]: {'process_time': 81.3931, 'prec5_c1': 15.2667, 'loss': 5.623, 'prec1_c1': 5.6349, 'load_time': 18.6069}\n",
      " 50%|█████     | 214/427 [11:42<10:42,  3.02s/it]2019-05-15 07:41:17,331 - algorithms.Algorithm - INFO   - ==> Iteration [  8][ 215 /  426]: {'process_time': 81.3398, 'prec5_c1': 15.2744, 'loss': 5.6229, 'prec1_c1': 5.6217, 'load_time': 18.6602}\n",
      " 51%|█████▏    | 219/427 [11:58<10:45,  3.10s/it]2019-05-15 07:41:32,832 - algorithms.Algorithm - INFO   - ==> Iteration [  8][ 220 /  426]: {'process_time': 81.3481, 'prec5_c1': 15.2182, 'loss': 5.6242, 'prec1_c1': 5.6061, 'load_time': 18.6519}\n",
      " 52%|█████▏    | 224/427 [12:13<10:56,  3.23s/it]2019-05-15 07:41:49,047 - algorithms.Algorithm - INFO   - ==> Iteration [  8][ 225 /  426]: {'process_time': 81.4769, 'prec5_c1': 15.1911, 'loss': 5.6233, 'prec1_c1': 5.6178, 'load_time': 18.5231}\n",
      " 54%|█████▎    | 229/427 [12:31<11:43,  3.55s/it]2019-05-15 07:42:06,544 - algorithms.Algorithm - INFO   - ==> Iteration [  8][ 230 /  426]: {'process_time': 81.472, 'prec5_c1': 15.1478, 'loss': 5.626, 'prec1_c1': 5.5826, 'load_time': 18.528}\n",
      " 55%|█████▍    | 234/427 [12:46<10:05,  3.14s/it]2019-05-15 07:42:21,529 - algorithms.Algorithm - INFO   - ==> Iteration [  8][ 235 /  426]: {'process_time': 81.265, 'prec5_c1': 15.1858, 'loss': 5.6258, 'prec1_c1': 5.5887, 'load_time': 18.735}\n",
      " 56%|█████▌    | 239/427 [13:03<10:52,  3.47s/it]2019-05-15 07:42:38,148 - algorithms.Algorithm - INFO   - ==> Iteration [  8][ 240 /  426]: {'process_time': 81.2992, 'prec5_c1': 15.1639, 'loss': 5.6273, 'prec1_c1': 5.6028, 'load_time': 18.7008}\n",
      " 57%|█████▋    | 244/427 [13:18<09:15,  3.04s/it]2019-05-15 07:42:53,171 - algorithms.Algorithm - INFO   - ==> Iteration [  8][ 245 /  426]: {'process_time': 81.3021, 'prec5_c1': 15.1429, 'loss': 5.6295, 'prec1_c1': 5.5864, 'load_time': 18.6979}\n",
      " 58%|█████▊    | 249/427 [13:34<09:56,  3.35s/it]2019-05-15 07:43:09,228 - algorithms.Algorithm - INFO   - ==> Iteration [  8][ 250 /  426]: {'process_time': 81.3527, 'prec5_c1': 15.1787, 'loss': 5.6292, 'prec1_c1': 5.6027, 'load_time': 18.6473}\n",
      " 59%|█████▉    | 254/427 [13:50<09:33,  3.32s/it]2019-05-15 07:43:26,001 - algorithms.Algorithm - INFO   - ==> Iteration [  8][ 255 /  426]: {'process_time': 81.4031, 'prec5_c1': 15.1399, 'loss': 5.6293, 'prec1_c1': 5.6078, 'load_time': 18.5969}\n",
      " 61%|██████    | 259/427 [14:06<08:44,  3.12s/it]2019-05-15 07:43:41,657 - algorithms.Algorithm - INFO   - ==> Iteration [  8][ 260 /  426]: {'process_time': 81.3951, 'prec5_c1': 15.1718, 'loss': 5.6277, 'prec1_c1': 5.6179, 'load_time': 18.6049}\n",
      " 62%|██████▏   | 264/427 [14:21<08:04,  2.97s/it]2019-05-15 07:43:56,549 - algorithms.Algorithm - INFO   - ==> Iteration [  8][ 265 /  426]: {'process_time': 81.4572, 'prec5_c1': 15.1925, 'loss': 5.627, 'prec1_c1': 5.6101, 'load_time': 18.5428}\n",
      " 63%|██████▎   | 269/427 [14:36<07:48,  2.96s/it]2019-05-15 07:44:11,952 - algorithms.Algorithm - INFO   - ==> Iteration [  8][ 270 /  426]: {'process_time': 81.3904, 'prec5_c1': 15.2074, 'loss': 5.6269, 'prec1_c1': 5.6222, 'load_time': 18.6096}\n",
      " 64%|██████▍   | 274/427 [14:52<07:52,  3.09s/it]2019-05-15 07:44:27,494 - algorithms.Algorithm - INFO   - ==> Iteration [  8][ 275 /  426]: {'process_time': 81.4738, 'prec5_c1': 15.1879, 'loss': 5.6287, 'prec1_c1': 5.617, 'load_time': 18.5262}\n",
      " 65%|██████▌   | 279/427 [15:09<08:47,  3.57s/it]2019-05-15 07:44:45,163 - algorithms.Algorithm - INFO   - ==> Iteration [  8][ 280 /  426]: {'process_time': 81.5701, 'prec5_c1': 15.1833, 'loss': 5.6297, 'prec1_c1': 5.6286, 'load_time': 18.4299}\n",
      " 67%|██████▋   | 284/427 [15:28<08:51,  3.72s/it]2019-05-15 07:45:04,001 - algorithms.Algorithm - INFO   - ==> Iteration [  8][ 285 /  426]: {'process_time': 81.5219, 'prec5_c1': 15.1953, 'loss': 5.6309, 'prec1_c1': 5.6164, 'load_time': 18.4781}\n",
      " 68%|██████▊   | 289/427 [15:45<07:42,  3.35s/it]2019-05-15 07:45:20,699 - algorithms.Algorithm - INFO   - ==> Iteration [  8][ 290 /  426]: {'process_time': 81.5572, 'prec5_c1': 15.2023, 'loss': 5.6308, 'prec1_c1': 5.6253, 'load_time': 18.4428}\n",
      " 69%|██████▉   | 294/427 [16:02<07:41,  3.47s/it]2019-05-15 07:45:38,448 - algorithms.Algorithm - INFO   - ==> Iteration [  8][ 295 /  426]: {'process_time': 81.5395, 'prec5_c1': 15.1887, 'loss': 5.6316, 'prec1_c1': 5.6113, 'load_time': 18.4605}\n",
      " 70%|███████   | 299/427 [16:18<06:54,  3.24s/it]2019-05-15 07:45:54,223 - algorithms.Algorithm - INFO   - ==> Iteration [  8][ 300 /  426]: {'process_time': 81.4932, 'prec5_c1': 15.1867, 'loss': 5.6313, 'prec1_c1': 5.6178, 'load_time': 18.5068}\n",
      " 71%|███████   | 304/427 [16:35<06:38,  3.24s/it]2019-05-15 07:46:11,890 - algorithms.Algorithm - INFO   - ==> Iteration [  8][ 305 /  426]: {'process_time': 81.6049, 'prec5_c1': 15.1825, 'loss': 5.632, 'prec1_c1': 5.6153, 'load_time': 18.3951}\n",
      " 72%|███████▏  | 309/427 [16:52<06:30,  3.31s/it]2019-05-15 07:46:28,194 - algorithms.Algorithm - INFO   - ==> Iteration [  8][ 310 /  426]: {'process_time': 81.6739, 'prec5_c1': 15.1871, 'loss': 5.6321, 'prec1_c1': 5.5978, 'load_time': 18.3261}\n",
      " 74%|███████▎  | 314/427 [17:07<05:40,  3.01s/it]2019-05-15 07:46:43,043 - algorithms.Algorithm - INFO   - ==> Iteration [  8][ 315 /  426]: {'process_time': 81.603, 'prec5_c1': 15.1704, 'loss': 5.6335, 'prec1_c1': 5.5704, 'load_time': 18.397}\n",
      " 75%|███████▍  | 319/427 [17:22<05:18,  2.95s/it]2019-05-15 07:46:58,360 - algorithms.Algorithm - INFO   - ==> Iteration [  8][ 320 /  426]: {'process_time': 81.5943, 'prec5_c1': 15.1563, 'loss': 5.6341, 'prec1_c1': 5.5708, 'load_time': 18.4057}\n",
      " 76%|███████▌  | 324/427 [17:37<05:03,  2.95s/it]2019-05-15 07:47:13,208 - algorithms.Algorithm - INFO   - ==> Iteration [  8][ 325 /  426]: {'process_time': 81.5835, 'prec5_c1': 15.1487, 'loss': 5.6335, 'prec1_c1': 5.5774, 'load_time': 18.4165}\n",
      " 77%|███████▋  | 329/427 [17:53<05:10,  3.17s/it]2019-05-15 07:47:29,159 - algorithms.Algorithm - INFO   - ==> Iteration [  8][ 330 /  426]: {'process_time': 81.6274, 'prec5_c1': 15.1495, 'loss': 5.6336, 'prec1_c1': 5.5859, 'load_time': 18.3726}\n",
      " 78%|███████▊  | 334/427 [18:10<05:03,  3.27s/it]2019-05-15 07:47:46,398 - algorithms.Algorithm - INFO   - ==> Iteration [  8][ 335 /  426]: {'process_time': 81.6265, 'prec5_c1': 15.1622, 'loss': 5.6326, 'prec1_c1': 5.596, 'load_time': 18.3735}\n",
      " 79%|███████▉  | 339/427 [18:26<04:38,  3.16s/it]2019-05-15 07:48:01,671 - algorithms.Algorithm - INFO   - ==> Iteration [  8][ 340 /  426]: {'process_time': 81.6617, 'prec5_c1': 15.1353, 'loss': 5.6343, 'prec1_c1': 5.5941, 'load_time': 18.3383}\n",
      " 81%|████████  | 344/427 [18:41<04:19,  3.13s/it]2019-05-15 07:48:16,531 - algorithms.Algorithm - INFO   - ==> Iteration [  8][ 345 /  426]: {'process_time': 81.6977, 'prec5_c1': 15.0995, 'loss': 5.6367, 'prec1_c1': 5.5652, 'load_time': 18.3023}\n"
     ]
    },
    {
     "name": "stderr",
     "output_type": "stream",
     "text": [
      " 82%|████████▏ | 349/427 [18:57<04:01,  3.10s/it]2019-05-15 07:48:32,190 - algorithms.Algorithm - INFO   - ==> Iteration [  8][ 350 /  426]: {'process_time': 81.745, 'prec5_c1': 15.1086, 'loss': 5.637, 'prec1_c1': 5.5695, 'load_time': 18.255}\n",
      " 83%|████████▎ | 354/427 [19:13<04:07,  3.39s/it]2019-05-15 07:48:48,292 - algorithms.Algorithm - INFO   - ==> Iteration [  8][ 355 /  426]: {'process_time': 81.8142, 'prec5_c1': 15.0873, 'loss': 5.639, 'prec1_c1': 5.5512, 'load_time': 18.1858}\n",
      " 84%|████████▍ | 359/427 [19:28<03:36,  3.19s/it]2019-05-15 07:49:03,754 - algorithms.Algorithm - INFO   - ==> Iteration [  8][ 360 /  426]: {'process_time': 81.8305, 'prec5_c1': 15.0759, 'loss': 5.6389, 'prec1_c1': 5.5389, 'load_time': 18.1695}\n",
      " 85%|████████▌ | 364/427 [19:44<03:17,  3.13s/it]2019-05-15 07:49:19,499 - algorithms.Algorithm - INFO   - ==> Iteration [  8][ 365 /  426]: {'process_time': 81.7704, 'prec5_c1': 15.0813, 'loss': 5.6389, 'prec1_c1': 5.5306, 'load_time': 18.2296}\n",
      " 86%|████████▋ | 369/427 [20:01<03:21,  3.47s/it]2019-05-15 07:49:37,120 - algorithms.Algorithm - INFO   - ==> Iteration [  8][ 370 /  426]: {'process_time': 81.8053, 'prec5_c1': 15.0414, 'loss': 5.641, 'prec1_c1': 5.5081, 'load_time': 18.1947}\n",
      " 88%|████████▊ | 374/427 [20:18<02:58,  3.38s/it]2019-05-15 07:49:53,558 - algorithms.Algorithm - INFO   - ==> Iteration [  8][ 375 /  426]: {'process_time': 81.7248, 'prec5_c1': 15.0436, 'loss': 5.6413, 'prec1_c1': 5.5182, 'load_time': 18.2752}\n",
      " 89%|████████▉ | 379/427 [20:34<02:37,  3.29s/it]2019-05-15 07:50:09,633 - algorithms.Algorithm - INFO   - ==> Iteration [  8][ 380 /  426]: {'process_time': 81.7397, 'prec5_c1': 15.0491, 'loss': 5.6417, 'prec1_c1': 5.5053, 'load_time': 18.2603}\n",
      " 90%|████████▉ | 384/427 [20:52<02:29,  3.47s/it]2019-05-15 07:50:27,650 - algorithms.Algorithm - INFO   - ==> Iteration [  8][ 385 /  426]: {'process_time': 81.7653, 'prec5_c1': 15.0182, 'loss': 5.6425, 'prec1_c1': 5.4909, 'load_time': 18.2347}\n",
      " 91%|█████████ | 389/427 [21:09<02:16,  3.60s/it]2019-05-15 07:50:44,503 - algorithms.Algorithm - INFO   - ==> Iteration [  8][ 390 /  426]: {'process_time': 81.7846, 'prec5_c1': 15.0342, 'loss': 5.6421, 'prec1_c1': 5.4889, 'load_time': 18.2154}\n",
      " 92%|█████████▏| 394/427 [21:26<01:49,  3.31s/it]2019-05-15 07:51:00,958 - algorithms.Algorithm - INFO   - ==> Iteration [  8][ 395 /  426]: {'process_time': 81.7851, 'prec5_c1': 15.0143, 'loss': 5.6431, 'prec1_c1': 5.4684, 'load_time': 18.2149}\n",
      " 93%|█████████▎| 399/427 [21:42<01:32,  3.30s/it]2019-05-15 07:51:18,133 - algorithms.Algorithm - INFO   - ==> Iteration [  8][ 400 /  426]: {'process_time': 81.7384, 'prec5_c1': 15.0017, 'loss': 5.6446, 'prec1_c1': 5.4633, 'load_time': 18.2616}\n",
      " 95%|█████████▍| 404/427 [21:58<01:11,  3.10s/it]2019-05-15 07:51:33,241 - algorithms.Algorithm - INFO   - ==> Iteration [  8][ 405 /  426]: {'process_time': 81.7719, 'prec5_c1': 14.9827, 'loss': 5.6455, 'prec1_c1': 5.4486, 'load_time': 18.2281}\n",
      " 96%|█████████▌| 409/427 [22:14<00:59,  3.28s/it]2019-05-15 07:51:49,578 - algorithms.Algorithm - INFO   - ==> Iteration [  8][ 410 /  426]: {'process_time': 81.7994, 'prec5_c1': 14.9577, 'loss': 5.6471, 'prec1_c1': 5.4276, 'load_time': 18.2006}\n",
      " 97%|█████████▋| 414/427 [22:29<00:38,  2.95s/it]2019-05-15 07:52:04,326 - algorithms.Algorithm - INFO   - ==> Iteration [  8][ 415 /  426]: {'process_time': 81.6782, 'prec5_c1': 14.9671, 'loss': 5.6474, 'prec1_c1': 5.441, 'load_time': 18.3218}\n",
      " 98%|█████████▊| 419/427 [22:45<00:26,  3.34s/it]2019-05-15 07:52:21,821 - algorithms.Algorithm - INFO   - ==> Iteration [  8][ 420 /  426]: {'process_time': 81.6235, 'prec5_c1': 14.9873, 'loss': 5.6468, 'prec1_c1': 5.4429, 'load_time': 18.3765}\n",
      " 99%|█████████▉| 424/427 [23:03<00:10,  3.44s/it]2019-05-15 07:52:38,836 - algorithms.Algorithm - INFO   - ==> Iteration [  8][ 425 /  426]: {'process_time': 81.6139, 'prec5_c1': 14.9741, 'loss': 5.6478, 'prec1_c1': 5.4212, 'load_time': 18.3861}\n",
      "100%|██████████| 427/427 [23:12<00:00,  3.04s/it]\n",
      "2019-05-15 07:52:44,626 - algorithms.Algorithm - INFO   - ==> Training stats: {'process_time': 81.6378, 'prec5_c1': 14.9578, 'loss': 5.6478, 'prec1_c1': 5.4231, 'load_time': 18.3622}\n",
      "2019-05-15 07:52:45,357 - algorithms.Algorithm - INFO   - Evaluating: Vae_NonLinearClassifiers_ImageNet_RotNet_AlexNet_Features\n",
      "2019-05-15 07:52:45,361 - algorithms.Algorithm - INFO   - ==> Dataset: custom_supervised/val [64000 images]\n",
      " 24%|██▎       | 101/427 [05:25<18:18,  3.37s/it]"
     ]
    }
   ],
   "source": [
    "if not args_opt.evaluate: # train the algorithm\n",
    "    algorithm.solve(dloader_train, dloader_test)\n",
    "else:\n",
    "    algorithm.evaluate(dloader_test) # evaluate the algorithm\n"
   ]
  },
  {
   "cell_type": "markdown",
   "metadata": {},
   "source": [
    "/scratch/um367/urwa-env/py2.7.12/lib/python2.7/site-packages/torchvision/transforms/functional.py\", line 48, in to_tensor"
   ]
  }
 ],
 "metadata": {
  "kernelspec": {
   "display_name": "Python 2",
   "language": "python",
   "name": "python2"
  },
  "language_info": {
   "codemirror_mode": {
    "name": "ipython",
    "version": 2
   },
   "file_extension": ".py",
   "mimetype": "text/x-python",
   "name": "python",
   "nbconvert_exporter": "python",
   "pygments_lexer": "ipython2",
   "version": "2.7.12"
  }
 },
 "nbformat": 4,
 "nbformat_minor": 2
}
