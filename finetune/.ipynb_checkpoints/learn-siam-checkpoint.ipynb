{
 "cells": [
  {
   "cell_type": "code",
   "execution_count": 1,
   "metadata": {},
   "outputs": [],
   "source": [
    "#from __future__ import print_function\n",
    "import argparse\n",
    "import os\n",
    "import imp\n",
    "import algorithms as alg\n",
    "from dataloader import DataLoader, GenericDataset"
   ]
  },
  {
   "cell_type": "code",
   "execution_count": 2,
   "metadata": {},
   "outputs": [
    {
     "data": {
      "text/plain": [
       "1L"
      ]
     },
     "execution_count": 2,
     "metadata": {},
     "output_type": "execute_result"
    }
   ],
   "source": [
    "import torch\n",
    "import torch.nn as nn\n",
    "torch.cuda.device_count()"
   ]
  },
  {
   "cell_type": "code",
   "execution_count": 3,
   "metadata": {},
   "outputs": [],
   "source": [
    "class Namespace:\n",
    "    def __init__(self, **kwargs):\n",
    "        self.__dict__.update(kwargs)"
   ]
  },
  {
   "cell_type": "code",
   "execution_count": 4,
   "metadata": {},
   "outputs": [],
   "source": [
    "args_opt = Namespace(\n",
    "    exp = 'Vae_NonLinearClassifiers_ImageNet_RotNet_AlexNet_Features',\n",
    "    evaluate = False,\n",
    "    checkpoint = 0,\n",
    "    num_workers = 1,\n",
    "    cuda = True,\n",
    "    disp_step= 5\n",
    ")"
   ]
  },
  {
   "cell_type": "code",
   "execution_count": 5,
   "metadata": {},
   "outputs": [],
   "source": [
    "exp_config_file = os.path.join('.','config',args_opt.exp+'.py')\n",
    "# if args_opt.semi == -1:\n",
    "exp_directory = os.path.join('.','experiments',args_opt.exp)\n",
    "# else:\n",
    "#    assert(args_opt.semi>0)\n",
    "#    exp_directory = os.path.join('.','experiments/unsupervised',args_opt.exp+'_semi'+str(args_opt.semi))"
   ]
  },
  {
   "cell_type": "code",
   "execution_count": 6,
   "metadata": {},
   "outputs": [
    {
     "data": {
      "text/plain": [
       "'./config/Vae_NonLinearClassifiers_ImageNet_RotNet_AlexNet_Features.py'"
      ]
     },
     "execution_count": 6,
     "metadata": {},
     "output_type": "execute_result"
    }
   ],
   "source": [
    "exp_config_file"
   ]
  },
  {
   "cell_type": "code",
   "execution_count": 7,
   "metadata": {},
   "outputs": [
    {
     "name": "stdout",
     "output_type": "stream",
     "text": [
      "Launching experiment: ./config/Vae_NonLinearClassifiers_ImageNet_RotNet_AlexNet_Features.py\n",
      "Loading experiment Vae_NonLinearClassifiers_ImageNet_RotNet_AlexNet_Features from file: ./config/Vae_NonLinearClassifiers_ImageNet_RotNet_AlexNet_Features.py\n",
      "Generated logs, snapshots, and model files will be stored on ./experiments/Vae_NonLinearClassifiers_ImageNet_RotNet_AlexNet_Features\n"
     ]
    }
   ],
   "source": [
    "# Load the configuration params of the experiment\n",
    "print('Launching experiment: %s' % exp_config_file)\n",
    "config = imp.load_source(\"\",exp_config_file).config\n",
    "config['exp_dir'] = exp_directory # the place where logs, models, and other stuff will be stored\n",
    "print(\"Loading experiment %s from file: %s\" % (args_opt.exp, exp_config_file))\n",
    "print(\"Generated logs, snapshots, and model files will be stored on %s\" % (config['exp_dir']))"
   ]
  },
  {
   "cell_type": "code",
   "execution_count": 8,
   "metadata": {},
   "outputs": [],
   "source": [
    "# Set train and test datasets and the corresponding data loaders\n",
    "data_train_opt = config['data_train_opt']\n",
    "data_test_opt = config['data_test_opt']\n",
    "num_imgs_per_cat = data_train_opt['num_imgs_per_cat'] if ('num_imgs_per_cat' in data_train_opt) else None"
   ]
  },
  {
   "cell_type": "code",
   "execution_count": 9,
   "metadata": {},
   "outputs": [
    {
     "name": "stdout",
     "output_type": "stream",
     "text": [
      "sample\n"
     ]
    }
   ],
   "source": [
    "dataset_train = GenericDataset(\n",
    "    dataset_name=data_train_opt['dataset_name'],\n",
    "    split=data_train_opt['split'],\n",
    "    random_sized_crop=data_train_opt['random_sized_crop'],\n",
    "num_imgs_per_cat=num_imgs_per_cat)"
   ]
  },
  {
   "cell_type": "code",
   "execution_count": 10,
   "metadata": {},
   "outputs": [
    {
     "name": "stdout",
     "output_type": "stream",
     "text": [
      "sample\n"
     ]
    }
   ],
   "source": [
    "dataset_test = GenericDataset(\n",
    "    dataset_name=data_test_opt['dataset_name'],\n",
    "    split=data_test_opt['split'],\n",
    "    random_sized_crop=data_test_opt['random_sized_crop'])"
   ]
  },
  {
   "cell_type": "code",
   "execution_count": 11,
   "metadata": {},
   "outputs": [],
   "source": [
    "dloader_train = DataLoader(\n",
    "    dataset=dataset_train,\n",
    "    batch_size=data_train_opt['batch_size'],\n",
    "    unsupervised=data_train_opt['unsupervised'],\n",
    "    epoch_size=data_train_opt['epoch_size'],\n",
    "    num_workers=args_opt.num_workers,\n",
    "shuffle=True)"
   ]
  },
  {
   "cell_type": "code",
   "execution_count": 12,
   "metadata": {},
   "outputs": [],
   "source": [
    "dloader_test = DataLoader(\n",
    "    dataset=dataset_test,\n",
    "    batch_size=data_test_opt['batch_size'],\n",
    "    unsupervised=data_test_opt['unsupervised'],\n",
    "    epoch_size=data_test_opt['epoch_size'],\n",
    "    num_workers=args_opt.num_workers,\n",
    "shuffle=False)"
   ]
  },
  {
   "cell_type": "code",
   "execution_count": 13,
   "metadata": {},
   "outputs": [],
   "source": [
    "# import torchvision.datasets as datasets\n",
    "# import torchvision.transforms as transforms\n",
    "\n",
    "# trainDataDir = '/scratch/um367/DL/data/sampledata/supervised/train'\n",
    "# valDataDir = '/scratch/um367/DL/data/sampledata/supervised/val'\n",
    "\n",
    "# kwargs = {'num_workers': 1, 'pin_memory': True} if args_opt.cuda else {}\n",
    "\n",
    "# dloader_train = torch.utils.data.DataLoader(\n",
    "#     datasets.ImageFolder(trainDataDir, transform=transforms.ToTensor()),\n",
    "#     batch_size=data_train_opt['batch_size'], shuffle=True, **kwargs)\n",
    "\n",
    "# dloader_test = torch.utils.data.DataLoader(\n",
    "#     datasets.ImageFolder(valDataDir, transform=transforms.ToTensor()),\n",
    "#     batch_size=data_test_opt['batch_size'], shuffle=True, **kwargs)"
   ]
  },
  {
   "cell_type": "code",
   "execution_count": 14,
   "metadata": {},
   "outputs": [
    {
     "data": {
      "text/plain": [
       "170"
      ]
     },
     "execution_count": 14,
     "metadata": {},
     "output_type": "execute_result"
    }
   ],
   "source": [
    "len(dloader_train.dataset)"
   ]
  },
  {
   "cell_type": "code",
   "execution_count": 15,
   "metadata": {},
   "outputs": [],
   "source": [
    "config['disp_step'] = args_opt.disp_step"
   ]
  },
  {
   "cell_type": "code",
   "execution_count": 16,
   "metadata": {
    "scrolled": false
   },
   "outputs": [
    {
     "name": "stderr",
     "output_type": "stream",
     "text": [
      "2019-05-15 01:48:07,134 - algorithms.Algorithm - INFO   - Algorithm options {'max_num_epochs': 40, 'disp_step': 5, 'algorithm_type': 'FeatureClassificationModel', 'criterions': {'loss': {'opt': None, 'ctype': 'CrossEntropyLoss'}}, 'data_test_opt': {'unsupervised': False, 'batch_size': 150, 'epoch_size': None, 'random_sized_crop': False, 'split': 'supervised/val', 'dataset_name': 'sample'}, 'exp_dir': './experiments/Vae_NonLinearClassifiers_ImageNet_RotNet_AlexNet_Features', 'out_feat_keys': ['conv5'], 'networks': {'classifier': {'opt': [{'cls_type': 'Vae', 'num_classes': 1000, 'nChannels': 256}], 'def_file': 'architectures/MultipleNonLinearClassifiers.py', 'optim_params': {'LUT_lr': [(10, 0.01), (20, 0.002), (30, 0.0004), (40, 8e-05)], 'nesterov': True, 'optim_type': 'sgd', 'lr': 0.1, 'weight_decay': 0.0005, 'momentum': 0.9}, 'pretrained': None}, 'feat_extractor': {'opt': {'num_classes': 4}, 'def_file': 'architectures/vaecnn.py', 'optim_params': None, 'pretrained': './vaetest3.pth.tar'}}, 'data_train_opt': {'unsupervised': False, 'batch_size': 150, 'epoch_size': None, 'random_sized_crop': False, 'split': 'supervised/train', 'dataset_name': 'sample'}}\n",
      "2019-05-15 01:48:07,136 - algorithms.Algorithm - INFO   - Set network classifier\n",
      "2019-05-15 01:48:07,137 - algorithms.Algorithm - INFO   - ==> Initiliaze network classifier from file architectures/MultipleNonLinearClassifiers.py with opts: [{'cls_type': 'Vae', 'num_classes': 1000, 'nChannels': 256}]\n"
     ]
    },
    {
     "name": "stdout",
     "output_type": "stream",
     "text": [
      "init_all_networks()\n",
      "[('classifier', {'opt': [{'cls_type': 'Vae', 'num_classes': 1000, 'nChannels': 256}], 'def_file': 'architectures/MultipleNonLinearClassifiers.py', 'optim_params': {'LUT_lr': [(10, 0.01), (20, 0.002), (30, 0.0004), (40, 8e-05)], 'nesterov': True, 'optim_type': 'sgd', 'lr': 0.1, 'weight_decay': 0.0005, 'momentum': 0.9}, 'pretrained': None}), ('feat_extractor', {'opt': {'num_classes': 4}, 'def_file': 'architectures/vaecnn.py', 'optim_params': None, 'pretrained': './vaetest3.pth.tar'})]\n"
     ]
    },
    {
     "name": "stderr",
     "output_type": "stream",
     "text": [
      "2019-05-15 01:48:08,203 - algorithms.Algorithm - INFO   - Set network feat_extractor\n",
      "2019-05-15 01:48:08,205 - algorithms.Algorithm - INFO   - ==> Initiliaze network feat_extractor from file architectures/vaecnn.py with opts: {'num_classes': 4}\n",
      "2019-05-15 01:48:08,595 - algorithms.Algorithm - INFO   - ==> Load pretrained parameters from file ./vaetest3.pth.tar:\n",
      "2019-05-15 01:48:20,997 - algorithms.Algorithm - INFO   - Initialize criterion[loss]: CrossEntropyLoss with options: None\n"
     ]
    },
    {
     "name": "stdout",
     "output_type": "stream",
     "text": [
      "init_all_criterions()\n",
      "allocate_tensors()\n"
     ]
    }
   ],
   "source": [
    "algorithm = getattr(alg, config['algorithm_type'])(config)"
   ]
  },
  {
   "cell_type": "code",
   "execution_count": 17,
   "metadata": {},
   "outputs": [
    {
     "data": {
      "text/plain": [
       "9216"
      ]
     },
     "execution_count": 17,
     "metadata": {},
     "output_type": "execute_result"
    }
   ],
   "source": [
    "# device = torch.device(\"cuda\")\n",
    "# device\n",
    "256*6*6"
   ]
  },
  {
   "cell_type": "code",
   "execution_count": 18,
   "metadata": {},
   "outputs": [],
   "source": [
    "if args_opt.cuda: # enable cuda\n",
    "#     if torch.cuda.device_count() > 1:\n",
    "#         algorithm = nn.DataParallel(algorithm)\n",
    "    algorithm.load_to_gpu()\n",
    "#     algorithm.to(device)\n",
    "if args_opt.checkpoint > 0: # load checkpoint\n",
    "    algorithm.load_checkpoint(args_opt.checkpoint, train= (not args_opt.evaluate))"
   ]
  },
  {
   "cell_type": "code",
   "execution_count": 19,
   "metadata": {
    "scrolled": false
   },
   "outputs": [
    {
     "name": "stderr",
     "output_type": "stream",
     "text": [
      "2019-05-15 01:48:21,211 - algorithms.Algorithm - INFO   - Initialize optimizer: sgd with params: {'LUT_lr': [(10, 0.01), (20, 0.002), (30, 0.0004), (40, 8e-05)], 'nesterov': True, 'optim_type': 'sgd', 'lr': 0.1, 'weight_decay': 0.0005, 'momentum': 0.9} for netwotk: classifier\n",
      "2019-05-15 01:48:21,213 - algorithms.Algorithm - INFO   - Training epoch [  1 /  40]\n",
      "2019-05-15 01:48:21,214 - algorithms.Algorithm - INFO   - ==> Set to classifier optimizer lr = 0.0100000000\n",
      "2019-05-15 01:48:21,215 - algorithms.Algorithm - INFO   - Training: Vae_NonLinearClassifiers_ImageNet_RotNet_AlexNet_Features\n",
      "100%|██████████| 2/2 [00:04<00:00,  2.18s/it]\n",
      "2019-05-15 01:48:25,574 - algorithms.Algorithm - INFO   - ==> Training stats: {'process_time': 71.3825, 'prec5_c1': 0.0, 'loss': 7.2464, 'prec1_c1': 0.0, 'load_time': 28.6175}\n"
     ]
    },
    {
     "name": "stdout",
     "output_type": "stream",
     "text": [
      "torch.Size([150, 4096])\n",
      "torch.Size([20, 4096])\n"
     ]
    },
    {
     "name": "stderr",
     "output_type": "stream",
     "text": [
      "2019-05-15 01:48:26,089 - algorithms.Algorithm - INFO   - Evaluating: Vae_NonLinearClassifiers_ImageNet_RotNet_AlexNet_Features\n",
      "2019-05-15 01:48:26,091 - algorithms.Algorithm - INFO   - ==> Dataset: sample_supervised/val [170 images]\n",
      " 50%|█████     | 1/2 [00:03<00:03,  3.08s/it]"
     ]
    },
    {
     "name": "stdout",
     "output_type": "stream",
     "text": [
      "torch.Size([150, 4096])\n"
     ]
    },
    {
     "name": "stderr",
     "output_type": "stream",
     "text": [
      "100%|██████████| 2/2 [00:03<00:00,  2.22s/it]\n",
      "2019-05-15 01:48:29,385 - algorithms.Algorithm - INFO   - ==> Results: {'process_time': 84.6608, 'prec5_c1': 32.6667, 'loss': 6.6761, 'prec1_c1': 21.5, 'load_time': 15.3392}\n",
      "2019-05-15 01:48:29,388 - algorithms.Algorithm - INFO   - ==> Evaluation stats: {'process_time': 84.6608, 'prec5_c1': 32.6667, 'loss': 6.6761, 'prec1_c1': 21.5, 'load_time': 15.3392}\n",
      "2019-05-15 01:48:29,390 - algorithms.Algorithm - INFO   - Training epoch [  2 /  40]\n",
      "2019-05-15 01:48:29,391 - algorithms.Algorithm - INFO   - ==> Set to classifier optimizer lr = 0.0100000000\n",
      "2019-05-15 01:48:29,393 - algorithms.Algorithm - INFO   - Training: Vae_NonLinearClassifiers_ImageNet_RotNet_AlexNet_Features\n",
      "  0%|          | 0/2 [00:00<?, ?it/s]"
     ]
    },
    {
     "name": "stdout",
     "output_type": "stream",
     "text": [
      "torch.Size([20, 4096])\n"
     ]
    },
    {
     "name": "stderr",
     "output_type": "stream",
     "text": [
      "100%|██████████| 2/2 [00:00<00:00,  3.93it/s]\n",
      "2019-05-15 01:48:29,908 - algorithms.Algorithm - INFO   - ==> Training stats: {'process_time': 63.8834, 'prec5_c1': 49.6667, 'loss': 4.2405, 'prec1_c1': 33.0, 'load_time': 36.1166}\n"
     ]
    },
    {
     "name": "stdout",
     "output_type": "stream",
     "text": [
      "torch.Size([150, 4096])\n",
      "torch.Size([20, 4096])\n"
     ]
    },
    {
     "name": "stderr",
     "output_type": "stream",
     "text": [
      "2019-05-15 01:48:30,387 - algorithms.Algorithm - INFO   - Evaluating: Vae_NonLinearClassifiers_ImageNet_RotNet_AlexNet_Features\n",
      "2019-05-15 01:48:30,389 - algorithms.Algorithm - INFO   - ==> Dataset: sample_supervised/val [170 images]\n",
      "100%|██████████| 2/2 [00:00<00:00,  4.04it/s]\n",
      "2019-05-15 01:48:30,889 - algorithms.Algorithm - INFO   - ==> Results: {'process_time': 88.2877, 'prec5_c1': 44.0, 'loss': 6.3687, 'prec1_c1': 28.8333, 'load_time': 11.7123}\n",
      "2019-05-15 01:48:30,891 - algorithms.Algorithm - INFO   - ==> Evaluation stats: {'process_time': 88.2877, 'prec5_c1': 44.0, 'loss': 6.3687, 'prec1_c1': 28.8333, 'load_time': 11.7123}\n",
      "2019-05-15 01:48:30,893 - algorithms.Algorithm - INFO   - Training epoch [  3 /  40]\n",
      "2019-05-15 01:48:30,894 - algorithms.Algorithm - INFO   - ==> Set to classifier optimizer lr = 0.0100000000\n",
      "2019-05-15 01:48:30,895 - algorithms.Algorithm - INFO   - Training: Vae_NonLinearClassifiers_ImageNet_RotNet_AlexNet_Features\n",
      "  0%|          | 0/2 [00:00<?, ?it/s]"
     ]
    },
    {
     "name": "stdout",
     "output_type": "stream",
     "text": [
      "torch.Size([150, 4096])\n",
      "torch.Size([20, 4096])\n"
     ]
    },
    {
     "name": "stderr",
     "output_type": "stream",
     "text": [
      "100%|██████████| 2/2 [00:00<00:00,  4.10it/s]\n",
      "2019-05-15 01:48:31,388 - algorithms.Algorithm - INFO   - ==> Training stats: {'process_time': 64.424, 'prec5_c1': 94.0, 'loss': 1.9882, 'prec1_c1': 66.0, 'load_time': 35.576}\n"
     ]
    },
    {
     "name": "stdout",
     "output_type": "stream",
     "text": [
      "torch.Size([150, 4096])\n",
      "torch.Size([20, 4096])\n"
     ]
    },
    {
     "name": "stderr",
     "output_type": "stream",
     "text": [
      "2019-05-15 01:48:31,854 - algorithms.Algorithm - INFO   - Evaluating: Vae_NonLinearClassifiers_ImageNet_RotNet_AlexNet_Features\n",
      "2019-05-15 01:48:31,856 - algorithms.Algorithm - INFO   - ==> Dataset: sample_supervised/val [170 images]\n",
      "100%|██████████| 2/2 [00:00<00:00,  5.69it/s]\n",
      "2019-05-15 01:48:32,212 - algorithms.Algorithm - INFO   - ==> Results: {'process_time': 85.9553, 'prec5_c1': 67.6667, 'loss': 5.9885, 'prec1_c1': 33.0, 'load_time': 14.0447}\n",
      "2019-05-15 01:48:32,213 - algorithms.Algorithm - INFO   - ==> Evaluation stats: {'process_time': 85.9553, 'prec5_c1': 67.6667, 'loss': 5.9885, 'prec1_c1': 33.0, 'load_time': 14.0447}\n",
      "2019-05-15 01:48:32,214 - algorithms.Algorithm - INFO   - Training epoch [  4 /  40]\n",
      "2019-05-15 01:48:32,214 - algorithms.Algorithm - INFO   - ==> Set to classifier optimizer lr = 0.0100000000\n",
      "2019-05-15 01:48:32,215 - algorithms.Algorithm - INFO   - Training: Vae_NonLinearClassifiers_ImageNet_RotNet_AlexNet_Features\n",
      "  0%|          | 0/2 [00:00<?, ?it/s]"
     ]
    },
    {
     "name": "stdout",
     "output_type": "stream",
     "text": [
      "torch.Size([150, 4096])\n",
      "torch.Size([20, 4096])\n"
     ]
    },
    {
     "name": "stderr",
     "output_type": "stream",
     "text": [
      "100%|██████████| 2/2 [00:00<00:00,  5.29it/s]\n",
      "2019-05-15 01:48:32,601 - algorithms.Algorithm - INFO   - ==> Training stats: {'process_time': 60.6656, 'prec5_c1': 90.8333, 'loss': 1.5575, 'prec1_c1': 65.6667, 'load_time': 39.3344}\n"
     ]
    },
    {
     "name": "stdout",
     "output_type": "stream",
     "text": [
      "torch.Size([150, 4096])\n",
      "torch.Size([20, 4096])\n"
     ]
    },
    {
     "name": "stderr",
     "output_type": "stream",
     "text": [
      "2019-05-15 01:48:33,096 - algorithms.Algorithm - INFO   - Evaluating: Vae_NonLinearClassifiers_ImageNet_RotNet_AlexNet_Features\n",
      "2019-05-15 01:48:33,097 - algorithms.Algorithm - INFO   - ==> Dataset: sample_supervised/val [170 images]\n",
      "100%|██████████| 2/2 [00:00<00:00,  6.32it/s]\n",
      "2019-05-15 01:48:33,419 - algorithms.Algorithm - INFO   - ==> Results: {'process_time': 88.0879, 'prec5_c1': 82.6667, 'loss': 5.5361, 'prec1_c1': 45.6667, 'load_time': 11.9121}\n",
      "2019-05-15 01:48:33,420 - algorithms.Algorithm - INFO   - ==> Evaluation stats: {'process_time': 88.0879, 'prec5_c1': 82.6667, 'loss': 5.5361, 'prec1_c1': 45.6667, 'load_time': 11.9121}\n",
      "2019-05-15 01:48:33,421 - algorithms.Algorithm - INFO   - Training epoch [  5 /  40]\n",
      "2019-05-15 01:48:33,421 - algorithms.Algorithm - INFO   - ==> Set to classifier optimizer lr = 0.0100000000\n",
      "2019-05-15 01:48:33,422 - algorithms.Algorithm - INFO   - Training: Vae_NonLinearClassifiers_ImageNet_RotNet_AlexNet_Features\n",
      "  0%|          | 0/2 [00:00<?, ?it/s]"
     ]
    },
    {
     "name": "stdout",
     "output_type": "stream",
     "text": [
      "torch.Size([150, 4096])\n",
      "torch.Size([20, 4096])\n"
     ]
    },
    {
     "name": "stderr",
     "output_type": "stream",
     "text": [
      "100%|██████████| 2/2 [00:00<00:00,  6.04it/s]\n",
      "2019-05-15 01:48:33,762 - algorithms.Algorithm - INFO   - ==> Training stats: {'process_time': 61.7289, 'prec5_c1': 99.6667, 'loss': 0.5569, 'prec1_c1': 84.3333, 'load_time': 38.2711}\n"
     ]
    },
    {
     "name": "stdout",
     "output_type": "stream",
     "text": [
      "torch.Size([150, 4096])\n",
      "torch.Size([20, 4096])\n"
     ]
    },
    {
     "name": "stderr",
     "output_type": "stream",
     "text": [
      "2019-05-15 01:48:34,251 - algorithms.Algorithm - INFO   - Evaluating: Vae_NonLinearClassifiers_ImageNet_RotNet_AlexNet_Features\n",
      "2019-05-15 01:48:34,253 - algorithms.Algorithm - INFO   - ==> Dataset: sample_supervised/val [170 images]\n",
      "100%|██████████| 2/2 [00:00<00:00,  5.19it/s]\n",
      "2019-05-15 01:48:34,643 - algorithms.Algorithm - INFO   - ==> Results: {'process_time': 88.4578, 'prec5_c1': 91.6667, 'loss': 5.0269, 'prec1_c1': 57.3333, 'load_time': 11.5422}\n",
      "2019-05-15 01:48:34,645 - algorithms.Algorithm - INFO   - ==> Evaluation stats: {'process_time': 88.4578, 'prec5_c1': 91.6667, 'loss': 5.0269, 'prec1_c1': 57.3333, 'load_time': 11.5422}\n",
      "2019-05-15 01:48:34,653 - algorithms.Algorithm - INFO   - Training epoch [  6 /  40]\n",
      "2019-05-15 01:48:34,654 - algorithms.Algorithm - INFO   - ==> Set to classifier optimizer lr = 0.0100000000\n",
      "2019-05-15 01:48:34,655 - algorithms.Algorithm - INFO   - Training: Vae_NonLinearClassifiers_ImageNet_RotNet_AlexNet_Features\n",
      "  0%|          | 0/2 [00:00<?, ?it/s]"
     ]
    },
    {
     "name": "stdout",
     "output_type": "stream",
     "text": [
      "torch.Size([150, 4096])\n",
      "torch.Size([20, 4096])\n"
     ]
    },
    {
     "name": "stderr",
     "output_type": "stream",
     "text": [
      "100%|██████████| 2/2 [00:00<00:00,  4.98it/s]\n",
      "2019-05-15 01:48:35,064 - algorithms.Algorithm - INFO   - ==> Training stats: {'process_time': 61.133, 'prec5_c1': 100.0, 'loss': 0.3313, 'prec1_c1': 91.0, 'load_time': 38.867}\n"
     ]
    },
    {
     "name": "stdout",
     "output_type": "stream",
     "text": [
      "torch.Size([150, 4096])\n",
      "torch.Size([20, 4096])\n"
     ]
    },
    {
     "name": "stderr",
     "output_type": "stream",
     "text": [
      "2019-05-15 01:48:35,619 - algorithms.Algorithm - INFO   - Evaluating: Vae_NonLinearClassifiers_ImageNet_RotNet_AlexNet_Features\n",
      "2019-05-15 01:48:35,621 - algorithms.Algorithm - INFO   - ==> Dataset: sample_supervised/val [170 images]\n",
      "100%|██████████| 2/2 [00:00<00:00,  4.60it/s]\n",
      "2019-05-15 01:48:36,061 - algorithms.Algorithm - INFO   - ==> Results: {'process_time': 89.6556, 'prec5_c1': 93.3333, 'loss': 4.5014, 'prec1_c1': 67.1667, 'load_time': 10.3444}\n",
      "2019-05-15 01:48:36,063 - algorithms.Algorithm - INFO   - ==> Evaluation stats: {'process_time': 89.6556, 'prec5_c1': 93.3333, 'loss': 4.5014, 'prec1_c1': 67.1667, 'load_time': 10.3444}\n",
      "2019-05-15 01:48:36,065 - algorithms.Algorithm - INFO   - Training epoch [  7 /  40]\n",
      "2019-05-15 01:48:36,067 - algorithms.Algorithm - INFO   - ==> Set to classifier optimizer lr = 0.0100000000\n",
      "2019-05-15 01:48:36,068 - algorithms.Algorithm - INFO   - Training: Vae_NonLinearClassifiers_ImageNet_RotNet_AlexNet_Features\n",
      "  0%|          | 0/2 [00:00<?, ?it/s]"
     ]
    },
    {
     "name": "stdout",
     "output_type": "stream",
     "text": [
      "torch.Size([150, 4096])\n",
      "torch.Size([20, 4096])\n"
     ]
    },
    {
     "name": "stderr",
     "output_type": "stream",
     "text": [
      "100%|██████████| 2/2 [00:00<00:00,  5.14it/s]\n",
      "2019-05-15 01:48:36,463 - algorithms.Algorithm - INFO   - ==> Training stats: {'process_time': 62.9453, 'prec5_c1': 100.0, 'loss': 0.1606, 'prec1_c1': 98.0, 'load_time': 37.0547}\n"
     ]
    },
    {
     "name": "stdout",
     "output_type": "stream",
     "text": [
      "torch.Size([150, 4096])\n",
      "torch.Size([20, 4096])\n"
     ]
    },
    {
     "name": "stderr",
     "output_type": "stream",
     "text": [
      "2019-05-15 01:48:36,940 - algorithms.Algorithm - INFO   - Evaluating: Vae_NonLinearClassifiers_ImageNet_RotNet_AlexNet_Features\n",
      "2019-05-15 01:48:36,942 - algorithms.Algorithm - INFO   - ==> Dataset: sample_supervised/val [170 images]\n",
      "100%|██████████| 2/2 [00:00<00:00,  3.36it/s]\n",
      "2019-05-15 01:48:37,543 - algorithms.Algorithm - INFO   - ==> Results: {'process_time': 78.2999, 'prec5_c1': 95.0, 'loss': 3.9554, 'prec1_c1': 77.5, 'load_time': 21.7001}\n",
      "2019-05-15 01:48:37,547 - algorithms.Algorithm - INFO   - ==> Evaluation stats: {'process_time': 78.2999, 'prec5_c1': 95.0, 'loss': 3.9554, 'prec1_c1': 77.5, 'load_time': 21.7001}\n",
      "2019-05-15 01:48:37,548 - algorithms.Algorithm - INFO   - Training epoch [  8 /  40]\n",
      "2019-05-15 01:48:37,549 - algorithms.Algorithm - INFO   - ==> Set to classifier optimizer lr = 0.0100000000\n",
      "2019-05-15 01:48:37,551 - algorithms.Algorithm - INFO   - Training: Vae_NonLinearClassifiers_ImageNet_RotNet_AlexNet_Features\n",
      "  0%|          | 0/2 [00:00<?, ?it/s]"
     ]
    },
    {
     "name": "stdout",
     "output_type": "stream",
     "text": [
      "torch.Size([150, 4096])\n",
      "torch.Size([20, 4096])\n"
     ]
    },
    {
     "name": "stderr",
     "output_type": "stream",
     "text": [
      "100%|██████████| 2/2 [00:00<00:00,  4.58it/s]\n",
      "2019-05-15 01:48:37,997 - algorithms.Algorithm - INFO   - ==> Training stats: {'process_time': 84.2562, 'prec5_c1': 100.0, 'loss': 0.0738, 'prec1_c1': 98.6667, 'load_time': 15.7438}\n"
     ]
    },
    {
     "name": "stdout",
     "output_type": "stream",
     "text": [
      "torch.Size([150, 4096])\n",
      "torch.Size([20, 4096])\n"
     ]
    },
    {
     "name": "stderr",
     "output_type": "stream",
     "text": [
      "2019-05-15 01:48:38,723 - algorithms.Algorithm - INFO   - Evaluating: Vae_NonLinearClassifiers_ImageNet_RotNet_AlexNet_Features\n",
      "2019-05-15 01:48:38,751 - algorithms.Algorithm - INFO   - ==> Dataset: sample_supervised/val [170 images]\n",
      "100%|██████████| 2/2 [00:00<00:00,  2.21it/s]\n",
      "2019-05-15 01:48:39,659 - algorithms.Algorithm - INFO   - ==> Results: {'process_time': 84.9447, 'prec5_c1': 96.6667, 'loss': 3.4056, 'prec1_c1': 80.5, 'load_time': 15.0553}\n",
      "2019-05-15 01:48:39,667 - algorithms.Algorithm - INFO   - ==> Evaluation stats: {'process_time': 84.9447, 'prec5_c1': 96.6667, 'loss': 3.4056, 'prec1_c1': 80.5, 'load_time': 15.0553}\n",
      "2019-05-15 01:48:39,668 - algorithms.Algorithm - INFO   - Training epoch [  9 /  40]\n",
      "2019-05-15 01:48:39,670 - algorithms.Algorithm - INFO   - ==> Set to classifier optimizer lr = 0.0100000000\n",
      "2019-05-15 01:48:39,671 - algorithms.Algorithm - INFO   - Training: Vae_NonLinearClassifiers_ImageNet_RotNet_AlexNet_Features\n",
      "  0%|          | 0/2 [00:00<?, ?it/s]"
     ]
    },
    {
     "name": "stdout",
     "output_type": "stream",
     "text": [
      "torch.Size([150, 4096])\n",
      "torch.Size([20, 4096])\n"
     ]
    },
    {
     "name": "stderr",
     "output_type": "stream",
     "text": [
      "100%|██████████| 2/2 [00:00<00:00,  4.92it/s]\n",
      "2019-05-15 01:48:40,085 - algorithms.Algorithm - INFO   - ==> Training stats: {'process_time': 61.6522, 'prec5_c1': 100.0, 'loss': 0.084, 'prec1_c1': 99.6667, 'load_time': 38.3478}\n"
     ]
    },
    {
     "name": "stdout",
     "output_type": "stream",
     "text": [
      "torch.Size([150, 4096])\n",
      "torch.Size([20, 4096])\n"
     ]
    },
    {
     "name": "stderr",
     "output_type": "stream",
     "text": [
      "2019-05-15 01:48:40,535 - algorithms.Algorithm - INFO   - Evaluating: Vae_NonLinearClassifiers_ImageNet_RotNet_AlexNet_Features\n",
      "2019-05-15 01:48:40,537 - algorithms.Algorithm - INFO   - ==> Dataset: sample_supervised/val [170 images]\n",
      "100%|██████████| 2/2 [00:00<00:00,  5.60it/s]\n",
      "2019-05-15 01:48:40,899 - algorithms.Algorithm - INFO   - ==> Results: {'process_time': 85.1098, 'prec5_c1': 97.6667, 'loss': 2.8749, 'prec1_c1': 83.1667, 'load_time': 14.8902}\n",
      "2019-05-15 01:48:40,901 - algorithms.Algorithm - INFO   - ==> Evaluation stats: {'process_time': 85.1098, 'prec5_c1': 97.6667, 'loss': 2.8749, 'prec1_c1': 83.1667, 'load_time': 14.8902}\n",
      "2019-05-15 01:48:40,902 - algorithms.Algorithm - INFO   - Training epoch [ 10 /  40]\n",
      "2019-05-15 01:48:40,903 - algorithms.Algorithm - INFO   - ==> Set to classifier optimizer lr = 0.0100000000\n",
      "2019-05-15 01:48:40,904 - algorithms.Algorithm - INFO   - Training: Vae_NonLinearClassifiers_ImageNet_RotNet_AlexNet_Features\n",
      "  0%|          | 0/2 [00:00<?, ?it/s]"
     ]
    },
    {
     "name": "stdout",
     "output_type": "stream",
     "text": [
      "torch.Size([150, 4096])\n",
      "torch.Size([20, 4096])\n"
     ]
    },
    {
     "name": "stderr",
     "output_type": "stream",
     "text": [
      "100%|██████████| 2/2 [00:00<00:00,  5.59it/s]\n",
      "2019-05-15 01:48:41,268 - algorithms.Algorithm - INFO   - ==> Training stats: {'process_time': 60.7005, 'prec5_c1': 100.0, 'loss': 0.0562, 'prec1_c1': 100.0, 'load_time': 39.2995}\n"
     ]
    },
    {
     "name": "stdout",
     "output_type": "stream",
     "text": [
      "torch.Size([150, 4096])\n",
      "torch.Size([20, 4096])\n"
     ]
    },
    {
     "name": "stderr",
     "output_type": "stream",
     "text": [
      "2019-05-15 01:48:41,841 - algorithms.Algorithm - INFO   - Evaluating: Vae_NonLinearClassifiers_ImageNet_RotNet_AlexNet_Features\n",
      "2019-05-15 01:48:41,845 - algorithms.Algorithm - INFO   - ==> Dataset: sample_supervised/val [170 images]\n",
      "100%|██████████| 2/2 [00:00<00:00,  6.24it/s]\n",
      "2019-05-15 01:48:42,170 - algorithms.Algorithm - INFO   - ==> Results: {'process_time': 87.9379, 'prec5_c1': 98.0, 'loss': 2.3685, 'prec1_c1': 89.6667, 'load_time': 12.0621}\n",
      "2019-05-15 01:48:42,172 - algorithms.Algorithm - INFO   - ==> Evaluation stats: {'process_time': 87.9379, 'prec5_c1': 98.0, 'loss': 2.3685, 'prec1_c1': 89.6667, 'load_time': 12.0621}\n",
      "2019-05-15 01:48:42,173 - algorithms.Algorithm - INFO   - Training epoch [ 11 /  40]\n",
      "2019-05-15 01:48:42,175 - algorithms.Algorithm - INFO   - ==> Set to classifier optimizer lr = 0.0020000000\n",
      "2019-05-15 01:48:42,176 - algorithms.Algorithm - INFO   - Training: Vae_NonLinearClassifiers_ImageNet_RotNet_AlexNet_Features\n",
      "  0%|          | 0/2 [00:00<?, ?it/s]"
     ]
    },
    {
     "name": "stdout",
     "output_type": "stream",
     "text": [
      "torch.Size([150, 4096])\n",
      "torch.Size([20, 4096])\n"
     ]
    },
    {
     "name": "stderr",
     "output_type": "stream",
     "text": [
      "100%|██████████| 2/2 [00:00<00:00,  5.97it/s]\n",
      "2019-05-15 01:48:42,516 - algorithms.Algorithm - INFO   - ==> Training stats: {'process_time': 61.5253, 'prec5_c1': 100.0, 'loss': 0.1765, 'prec1_c1': 92.5, 'load_time': 38.4747}\n"
     ]
    },
    {
     "name": "stdout",
     "output_type": "stream",
     "text": [
      "torch.Size([150, 4096])\n",
      "torch.Size([20, 4096])\n"
     ]
    },
    {
     "name": "stderr",
     "output_type": "stream",
     "text": [
      "2019-05-15 01:48:42,959 - algorithms.Algorithm - INFO   - Evaluating: Vae_NonLinearClassifiers_ImageNet_RotNet_AlexNet_Features\n",
      "2019-05-15 01:48:42,961 - algorithms.Algorithm - INFO   - ==> Dataset: sample_supervised/val [170 images]\n",
      "100%|██████████| 2/2 [00:00<00:00,  5.46it/s]\n",
      "2019-05-15 01:48:43,339 - algorithms.Algorithm - INFO   - ==> Results: {'process_time': 88.1098, 'prec5_c1': 98.3333, 'loss': 1.9449, 'prec1_c1': 90.6667, 'load_time': 11.8902}\n",
      "2019-05-15 01:48:43,340 - algorithms.Algorithm - INFO   - ==> Evaluation stats: {'process_time': 88.1098, 'prec5_c1': 98.3333, 'loss': 1.9449, 'prec1_c1': 90.6667, 'load_time': 11.8902}\n",
      "2019-05-15 01:48:43,341 - algorithms.Algorithm - INFO   - Training epoch [ 12 /  40]\n",
      "2019-05-15 01:48:43,342 - algorithms.Algorithm - INFO   - ==> Set to classifier optimizer lr = 0.0020000000\n",
      "2019-05-15 01:48:43,343 - algorithms.Algorithm - INFO   - Training: Vae_NonLinearClassifiers_ImageNet_RotNet_AlexNet_Features\n",
      "  0%|          | 0/2 [00:00<?, ?it/s]"
     ]
    },
    {
     "name": "stdout",
     "output_type": "stream",
     "text": [
      "torch.Size([150, 4096])\n",
      "torch.Size([20, 4096])\n"
     ]
    },
    {
     "name": "stderr",
     "output_type": "stream",
     "text": [
      "100%|██████████| 2/2 [00:00<00:00,  4.94it/s]\n",
      "2019-05-15 01:48:43,758 - algorithms.Algorithm - INFO   - ==> Training stats: {'process_time': 60.9122, 'prec5_c1': 100.0, 'loss': 0.0868, 'prec1_c1': 100.0, 'load_time': 39.0878}\n"
     ]
    },
    {
     "name": "stdout",
     "output_type": "stream",
     "text": [
      "torch.Size([150, 4096])\n",
      "torch.Size([20, 4096])\n"
     ]
    },
    {
     "name": "stderr",
     "output_type": "stream",
     "text": [
      "2019-05-15 01:48:44,269 - algorithms.Algorithm - INFO   - Evaluating: Vae_NonLinearClassifiers_ImageNet_RotNet_AlexNet_Features\n",
      "2019-05-15 01:48:44,271 - algorithms.Algorithm - INFO   - ==> Dataset: sample_supervised/val [170 images]\n",
      "100%|██████████| 2/2 [00:00<00:00,  4.62it/s]\n",
      "2019-05-15 01:48:44,708 - algorithms.Algorithm - INFO   - ==> Results: {'process_time': 90.8688, 'prec5_c1': 98.6667, 'loss': 1.5551, 'prec1_c1': 92.0, 'load_time': 9.1312}\n",
      "2019-05-15 01:48:44,710 - algorithms.Algorithm - INFO   - ==> Evaluation stats: {'process_time': 90.8688, 'prec5_c1': 98.6667, 'loss': 1.5551, 'prec1_c1': 92.0, 'load_time': 9.1312}\n",
      "2019-05-15 01:48:44,711 - algorithms.Algorithm - INFO   - Training epoch [ 13 /  40]\n",
      "2019-05-15 01:48:44,712 - algorithms.Algorithm - INFO   - ==> Set to classifier optimizer lr = 0.0020000000\n",
      "2019-05-15 01:48:44,714 - algorithms.Algorithm - INFO   - Training: Vae_NonLinearClassifiers_ImageNet_RotNet_AlexNet_Features\n",
      "  0%|          | 0/2 [00:00<?, ?it/s]"
     ]
    },
    {
     "name": "stdout",
     "output_type": "stream",
     "text": [
      "torch.Size([150, 4096])\n",
      "torch.Size([20, 4096])\n"
     ]
    },
    {
     "name": "stderr",
     "output_type": "stream",
     "text": [
      "100%|██████████| 2/2 [00:00<00:00,  5.73it/s]\n",
      "2019-05-15 01:48:45,068 - algorithms.Algorithm - INFO   - ==> Training stats: {'process_time': 59.687, 'prec5_c1': 100.0, 'loss': 0.0376, 'prec1_c1': 100.0, 'load_time': 40.313}\n"
     ]
    },
    {
     "name": "stdout",
     "output_type": "stream",
     "text": [
      "torch.Size([150, 4096])\n",
      "torch.Size([20, 4096])\n"
     ]
    },
    {
     "name": "stderr",
     "output_type": "stream",
     "text": [
      "2019-05-15 01:48:45,616 - algorithms.Algorithm - INFO   - Evaluating: Vae_NonLinearClassifiers_ImageNet_RotNet_AlexNet_Features\n",
      "2019-05-15 01:48:45,618 - algorithms.Algorithm - INFO   - ==> Dataset: sample_supervised/val [170 images]\n",
      "100%|██████████| 2/2 [00:00<00:00,  6.12it/s]\n",
      "2019-05-15 01:48:45,950 - algorithms.Algorithm - INFO   - ==> Results: {'process_time': 88.3107, 'prec5_c1': 99.3333, 'loss': 1.2053, 'prec1_c1': 94.3333, 'load_time': 11.6893}\n",
      "2019-05-15 01:48:45,952 - algorithms.Algorithm - INFO   - ==> Evaluation stats: {'process_time': 88.3107, 'prec5_c1': 99.3333, 'loss': 1.2053, 'prec1_c1': 94.3333, 'load_time': 11.6893}\n",
      "2019-05-15 01:48:45,953 - algorithms.Algorithm - INFO   - Training epoch [ 14 /  40]\n",
      "2019-05-15 01:48:45,954 - algorithms.Algorithm - INFO   - ==> Set to classifier optimizer lr = 0.0020000000\n",
      "2019-05-15 01:48:45,956 - algorithms.Algorithm - INFO   - Training: Vae_NonLinearClassifiers_ImageNet_RotNet_AlexNet_Features\n",
      "  0%|          | 0/2 [00:00<?, ?it/s]"
     ]
    },
    {
     "name": "stdout",
     "output_type": "stream",
     "text": [
      "torch.Size([150, 4096])\n",
      "torch.Size([20, 4096])\n"
     ]
    },
    {
     "name": "stderr",
     "output_type": "stream",
     "text": [
      "100%|██████████| 2/2 [00:00<00:00,  6.26it/s]\n",
      "2019-05-15 01:48:46,281 - algorithms.Algorithm - INFO   - ==> Training stats: {'process_time': 61.8406, 'prec5_c1': 100.0, 'loss': 0.079, 'prec1_c1': 97.5, 'load_time': 38.1594}\n"
     ]
    },
    {
     "name": "stdout",
     "output_type": "stream",
     "text": [
      "torch.Size([150, 4096])\n",
      "torch.Size([20, 4096])\n"
     ]
    },
    {
     "name": "stderr",
     "output_type": "stream",
     "text": [
      "2019-05-15 01:48:46,819 - algorithms.Algorithm - INFO   - Evaluating: Vae_NonLinearClassifiers_ImageNet_RotNet_AlexNet_Features\n",
      "2019-05-15 01:48:46,821 - algorithms.Algorithm - INFO   - ==> Dataset: sample_supervised/val [170 images]\n",
      "100%|██████████| 2/2 [00:00<00:00,  4.18it/s]\n",
      "2019-05-15 01:48:47,306 - algorithms.Algorithm - INFO   - ==> Results: {'process_time': 87.2779, 'prec5_c1': 99.3333, 'loss': 0.904, 'prec1_c1': 96.0, 'load_time': 12.7221}\n",
      "2019-05-15 01:48:47,307 - algorithms.Algorithm - INFO   - ==> Evaluation stats: {'process_time': 87.2779, 'prec5_c1': 99.3333, 'loss': 0.904, 'prec1_c1': 96.0, 'load_time': 12.7221}\n",
      "2019-05-15 01:48:47,308 - algorithms.Algorithm - INFO   - Training epoch [ 15 /  40]\n",
      "2019-05-15 01:48:47,308 - algorithms.Algorithm - INFO   - ==> Set to classifier optimizer lr = 0.0020000000\n",
      "2019-05-15 01:48:47,309 - algorithms.Algorithm - INFO   - Training: Vae_NonLinearClassifiers_ImageNet_RotNet_AlexNet_Features\n",
      "  0%|          | 0/2 [00:00<?, ?it/s]"
     ]
    },
    {
     "name": "stdout",
     "output_type": "stream",
     "text": [
      "torch.Size([150, 4096])\n",
      "torch.Size([20, 4096])\n"
     ]
    },
    {
     "name": "stderr",
     "output_type": "stream",
     "text": [
      "100%|██████████| 2/2 [00:00<00:00,  5.61it/s]\n",
      "2019-05-15 01:48:47,679 - algorithms.Algorithm - INFO   - ==> Training stats: {'process_time': 64.8084, 'prec5_c1': 100.0, 'loss': 0.0267, 'prec1_c1': 100.0, 'load_time': 35.1916}\n"
     ]
    },
    {
     "name": "stdout",
     "output_type": "stream",
     "text": [
      "torch.Size([150, 4096])\n",
      "torch.Size([20, 4096])\n"
     ]
    },
    {
     "name": "stderr",
     "output_type": "stream",
     "text": [
      "2019-05-15 01:48:48,126 - algorithms.Algorithm - INFO   - Evaluating: Vae_NonLinearClassifiers_ImageNet_RotNet_AlexNet_Features\n",
      "2019-05-15 01:48:48,127 - algorithms.Algorithm - INFO   - ==> Dataset: sample_supervised/val [170 images]\n",
      "100%|██████████| 2/2 [00:00<00:00,  3.45it/s]\n",
      "2019-05-15 01:48:48,712 - algorithms.Algorithm - INFO   - ==> Results: {'process_time': 84.5286, 'prec5_c1': 99.3333, 'loss': 0.6679, 'prec1_c1': 97.6667, 'load_time': 15.4714}\n",
      "2019-05-15 01:48:48,714 - algorithms.Algorithm - INFO   - ==> Evaluation stats: {'process_time': 84.5286, 'prec5_c1': 99.3333, 'loss': 0.6679, 'prec1_c1': 97.6667, 'load_time': 15.4714}\n",
      "2019-05-15 01:48:48,715 - algorithms.Algorithm - INFO   - Training epoch [ 16 /  40]\n",
      "2019-05-15 01:48:48,716 - algorithms.Algorithm - INFO   - ==> Set to classifier optimizer lr = 0.0020000000\n",
      "2019-05-15 01:48:48,718 - algorithms.Algorithm - INFO   - Training: Vae_NonLinearClassifiers_ImageNet_RotNet_AlexNet_Features\n",
      "  0%|          | 0/2 [00:00<?, ?it/s]"
     ]
    },
    {
     "name": "stdout",
     "output_type": "stream",
     "text": [
      "torch.Size([150, 4096])\n",
      "torch.Size([20, 4096])\n"
     ]
    },
    {
     "name": "stderr",
     "output_type": "stream",
     "text": [
      "100%|██████████| 2/2 [00:00<00:00,  3.15it/s]\n",
      "2019-05-15 01:48:49,358 - algorithms.Algorithm - INFO   - ==> Training stats: {'process_time': 66.5857, 'prec5_c1': 100.0, 'loss': 0.0385, 'prec1_c1': 100.0, 'load_time': 33.4143}\n"
     ]
    },
    {
     "name": "stdout",
     "output_type": "stream",
     "text": [
      "torch.Size([150, 4096])\n",
      "torch.Size([20, 4096])\n"
     ]
    },
    {
     "name": "stderr",
     "output_type": "stream",
     "text": [
      "2019-05-15 01:48:49,858 - algorithms.Algorithm - INFO   - Evaluating: Vae_NonLinearClassifiers_ImageNet_RotNet_AlexNet_Features\n",
      "2019-05-15 01:48:49,859 - algorithms.Algorithm - INFO   - ==> Dataset: sample_supervised/val [170 images]\n",
      "100%|██████████| 2/2 [00:00<00:00,  5.35it/s]\n",
      "2019-05-15 01:48:50,238 - algorithms.Algorithm - INFO   - ==> Results: {'process_time': 85.5364, 'prec5_c1': 99.6667, 'loss': 0.4829, 'prec1_c1': 98.6667, 'load_time': 14.4636}\n",
      "2019-05-15 01:48:50,240 - algorithms.Algorithm - INFO   - ==> Evaluation stats: {'process_time': 85.5364, 'prec5_c1': 99.6667, 'loss': 0.4829, 'prec1_c1': 98.6667, 'load_time': 14.4636}\n",
      "2019-05-15 01:48:50,241 - algorithms.Algorithm - INFO   - Training epoch [ 17 /  40]\n",
      "2019-05-15 01:48:50,243 - algorithms.Algorithm - INFO   - ==> Set to classifier optimizer lr = 0.0020000000\n",
      "2019-05-15 01:48:50,244 - algorithms.Algorithm - INFO   - Training: Vae_NonLinearClassifiers_ImageNet_RotNet_AlexNet_Features\n",
      "  0%|          | 0/2 [00:00<?, ?it/s]"
     ]
    },
    {
     "name": "stdout",
     "output_type": "stream",
     "text": [
      "torch.Size([150, 4096])\n",
      "torch.Size([20, 4096])\n"
     ]
    },
    {
     "name": "stderr",
     "output_type": "stream",
     "text": [
      "100%|██████████| 2/2 [00:00<00:00,  4.77it/s]\n",
      "2019-05-15 01:48:50,670 - algorithms.Algorithm - INFO   - ==> Training stats: {'process_time': 60.2216, 'prec5_c1': 100.0, 'loss': 0.0257, 'prec1_c1': 100.0, 'load_time': 39.7784}\n"
     ]
    },
    {
     "name": "stdout",
     "output_type": "stream",
     "text": [
      "torch.Size([150, 4096])\n",
      "torch.Size([20, 4096])\n"
     ]
    },
    {
     "name": "stderr",
     "output_type": "stream",
     "text": [
      "2019-05-15 01:48:51,305 - algorithms.Algorithm - INFO   - Evaluating: Vae_NonLinearClassifiers_ImageNet_RotNet_AlexNet_Features\n",
      "2019-05-15 01:48:51,307 - algorithms.Algorithm - INFO   - ==> Dataset: sample_supervised/val [170 images]\n",
      "100%|██████████| 2/2 [00:00<00:00,  5.97it/s]\n",
      "2019-05-15 01:48:51,646 - algorithms.Algorithm - INFO   - ==> Results: {'process_time': 85.1621, 'prec5_c1': 99.6667, 'loss': 0.3451, 'prec1_c1': 99.0, 'load_time': 14.8379}\n",
      "2019-05-15 01:48:51,650 - algorithms.Algorithm - INFO   - ==> Evaluation stats: {'process_time': 85.1621, 'prec5_c1': 99.6667, 'loss': 0.3451, 'prec1_c1': 99.0, 'load_time': 14.8379}\n",
      "2019-05-15 01:48:51,654 - algorithms.Algorithm - INFO   - Training epoch [ 18 /  40]\n",
      "2019-05-15 01:48:51,655 - algorithms.Algorithm - INFO   - ==> Set to classifier optimizer lr = 0.0020000000\n",
      "2019-05-15 01:48:51,656 - algorithms.Algorithm - INFO   - Training: Vae_NonLinearClassifiers_ImageNet_RotNet_AlexNet_Features\n",
      "  0%|          | 0/2 [00:00<?, ?it/s]"
     ]
    },
    {
     "name": "stdout",
     "output_type": "stream",
     "text": [
      "torch.Size([150, 4096])\n",
      "torch.Size([20, 4096])\n"
     ]
    },
    {
     "name": "stderr",
     "output_type": "stream",
     "text": [
      "100%|██████████| 2/2 [00:00<00:00,  5.37it/s]\n",
      "2019-05-15 01:48:52,037 - algorithms.Algorithm - INFO   - ==> Training stats: {'process_time': 60.6358, 'prec5_c1': 100.0, 'loss': 0.023, 'prec1_c1': 100.0, 'load_time': 39.3642}\n"
     ]
    },
    {
     "name": "stdout",
     "output_type": "stream",
     "text": [
      "torch.Size([150, 4096])\n",
      "torch.Size([20, 4096])\n"
     ]
    },
    {
     "name": "stderr",
     "output_type": "stream",
     "text": [
      "2019-05-15 01:48:52,478 - algorithms.Algorithm - INFO   - Evaluating: Vae_NonLinearClassifiers_ImageNet_RotNet_AlexNet_Features\n",
      "2019-05-15 01:48:52,480 - algorithms.Algorithm - INFO   - ==> Dataset: sample_supervised/val [170 images]\n",
      "100%|██████████| 2/2 [00:00<00:00,  5.80it/s]\n",
      "2019-05-15 01:48:52,829 - algorithms.Algorithm - INFO   - ==> Results: {'process_time': 85.0833, 'prec5_c1': 100.0, 'loss': 0.2417, 'prec1_c1': 99.3333, 'load_time': 14.9167}\n",
      "2019-05-15 01:48:52,831 - algorithms.Algorithm - INFO   - ==> Evaluation stats: {'process_time': 85.0833, 'prec5_c1': 100.0, 'loss': 0.2417, 'prec1_c1': 99.3333, 'load_time': 14.9167}\n",
      "2019-05-15 01:48:52,833 - algorithms.Algorithm - INFO   - Training epoch [ 19 /  40]\n",
      "2019-05-15 01:48:52,833 - algorithms.Algorithm - INFO   - ==> Set to classifier optimizer lr = 0.0020000000\n",
      "2019-05-15 01:48:52,834 - algorithms.Algorithm - INFO   - Training: Vae_NonLinearClassifiers_ImageNet_RotNet_AlexNet_Features\n",
      "  0%|          | 0/2 [00:00<?, ?it/s]"
     ]
    },
    {
     "name": "stdout",
     "output_type": "stream",
     "text": [
      "torch.Size([150, 4096])\n",
      "torch.Size([20, 4096])\n"
     ]
    },
    {
     "name": "stderr",
     "output_type": "stream",
     "text": [
      "100%|██████████| 2/2 [00:00<00:00,  5.51it/s]\n",
      "2019-05-15 01:48:53,207 - algorithms.Algorithm - INFO   - ==> Training stats: {'process_time': 72.5222, 'prec5_c1': 100.0, 'loss': 0.0451, 'prec1_c1': 97.5, 'load_time': 27.4778}\n"
     ]
    },
    {
     "name": "stdout",
     "output_type": "stream",
     "text": [
      "torch.Size([150, 4096])\n",
      "torch.Size([20, 4096])\n"
     ]
    },
    {
     "name": "stderr",
     "output_type": "stream",
     "text": [
      "2019-05-15 01:48:53,830 - algorithms.Algorithm - INFO   - Evaluating: Vae_NonLinearClassifiers_ImageNet_RotNet_AlexNet_Features\n",
      "2019-05-15 01:48:53,832 - algorithms.Algorithm - INFO   - ==> Dataset: sample_supervised/val [170 images]\n",
      "100%|██████████| 2/2 [00:00<00:00,  4.23it/s]\n",
      "2019-05-15 01:48:54,310 - algorithms.Algorithm - INFO   - ==> Results: {'process_time': 87.8188, 'prec5_c1': 100.0, 'loss': 0.1689, 'prec1_c1': 99.6667, 'load_time': 12.1812}\n",
      "2019-05-15 01:48:54,312 - algorithms.Algorithm - INFO   - ==> Evaluation stats: {'process_time': 87.8188, 'prec5_c1': 100.0, 'loss': 0.1689, 'prec1_c1': 99.6667, 'load_time': 12.1812}\n",
      "2019-05-15 01:48:54,314 - algorithms.Algorithm - INFO   - Training epoch [ 20 /  40]\n",
      "2019-05-15 01:48:54,315 - algorithms.Algorithm - INFO   - ==> Set to classifier optimizer lr = 0.0020000000\n",
      "2019-05-15 01:48:54,318 - algorithms.Algorithm - INFO   - Training: Vae_NonLinearClassifiers_ImageNet_RotNet_AlexNet_Features\n",
      "  0%|          | 0/2 [00:00<?, ?it/s]"
     ]
    },
    {
     "name": "stdout",
     "output_type": "stream",
     "text": [
      "torch.Size([150, 4096])\n",
      "torch.Size([20, 4096])\n"
     ]
    },
    {
     "name": "stderr",
     "output_type": "stream",
     "text": [
      "100%|██████████| 2/2 [00:00<00:00,  5.19it/s]\n",
      "2019-05-15 01:48:54,710 - algorithms.Algorithm - INFO   - ==> Training stats: {'process_time': 60.745, 'prec5_c1': 100.0, 'loss': 0.0433, 'prec1_c1': 100.0, 'load_time': 39.255}\n"
     ]
    },
    {
     "name": "stdout",
     "output_type": "stream",
     "text": [
      "torch.Size([150, 4096])\n",
      "torch.Size([20, 4096])\n"
     ]
    },
    {
     "name": "stderr",
     "output_type": "stream",
     "text": [
      "2019-05-15 01:48:55,179 - algorithms.Algorithm - INFO   - Evaluating: Vae_NonLinearClassifiers_ImageNet_RotNet_AlexNet_Features\n",
      "2019-05-15 01:48:55,181 - algorithms.Algorithm - INFO   - ==> Dataset: sample_supervised/val [170 images]\n",
      "100%|██████████| 2/2 [00:00<00:00,  6.22it/s]\n",
      "2019-05-15 01:48:55,507 - algorithms.Algorithm - INFO   - ==> Results: {'process_time': 83.9407, 'prec5_c1': 100.0, 'loss': 0.1163, 'prec1_c1': 100.0, 'load_time': 16.0593}\n",
      "2019-05-15 01:48:55,509 - algorithms.Algorithm - INFO   - ==> Evaluation stats: {'process_time': 83.9407, 'prec5_c1': 100.0, 'loss': 0.1163, 'prec1_c1': 100.0, 'load_time': 16.0593}\n",
      "2019-05-15 01:48:55,510 - algorithms.Algorithm - INFO   - Training epoch [ 21 /  40]\n",
      "2019-05-15 01:48:55,512 - algorithms.Algorithm - INFO   - ==> Set to classifier optimizer lr = 0.0004000000\n",
      "2019-05-15 01:48:55,513 - algorithms.Algorithm - INFO   - Training: Vae_NonLinearClassifiers_ImageNet_RotNet_AlexNet_Features\n",
      "  0%|          | 0/2 [00:00<?, ?it/s]"
     ]
    },
    {
     "name": "stdout",
     "output_type": "stream",
     "text": [
      "torch.Size([150, 4096])\n",
      "torch.Size([20, 4096])\n"
     ]
    },
    {
     "name": "stderr",
     "output_type": "stream",
     "text": [
      "100%|██████████| 2/2 [00:00<00:00,  5.68it/s]\n",
      "2019-05-15 01:48:55,870 - algorithms.Algorithm - INFO   - ==> Training stats: {'process_time': 59.0955, 'prec5_c1': 100.0, 'loss': 0.0189, 'prec1_c1': 100.0, 'load_time': 40.9045}\n"
     ]
    },
    {
     "name": "stdout",
     "output_type": "stream",
     "text": [
      "torch.Size([150, 4096])\n",
      "torch.Size([20, 4096])\n"
     ]
    },
    {
     "name": "stderr",
     "output_type": "stream",
     "text": [
      "2019-05-15 01:48:56,329 - algorithms.Algorithm - INFO   - Evaluating: Vae_NonLinearClassifiers_ImageNet_RotNet_AlexNet_Features\n",
      "2019-05-15 01:48:56,331 - algorithms.Algorithm - INFO   - ==> Dataset: sample_supervised/val [170 images]\n",
      "100%|██████████| 2/2 [00:00<00:00,  5.73it/s]\n",
      "2019-05-15 01:48:56,685 - algorithms.Algorithm - INFO   - ==> Results: {'process_time': 85.4024, 'prec5_c1': 100.0, 'loss': 0.0834, 'prec1_c1': 100.0, 'load_time': 14.5976}\n",
      "2019-05-15 01:48:56,690 - algorithms.Algorithm - INFO   - ==> Evaluation stats: {'process_time': 85.4024, 'prec5_c1': 100.0, 'loss': 0.0834, 'prec1_c1': 100.0, 'load_time': 14.5976}\n",
      "2019-05-15 01:48:56,691 - algorithms.Algorithm - INFO   - Training epoch [ 22 /  40]\n",
      "2019-05-15 01:48:56,698 - algorithms.Algorithm - INFO   - ==> Set to classifier optimizer lr = 0.0004000000\n",
      "2019-05-15 01:48:56,700 - algorithms.Algorithm - INFO   - Training: Vae_NonLinearClassifiers_ImageNet_RotNet_AlexNet_Features\n",
      "  0%|          | 0/2 [00:00<?, ?it/s]"
     ]
    },
    {
     "name": "stdout",
     "output_type": "stream",
     "text": [
      "torch.Size([150, 4096])\n",
      "torch.Size([20, 4096])\n"
     ]
    },
    {
     "name": "stderr",
     "output_type": "stream",
     "text": [
      "100%|██████████| 2/2 [00:00<00:00,  6.15it/s]\n",
      "2019-05-15 01:48:57,031 - algorithms.Algorithm - INFO   - ==> Training stats: {'process_time': 60.6933, 'prec5_c1': 100.0, 'loss': 0.027, 'prec1_c1': 100.0, 'load_time': 39.3067}\n"
     ]
    },
    {
     "name": "stdout",
     "output_type": "stream",
     "text": [
      "torch.Size([150, 4096])\n",
      "torch.Size([20, 4096])\n"
     ]
    },
    {
     "name": "stderr",
     "output_type": "stream",
     "text": [
      "2019-05-15 01:48:57,650 - algorithms.Algorithm - INFO   - Evaluating: Vae_NonLinearClassifiers_ImageNet_RotNet_AlexNet_Features\n",
      "2019-05-15 01:48:57,653 - algorithms.Algorithm - INFO   - ==> Dataset: sample_supervised/val [170 images]\n",
      "100%|██████████| 2/2 [00:00<00:00,  5.87it/s]\n",
      "2019-05-15 01:48:57,999 - algorithms.Algorithm - INFO   - ==> Results: {'process_time': 85.1989, 'prec5_c1': 100.0, 'loss': 0.0621, 'prec1_c1': 100.0, 'load_time': 14.8011}\n",
      "2019-05-15 01:48:58,007 - algorithms.Algorithm - INFO   - ==> Evaluation stats: {'process_time': 85.1989, 'prec5_c1': 100.0, 'loss': 0.0621, 'prec1_c1': 100.0, 'load_time': 14.8011}\n",
      "2019-05-15 01:48:58,009 - algorithms.Algorithm - INFO   - Training epoch [ 23 /  40]\n",
      "2019-05-15 01:48:58,010 - algorithms.Algorithm - INFO   - ==> Set to classifier optimizer lr = 0.0004000000\n",
      "2019-05-15 01:48:58,014 - algorithms.Algorithm - INFO   - Training: Vae_NonLinearClassifiers_ImageNet_RotNet_AlexNet_Features\n",
      "  0%|          | 0/2 [00:00<?, ?it/s]"
     ]
    },
    {
     "name": "stdout",
     "output_type": "stream",
     "text": [
      "torch.Size([150, 4096])\n",
      "torch.Size([20, 4096])\n"
     ]
    },
    {
     "name": "stderr",
     "output_type": "stream",
     "text": [
      "100%|██████████| 2/2 [00:00<00:00,  5.26it/s]\n",
      "2019-05-15 01:48:58,401 - algorithms.Algorithm - INFO   - ==> Training stats: {'process_time': 60.7599, 'prec5_c1': 100.0, 'loss': 0.0514, 'prec1_c1': 97.5, 'load_time': 39.2401}\n"
     ]
    },
    {
     "name": "stdout",
     "output_type": "stream",
     "text": [
      "torch.Size([150, 4096])\n",
      "torch.Size([20, 4096])\n"
     ]
    },
    {
     "name": "stderr",
     "output_type": "stream",
     "text": [
      "2019-05-15 01:48:59,244 - algorithms.Algorithm - INFO   - Evaluating: Vae_NonLinearClassifiers_ImageNet_RotNet_AlexNet_Features\n",
      "2019-05-15 01:48:59,247 - algorithms.Algorithm - INFO   - ==> Dataset: sample_supervised/val [170 images]\n",
      "100%|██████████| 2/2 [00:00<00:00,  3.31it/s]\n",
      "2019-05-15 01:48:59,856 - algorithms.Algorithm - INFO   - ==> Results: {'process_time': 86.1273, 'prec5_c1': 100.0, 'loss': 0.0487, 'prec1_c1': 100.0, 'load_time': 13.8727}\n",
      "2019-05-15 01:48:59,860 - algorithms.Algorithm - INFO   - ==> Evaluation stats: {'process_time': 86.1273, 'prec5_c1': 100.0, 'loss': 0.0487, 'prec1_c1': 100.0, 'load_time': 13.8727}\n",
      "2019-05-15 01:48:59,862 - algorithms.Algorithm - INFO   - Training epoch [ 24 /  40]\n",
      "2019-05-15 01:48:59,865 - algorithms.Algorithm - INFO   - ==> Set to classifier optimizer lr = 0.0004000000\n",
      "2019-05-15 01:48:59,867 - algorithms.Algorithm - INFO   - Training: Vae_NonLinearClassifiers_ImageNet_RotNet_AlexNet_Features\n",
      "  0%|          | 0/2 [00:00<?, ?it/s]"
     ]
    },
    {
     "name": "stdout",
     "output_type": "stream",
     "text": [
      "torch.Size([150, 4096])\n",
      "torch.Size([20, 4096])\n"
     ]
    },
    {
     "name": "stderr",
     "output_type": "stream",
     "text": [
      "100%|██████████| 2/2 [00:00<00:00,  5.01it/s]\n",
      "2019-05-15 01:49:00,271 - algorithms.Algorithm - INFO   - ==> Training stats: {'process_time': 63.2616, 'prec5_c1': 100.0, 'loss': 0.0166, 'prec1_c1': 100.0, 'load_time': 36.7384}\n"
     ]
    },
    {
     "name": "stdout",
     "output_type": "stream",
     "text": [
      "torch.Size([150, 4096])\n",
      "torch.Size([20, 4096])\n"
     ]
    },
    {
     "name": "stderr",
     "output_type": "stream",
     "text": [
      "2019-05-15 01:49:00,748 - algorithms.Algorithm - INFO   - Evaluating: Vae_NonLinearClassifiers_ImageNet_RotNet_AlexNet_Features\n",
      "2019-05-15 01:49:00,750 - algorithms.Algorithm - INFO   - ==> Dataset: sample_supervised/val [170 images]\n",
      "100%|██████████| 2/2 [00:00<00:00,  6.20it/s]\n",
      "2019-05-15 01:49:01,077 - algorithms.Algorithm - INFO   - ==> Results: {'process_time': 85.1988, 'prec5_c1': 100.0, 'loss': 0.0392, 'prec1_c1': 100.0, 'load_time': 14.8012}\n",
      "2019-05-15 01:49:01,079 - algorithms.Algorithm - INFO   - ==> Evaluation stats: {'process_time': 85.1988, 'prec5_c1': 100.0, 'loss': 0.0392, 'prec1_c1': 100.0, 'load_time': 14.8012}\n",
      "2019-05-15 01:49:01,080 - algorithms.Algorithm - INFO   - Training epoch [ 25 /  40]\n",
      "2019-05-15 01:49:01,084 - algorithms.Algorithm - INFO   - ==> Set to classifier optimizer lr = 0.0004000000\n",
      "2019-05-15 01:49:01,085 - algorithms.Algorithm - INFO   - Training: Vae_NonLinearClassifiers_ImageNet_RotNet_AlexNet_Features\n",
      "  0%|          | 0/2 [00:00<?, ?it/s]"
     ]
    },
    {
     "name": "stdout",
     "output_type": "stream",
     "text": [
      "torch.Size([150, 4096])\n",
      "torch.Size([20, 4096])\n"
     ]
    },
    {
     "name": "stderr",
     "output_type": "stream",
     "text": [
      "100%|██████████| 2/2 [00:00<00:00,  5.55it/s]\n",
      "2019-05-15 01:49:01,451 - algorithms.Algorithm - INFO   - ==> Training stats: {'process_time': 61.7639, 'prec5_c1': 100.0, 'loss': 0.0371, 'prec1_c1': 100.0, 'load_time': 38.2361}\n"
     ]
    },
    {
     "name": "stdout",
     "output_type": "stream",
     "text": [
      "torch.Size([150, 4096])\n",
      "torch.Size([20, 4096])\n"
     ]
    },
    {
     "name": "stderr",
     "output_type": "stream",
     "text": [
      "2019-05-15 01:49:01,867 - algorithms.Algorithm - INFO   - Evaluating: Vae_NonLinearClassifiers_ImageNet_RotNet_AlexNet_Features\n",
      "2019-05-15 01:49:01,869 - algorithms.Algorithm - INFO   - ==> Dataset: sample_supervised/val [170 images]\n",
      "100%|██████████| 2/2 [00:00<00:00,  5.73it/s]\n",
      "2019-05-15 01:49:02,223 - algorithms.Algorithm - INFO   - ==> Results: {'process_time': 85.1089, 'prec5_c1': 100.0, 'loss': 0.0312, 'prec1_c1': 100.0, 'load_time': 14.8911}\n",
      "2019-05-15 01:49:02,225 - algorithms.Algorithm - INFO   - ==> Evaluation stats: {'process_time': 85.1089, 'prec5_c1': 100.0, 'loss': 0.0312, 'prec1_c1': 100.0, 'load_time': 14.8911}\n",
      "2019-05-15 01:49:02,226 - algorithms.Algorithm - INFO   - Training epoch [ 26 /  40]\n",
      "2019-05-15 01:49:02,227 - algorithms.Algorithm - INFO   - ==> Set to classifier optimizer lr = 0.0004000000\n",
      "2019-05-15 01:49:02,229 - algorithms.Algorithm - INFO   - Training: Vae_NonLinearClassifiers_ImageNet_RotNet_AlexNet_Features\n",
      "  0%|          | 0/2 [00:00<?, ?it/s]"
     ]
    },
    {
     "name": "stdout",
     "output_type": "stream",
     "text": [
      "torch.Size([150, 4096])\n",
      "torch.Size([20, 4096])\n"
     ]
    },
    {
     "name": "stderr",
     "output_type": "stream",
     "text": [
      "100%|██████████| 2/2 [00:00<00:00,  5.33it/s]\n",
      "2019-05-15 01:49:02,610 - algorithms.Algorithm - INFO   - ==> Training stats: {'process_time': 62.2078, 'prec5_c1': 100.0, 'loss': 0.0515, 'prec1_c1': 97.5, 'load_time': 37.7922}\n"
     ]
    },
    {
     "name": "stdout",
     "output_type": "stream",
     "text": [
      "torch.Size([150, 4096])\n",
      "torch.Size([20, 4096])\n"
     ]
    },
    {
     "name": "stderr",
     "output_type": "stream",
     "text": [
      "2019-05-15 01:49:03,080 - algorithms.Algorithm - INFO   - Evaluating: Vae_NonLinearClassifiers_ImageNet_RotNet_AlexNet_Features\n",
      "2019-05-15 01:49:03,081 - algorithms.Algorithm - INFO   - ==> Dataset: sample_supervised/val [170 images]\n",
      "100%|██████████| 2/2 [00:00<00:00,  5.79it/s]\n",
      "2019-05-15 01:49:03,431 - algorithms.Algorithm - INFO   - ==> Results: {'process_time': 88.8179, 'prec5_c1': 100.0, 'loss': 0.0239, 'prec1_c1': 100.0, 'load_time': 11.1821}\n",
      "2019-05-15 01:49:03,433 - algorithms.Algorithm - INFO   - ==> Evaluation stats: {'process_time': 88.8179, 'prec5_c1': 100.0, 'loss': 0.0239, 'prec1_c1': 100.0, 'load_time': 11.1821}\n",
      "2019-05-15 01:49:03,434 - algorithms.Algorithm - INFO   - Training epoch [ 27 /  40]\n",
      "2019-05-15 01:49:03,434 - algorithms.Algorithm - INFO   - ==> Set to classifier optimizer lr = 0.0004000000\n",
      "2019-05-15 01:49:03,435 - algorithms.Algorithm - INFO   - Training: Vae_NonLinearClassifiers_ImageNet_RotNet_AlexNet_Features\n",
      "  0%|          | 0/2 [00:00<?, ?it/s]"
     ]
    },
    {
     "name": "stdout",
     "output_type": "stream",
     "text": [
      "torch.Size([150, 4096])\n",
      "torch.Size([20, 4096])\n"
     ]
    },
    {
     "name": "stderr",
     "output_type": "stream",
     "text": [
      "100%|██████████| 2/2 [00:00<00:00,  5.38it/s]\n",
      "2019-05-15 01:49:03,813 - algorithms.Algorithm - INFO   - ==> Training stats: {'process_time': 59.1206, 'prec5_c1': 100.0, 'loss': 0.0176, 'prec1_c1': 100.0, 'load_time': 40.8794}\n"
     ]
    },
    {
     "name": "stdout",
     "output_type": "stream",
     "text": [
      "torch.Size([150, 4096])\n",
      "torch.Size([20, 4096])\n"
     ]
    },
    {
     "name": "stderr",
     "output_type": "stream",
     "text": [
      "2019-05-15 01:49:04,638 - algorithms.Algorithm - INFO   - Evaluating: Vae_NonLinearClassifiers_ImageNet_RotNet_AlexNet_Features\n",
      "2019-05-15 01:49:04,640 - algorithms.Algorithm - INFO   - ==> Dataset: sample_supervised/val [170 images]\n",
      "100%|██████████| 2/2 [00:00<00:00,  5.86it/s]\n",
      "2019-05-15 01:49:04,988 - algorithms.Algorithm - INFO   - ==> Results: {'process_time': 89.3701, 'prec5_c1': 100.0, 'loss': 0.0202, 'prec1_c1': 100.0, 'load_time': 10.6299}\n",
      "2019-05-15 01:49:04,991 - algorithms.Algorithm - INFO   - ==> Evaluation stats: {'process_time': 89.3701, 'prec5_c1': 100.0, 'loss': 0.0202, 'prec1_c1': 100.0, 'load_time': 10.6299}\n",
      "2019-05-15 01:49:04,993 - algorithms.Algorithm - INFO   - Training epoch [ 28 /  40]\n",
      "2019-05-15 01:49:04,994 - algorithms.Algorithm - INFO   - ==> Set to classifier optimizer lr = 0.0004000000\n",
      "2019-05-15 01:49:04,996 - algorithms.Algorithm - INFO   - Training: Vae_NonLinearClassifiers_ImageNet_RotNet_AlexNet_Features\n",
      "  0%|          | 0/2 [00:00<?, ?it/s]"
     ]
    },
    {
     "name": "stdout",
     "output_type": "stream",
     "text": [
      "torch.Size([150, 4096])\n",
      "torch.Size([20, 4096])\n"
     ]
    },
    {
     "name": "stderr",
     "output_type": "stream",
     "text": [
      "100%|██████████| 2/2 [00:00<00:00,  5.11it/s]\n",
      "2019-05-15 01:49:05,395 - algorithms.Algorithm - INFO   - ==> Training stats: {'process_time': 58.7285, 'prec5_c1': 100.0, 'loss': 0.0349, 'prec1_c1': 100.0, 'load_time': 41.2715}\n"
     ]
    },
    {
     "name": "stdout",
     "output_type": "stream",
     "text": [
      "torch.Size([150, 4096])\n",
      "torch.Size([20, 4096])\n"
     ]
    },
    {
     "name": "stderr",
     "output_type": "stream",
     "text": [
      "2019-05-15 01:49:05,887 - algorithms.Algorithm - INFO   - Evaluating: Vae_NonLinearClassifiers_ImageNet_RotNet_AlexNet_Features\n",
      "2019-05-15 01:49:05,889 - algorithms.Algorithm - INFO   - ==> Dataset: sample_supervised/val [170 images]\n",
      "100%|██████████| 2/2 [00:00<00:00,  3.56it/s]\n",
      "2019-05-15 01:49:06,456 - algorithms.Algorithm - INFO   - ==> Results: {'process_time': 90.3006, 'prec5_c1': 100.0, 'loss': 0.0175, 'prec1_c1': 100.0, 'load_time': 9.6994}\n",
      "2019-05-15 01:49:06,458 - algorithms.Algorithm - INFO   - ==> Evaluation stats: {'process_time': 90.3006, 'prec5_c1': 100.0, 'loss': 0.0175, 'prec1_c1': 100.0, 'load_time': 9.6994}\n",
      "2019-05-15 01:49:06,459 - algorithms.Algorithm - INFO   - Training epoch [ 29 /  40]\n",
      "2019-05-15 01:49:06,461 - algorithms.Algorithm - INFO   - ==> Set to classifier optimizer lr = 0.0004000000\n",
      "2019-05-15 01:49:06,462 - algorithms.Algorithm - INFO   - Training: Vae_NonLinearClassifiers_ImageNet_RotNet_AlexNet_Features\n",
      "  0%|          | 0/2 [00:00<?, ?it/s]"
     ]
    },
    {
     "name": "stdout",
     "output_type": "stream",
     "text": [
      "torch.Size([150, 4096])\n",
      "torch.Size([20, 4096])\n"
     ]
    },
    {
     "name": "stderr",
     "output_type": "stream",
     "text": [
      "100%|██████████| 2/2 [00:00<00:00,  4.39it/s]\n",
      "2019-05-15 01:49:06,928 - algorithms.Algorithm - INFO   - ==> Training stats: {'process_time': 66.5978, 'prec5_c1': 100.0, 'loss': 0.0178, 'prec1_c1': 100.0, 'load_time': 33.4022}\n"
     ]
    },
    {
     "name": "stdout",
     "output_type": "stream",
     "text": [
      "torch.Size([150, 4096])\n",
      "torch.Size([20, 4096])\n"
     ]
    },
    {
     "name": "stderr",
     "output_type": "stream",
     "text": [
      "2019-05-15 01:49:07,362 - algorithms.Algorithm - INFO   - Evaluating: Vae_NonLinearClassifiers_ImageNet_RotNet_AlexNet_Features\n",
      "2019-05-15 01:49:07,364 - algorithms.Algorithm - INFO   - ==> Dataset: sample_supervised/val [170 images]\n",
      "100%|██████████| 2/2 [00:00<00:00,  5.96it/s]\n",
      "2019-05-15 01:49:07,705 - algorithms.Algorithm - INFO   - ==> Results: {'process_time': 86.8004, 'prec5_c1': 100.0, 'loss': 0.015, 'prec1_c1': 100.0, 'load_time': 13.1996}\n",
      "2019-05-15 01:49:07,707 - algorithms.Algorithm - INFO   - ==> Evaluation stats: {'process_time': 86.8004, 'prec5_c1': 100.0, 'loss': 0.015, 'prec1_c1': 100.0, 'load_time': 13.1996}\n",
      "2019-05-15 01:49:07,708 - algorithms.Algorithm - INFO   - Training epoch [ 30 /  40]\n",
      "2019-05-15 01:49:07,710 - algorithms.Algorithm - INFO   - ==> Set to classifier optimizer lr = 0.0004000000\n",
      "2019-05-15 01:49:07,711 - algorithms.Algorithm - INFO   - Training: Vae_NonLinearClassifiers_ImageNet_RotNet_AlexNet_Features\n",
      "  0%|          | 0/2 [00:00<?, ?it/s]"
     ]
    },
    {
     "name": "stdout",
     "output_type": "stream",
     "text": [
      "torch.Size([150, 4096])\n",
      "torch.Size([20, 4096])\n"
     ]
    },
    {
     "name": "stderr",
     "output_type": "stream",
     "text": [
      "100%|██████████| 2/2 [00:00<00:00,  4.95it/s]\n",
      "2019-05-15 01:49:08,124 - algorithms.Algorithm - INFO   - ==> Training stats: {'process_time': 59.1313, 'prec5_c1': 100.0, 'loss': 0.0202, 'prec1_c1': 100.0, 'load_time': 40.8687}\n"
     ]
    },
    {
     "name": "stdout",
     "output_type": "stream",
     "text": [
      "torch.Size([150, 4096])\n",
      "torch.Size([20, 4096])\n"
     ]
    },
    {
     "name": "stderr",
     "output_type": "stream",
     "text": [
      "2019-05-15 01:49:08,831 - algorithms.Algorithm - INFO   - Evaluating: Vae_NonLinearClassifiers_ImageNet_RotNet_AlexNet_Features\n",
      "2019-05-15 01:49:08,839 - algorithms.Algorithm - INFO   - ==> Dataset: sample_supervised/val [170 images]\n",
      "100%|██████████| 2/2 [00:01<00:00,  1.32it/s]\n",
      "2019-05-15 01:49:10,358 - algorithms.Algorithm - INFO   - ==> Results: {'process_time': 83.7672, 'prec5_c1': 100.0, 'loss': 0.0128, 'prec1_c1': 100.0, 'load_time': 16.2328}\n",
      "2019-05-15 01:49:10,360 - algorithms.Algorithm - INFO   - ==> Evaluation stats: {'process_time': 83.7672, 'prec5_c1': 100.0, 'loss': 0.0128, 'prec1_c1': 100.0, 'load_time': 16.2328}\n",
      "2019-05-15 01:49:10,361 - algorithms.Algorithm - INFO   - Training epoch [ 31 /  40]\n",
      "2019-05-15 01:49:10,362 - algorithms.Algorithm - INFO   - ==> Set to classifier optimizer lr = 0.0000800000\n",
      "2019-05-15 01:49:10,364 - algorithms.Algorithm - INFO   - Training: Vae_NonLinearClassifiers_ImageNet_RotNet_AlexNet_Features\n",
      "  0%|          | 0/2 [00:00<?, ?it/s]"
     ]
    },
    {
     "name": "stdout",
     "output_type": "stream",
     "text": [
      "torch.Size([150, 4096])\n",
      "torch.Size([20, 4096])\n"
     ]
    },
    {
     "name": "stderr",
     "output_type": "stream",
     "text": [
      "100%|██████████| 2/2 [00:00<00:00,  3.93it/s]\n",
      "2019-05-15 01:49:10,878 - algorithms.Algorithm - INFO   - ==> Training stats: {'process_time': 61.0553, 'prec5_c1': 100.0, 'loss': 0.0161, 'prec1_c1': 100.0, 'load_time': 38.9447}\n"
     ]
    },
    {
     "name": "stdout",
     "output_type": "stream",
     "text": [
      "torch.Size([150, 4096])\n",
      "torch.Size([20, 4096])\n"
     ]
    },
    {
     "name": "stderr",
     "output_type": "stream",
     "text": [
      "2019-05-15 01:49:11,337 - algorithms.Algorithm - INFO   - Evaluating: Vae_NonLinearClassifiers_ImageNet_RotNet_AlexNet_Features\n",
      "2019-05-15 01:49:11,339 - algorithms.Algorithm - INFO   - ==> Dataset: sample_supervised/val [170 images]\n",
      "100%|██████████| 2/2 [00:00<00:00,  4.79it/s]\n",
      "2019-05-15 01:49:11,761 - algorithms.Algorithm - INFO   - ==> Results: {'process_time': 88.5915, 'prec5_c1': 100.0, 'loss': 0.0124, 'prec1_c1': 100.0, 'load_time': 11.4085}\n",
      "2019-05-15 01:49:11,763 - algorithms.Algorithm - INFO   - ==> Evaluation stats: {'process_time': 88.5915, 'prec5_c1': 100.0, 'loss': 0.0124, 'prec1_c1': 100.0, 'load_time': 11.4085}\n",
      "2019-05-15 01:49:11,770 - algorithms.Algorithm - INFO   - Training epoch [ 32 /  40]\n",
      "2019-05-15 01:49:11,772 - algorithms.Algorithm - INFO   - ==> Set to classifier optimizer lr = 0.0000800000\n",
      "2019-05-15 01:49:11,773 - algorithms.Algorithm - INFO   - Training: Vae_NonLinearClassifiers_ImageNet_RotNet_AlexNet_Features\n",
      "  0%|          | 0/2 [00:00<?, ?it/s]"
     ]
    },
    {
     "name": "stdout",
     "output_type": "stream",
     "text": [
      "torch.Size([150, 4096])\n",
      "torch.Size([20, 4096])\n"
     ]
    },
    {
     "name": "stderr",
     "output_type": "stream",
     "text": [
      "100%|██████████| 2/2 [00:00<00:00,  5.32it/s]\n",
      "2019-05-15 01:49:12,155 - algorithms.Algorithm - INFO   - ==> Training stats: {'process_time': 61.6504, 'prec5_c1': 100.0, 'loss': 0.0172, 'prec1_c1': 100.0, 'load_time': 38.3496}\n"
     ]
    },
    {
     "name": "stdout",
     "output_type": "stream",
     "text": [
      "torch.Size([150, 4096])\n",
      "torch.Size([20, 4096])\n"
     ]
    },
    {
     "name": "stderr",
     "output_type": "stream",
     "text": [
      "2019-05-15 01:49:12,780 - algorithms.Algorithm - INFO   - Evaluating: Vae_NonLinearClassifiers_ImageNet_RotNet_AlexNet_Features\n",
      "2019-05-15 01:49:12,782 - algorithms.Algorithm - INFO   - ==> Dataset: sample_supervised/val [170 images]\n",
      "100%|██████████| 2/2 [00:00<00:00,  6.23it/s]\n",
      "2019-05-15 01:49:13,108 - algorithms.Algorithm - INFO   - ==> Results: {'process_time': 85.1526, 'prec5_c1': 100.0, 'loss': 0.0115, 'prec1_c1': 100.0, 'load_time': 14.8474}\n",
      "2019-05-15 01:49:13,112 - algorithms.Algorithm - INFO   - ==> Evaluation stats: {'process_time': 85.1526, 'prec5_c1': 100.0, 'loss': 0.0115, 'prec1_c1': 100.0, 'load_time': 14.8474}\n",
      "2019-05-15 01:49:13,116 - algorithms.Algorithm - INFO   - Training epoch [ 33 /  40]\n",
      "2019-05-15 01:49:13,117 - algorithms.Algorithm - INFO   - ==> Set to classifier optimizer lr = 0.0000800000\n",
      "2019-05-15 01:49:13,118 - algorithms.Algorithm - INFO   - Training: Vae_NonLinearClassifiers_ImageNet_RotNet_AlexNet_Features\n",
      "  0%|          | 0/2 [00:00<?, ?it/s]"
     ]
    },
    {
     "name": "stdout",
     "output_type": "stream",
     "text": [
      "torch.Size([150, 4096])\n",
      "torch.Size([20, 4096])\n"
     ]
    },
    {
     "name": "stderr",
     "output_type": "stream",
     "text": [
      "100%|██████████| 2/2 [00:00<00:00,  3.82it/s]\n",
      "2019-05-15 01:49:13,648 - algorithms.Algorithm - INFO   - ==> Training stats: {'process_time': 59.9041, 'prec5_c1': 100.0, 'loss': 0.0376, 'prec1_c1': 97.5, 'load_time': 40.0959}\n"
     ]
    },
    {
     "name": "stdout",
     "output_type": "stream",
     "text": [
      "torch.Size([150, 4096])\n",
      "torch.Size([20, 4096])\n"
     ]
    },
    {
     "name": "stderr",
     "output_type": "stream",
     "text": [
      "2019-05-15 01:49:14,231 - algorithms.Algorithm - INFO   - Evaluating: Vae_NonLinearClassifiers_ImageNet_RotNet_AlexNet_Features\n",
      "2019-05-15 01:49:14,234 - algorithms.Algorithm - INFO   - ==> Dataset: sample_supervised/val [170 images]\n",
      "100%|██████████| 2/2 [00:00<00:00,  5.63it/s]\n",
      "2019-05-15 01:49:14,594 - algorithms.Algorithm - INFO   - ==> Results: {'process_time': 83.4699, 'prec5_c1': 100.0, 'loss': 0.0109, 'prec1_c1': 100.0, 'load_time': 16.5301}\n",
      "2019-05-15 01:49:14,598 - algorithms.Algorithm - INFO   - ==> Evaluation stats: {'process_time': 83.4699, 'prec5_c1': 100.0, 'loss': 0.0109, 'prec1_c1': 100.0, 'load_time': 16.5301}\n",
      "2019-05-15 01:49:14,600 - algorithms.Algorithm - INFO   - Training epoch [ 34 /  40]\n",
      "2019-05-15 01:49:14,601 - algorithms.Algorithm - INFO   - ==> Set to classifier optimizer lr = 0.0000800000\n",
      "2019-05-15 01:49:14,603 - algorithms.Algorithm - INFO   - Training: Vae_NonLinearClassifiers_ImageNet_RotNet_AlexNet_Features\n",
      "  0%|          | 0/2 [00:00<?, ?it/s]"
     ]
    },
    {
     "name": "stdout",
     "output_type": "stream",
     "text": [
      "torch.Size([150, 4096])\n",
      "torch.Size([20, 4096])\n"
     ]
    },
    {
     "name": "stderr",
     "output_type": "stream",
     "text": [
      "100%|██████████| 2/2 [00:00<00:00,  4.86it/s]\n",
      "2019-05-15 01:49:15,023 - algorithms.Algorithm - INFO   - ==> Training stats: {'process_time': 59.4564, 'prec5_c1': 100.0, 'loss': 0.0184, 'prec1_c1': 100.0, 'load_time': 40.5436}\n"
     ]
    },
    {
     "name": "stdout",
     "output_type": "stream",
     "text": [
      "torch.Size([150, 4096])\n",
      "torch.Size([20, 4096])\n"
     ]
    },
    {
     "name": "stderr",
     "output_type": "stream",
     "text": [
      "2019-05-15 01:49:15,556 - algorithms.Algorithm - INFO   - Evaluating: Vae_NonLinearClassifiers_ImageNet_RotNet_AlexNet_Features\n",
      "2019-05-15 01:49:15,558 - algorithms.Algorithm - INFO   - ==> Dataset: sample_supervised/val [170 images]\n",
      "100%|██████████| 2/2 [00:00<00:00,  6.31it/s]\n",
      "2019-05-15 01:49:15,881 - algorithms.Algorithm - INFO   - ==> Results: {'process_time': 85.048, 'prec5_c1': 100.0, 'loss': 0.0102, 'prec1_c1': 100.0, 'load_time': 14.952}\n",
      "2019-05-15 01:49:15,883 - algorithms.Algorithm - INFO   - ==> Evaluation stats: {'process_time': 85.048, 'prec5_c1': 100.0, 'loss': 0.0102, 'prec1_c1': 100.0, 'load_time': 14.952}\n",
      "2019-05-15 01:49:15,884 - algorithms.Algorithm - INFO   - Training epoch [ 35 /  40]\n",
      "2019-05-15 01:49:15,886 - algorithms.Algorithm - INFO   - ==> Set to classifier optimizer lr = 0.0000800000\n",
      "2019-05-15 01:49:15,887 - algorithms.Algorithm - INFO   - Training: Vae_NonLinearClassifiers_ImageNet_RotNet_AlexNet_Features\n",
      "  0%|          | 0/2 [00:00<?, ?it/s]"
     ]
    },
    {
     "name": "stdout",
     "output_type": "stream",
     "text": [
      "torch.Size([150, 4096])\n",
      "torch.Size([20, 4096])\n"
     ]
    },
    {
     "name": "stderr",
     "output_type": "stream",
     "text": [
      "100%|██████████| 2/2 [00:00<00:00,  5.48it/s]\n",
      "2019-05-15 01:49:16,263 - algorithms.Algorithm - INFO   - ==> Training stats: {'process_time': 59.6967, 'prec5_c1': 100.0, 'loss': 0.0223, 'prec1_c1': 100.0, 'load_time': 40.3033}\n"
     ]
    },
    {
     "name": "stdout",
     "output_type": "stream",
     "text": [
      "torch.Size([150, 4096])\n",
      "torch.Size([20, 4096])\n"
     ]
    },
    {
     "name": "stderr",
     "output_type": "stream",
     "text": [
      "2019-05-15 01:49:17,150 - algorithms.Algorithm - INFO   - Evaluating: Vae_NonLinearClassifiers_ImageNet_RotNet_AlexNet_Features\n",
      "2019-05-15 01:49:17,152 - algorithms.Algorithm - INFO   - ==> Dataset: sample_supervised/val [170 images]\n",
      "100%|██████████| 2/2 [00:00<00:00,  5.83it/s]\n",
      "2019-05-15 01:49:17,501 - algorithms.Algorithm - INFO   - ==> Results: {'process_time': 85.1024, 'prec5_c1': 100.0, 'loss': 0.0094, 'prec1_c1': 100.0, 'load_time': 14.8976}\n",
      "2019-05-15 01:49:17,503 - algorithms.Algorithm - INFO   - ==> Evaluation stats: {'process_time': 85.1024, 'prec5_c1': 100.0, 'loss': 0.0094, 'prec1_c1': 100.0, 'load_time': 14.8976}\n",
      "2019-05-15 01:49:17,504 - algorithms.Algorithm - INFO   - Training epoch [ 36 /  40]\n",
      "2019-05-15 01:49:17,505 - algorithms.Algorithm - INFO   - ==> Set to classifier optimizer lr = 0.0000800000\n",
      "2019-05-15 01:49:17,506 - algorithms.Algorithm - INFO   - Training: Vae_NonLinearClassifiers_ImageNet_RotNet_AlexNet_Features\n",
      "  0%|          | 0/2 [00:00<?, ?it/s]"
     ]
    },
    {
     "name": "stdout",
     "output_type": "stream",
     "text": [
      "torch.Size([150, 4096])\n",
      "torch.Size([20, 4096])\n"
     ]
    },
    {
     "name": "stderr",
     "output_type": "stream",
     "text": [
      "100%|██████████| 2/2 [00:00<00:00,  4.78it/s]\n",
      "2019-05-15 01:49:17,930 - algorithms.Algorithm - INFO   - ==> Training stats: {'process_time': 56.3238, 'prec5_c1': 100.0, 'loss': 0.0421, 'prec1_c1': 100.0, 'load_time': 43.6762}\n"
     ]
    },
    {
     "name": "stdout",
     "output_type": "stream",
     "text": [
      "torch.Size([150, 4096])\n",
      "torch.Size([20, 4096])\n"
     ]
    },
    {
     "name": "stderr",
     "output_type": "stream",
     "text": [
      "2019-05-15 01:49:18,439 - algorithms.Algorithm - INFO   - Evaluating: Vae_NonLinearClassifiers_ImageNet_RotNet_AlexNet_Features\n",
      "2019-05-15 01:49:18,440 - algorithms.Algorithm - INFO   - ==> Dataset: sample_supervised/val [170 images]\n",
      "100%|██████████| 2/2 [00:01<00:00,  1.29it/s]\n",
      "2019-05-15 01:49:19,991 - algorithms.Algorithm - INFO   - ==> Results: {'process_time': 85.7328, 'prec5_c1': 100.0, 'loss': 0.0093, 'prec1_c1': 100.0, 'load_time': 14.2672}\n",
      "2019-05-15 01:49:19,993 - algorithms.Algorithm - INFO   - ==> Evaluation stats: {'process_time': 85.7328, 'prec5_c1': 100.0, 'loss': 0.0093, 'prec1_c1': 100.0, 'load_time': 14.2672}\n",
      "2019-05-15 01:49:19,995 - algorithms.Algorithm - INFO   - Training epoch [ 37 /  40]\n",
      "2019-05-15 01:49:19,997 - algorithms.Algorithm - INFO   - ==> Set to classifier optimizer lr = 0.0000800000\n",
      "2019-05-15 01:49:19,998 - algorithms.Algorithm - INFO   - Training: Vae_NonLinearClassifiers_ImageNet_RotNet_AlexNet_Features\n",
      "  0%|          | 0/2 [00:00<?, ?it/s]"
     ]
    },
    {
     "name": "stdout",
     "output_type": "stream",
     "text": [
      "torch.Size([150, 4096])\n",
      "torch.Size([20, 4096])\n"
     ]
    },
    {
     "name": "stderr",
     "output_type": "stream",
     "text": [
      "100%|██████████| 2/2 [00:00<00:00,  3.11it/s]\n",
      "2019-05-15 01:49:20,648 - algorithms.Algorithm - INFO   - ==> Training stats: {'process_time': 62.0972, 'prec5_c1': 100.0, 'loss': 0.0245, 'prec1_c1': 100.0, 'load_time': 37.9028}\n"
     ]
    },
    {
     "name": "stdout",
     "output_type": "stream",
     "text": [
      "torch.Size([150, 4096])\n",
      "torch.Size([20, 4096])\n"
     ]
    },
    {
     "name": "stderr",
     "output_type": "stream",
     "text": [
      "2019-05-15 01:49:21,270 - algorithms.Algorithm - INFO   - Evaluating: Vae_NonLinearClassifiers_ImageNet_RotNet_AlexNet_Features\n",
      "2019-05-15 01:49:21,272 - algorithms.Algorithm - INFO   - ==> Dataset: sample_supervised/val [170 images]\n",
      "100%|██████████| 2/2 [00:00<00:00,  3.10it/s]\n",
      "2019-05-15 01:49:21,924 - algorithms.Algorithm - INFO   - ==> Results: {'process_time': 91.2534, 'prec5_c1': 100.0, 'loss': 0.0089, 'prec1_c1': 100.0, 'load_time': 8.7466}\n",
      "2019-05-15 01:49:21,926 - algorithms.Algorithm - INFO   - ==> Evaluation stats: {'process_time': 91.2534, 'prec5_c1': 100.0, 'loss': 0.0089, 'prec1_c1': 100.0, 'load_time': 8.7466}\n",
      "2019-05-15 01:49:21,927 - algorithms.Algorithm - INFO   - Training epoch [ 38 /  40]\n",
      "2019-05-15 01:49:21,929 - algorithms.Algorithm - INFO   - ==> Set to classifier optimizer lr = 0.0000800000\n",
      "2019-05-15 01:49:21,930 - algorithms.Algorithm - INFO   - Training: Vae_NonLinearClassifiers_ImageNet_RotNet_AlexNet_Features\n",
      "  0%|          | 0/2 [00:00<?, ?it/s]"
     ]
    },
    {
     "name": "stdout",
     "output_type": "stream",
     "text": [
      "torch.Size([150, 4096])\n",
      "torch.Size([20, 4096])\n"
     ]
    },
    {
     "name": "stderr",
     "output_type": "stream",
     "text": [
      "100%|██████████| 2/2 [00:00<00:00,  2.70it/s]\n",
      "2019-05-15 01:49:22,680 - algorithms.Algorithm - INFO   - ==> Training stats: {'process_time': 64.6741, 'prec5_c1': 100.0, 'loss': 0.0302, 'prec1_c1': 100.0, 'load_time': 35.3259}\n"
     ]
    },
    {
     "name": "stdout",
     "output_type": "stream",
     "text": [
      "torch.Size([150, 4096])\n",
      "torch.Size([20, 4096])\n"
     ]
    },
    {
     "name": "stderr",
     "output_type": "stream",
     "text": [
      "2019-05-15 01:49:23,172 - algorithms.Algorithm - INFO   - Evaluating: Vae_NonLinearClassifiers_ImageNet_RotNet_AlexNet_Features\n",
      "2019-05-15 01:49:23,174 - algorithms.Algorithm - INFO   - ==> Dataset: sample_supervised/val [170 images]\n",
      "100%|██████████| 2/2 [00:00<00:00,  3.59it/s]\n",
      "2019-05-15 01:49:23,736 - algorithms.Algorithm - INFO   - ==> Results: {'process_time': 89.9821, 'prec5_c1': 100.0, 'loss': 0.0098, 'prec1_c1': 100.0, 'load_time': 10.0179}\n",
      "2019-05-15 01:49:23,737 - algorithms.Algorithm - INFO   - ==> Evaluation stats: {'process_time': 89.9821, 'prec5_c1': 100.0, 'loss': 0.0098, 'prec1_c1': 100.0, 'load_time': 10.0179}\n",
      "2019-05-15 01:49:23,738 - algorithms.Algorithm - INFO   - Training epoch [ 39 /  40]\n",
      "2019-05-15 01:49:23,739 - algorithms.Algorithm - INFO   - ==> Set to classifier optimizer lr = 0.0000800000\n",
      "2019-05-15 01:49:23,740 - algorithms.Algorithm - INFO   - Training: Vae_NonLinearClassifiers_ImageNet_RotNet_AlexNet_Features\n",
      "  0%|          | 0/2 [00:00<?, ?it/s]"
     ]
    },
    {
     "name": "stdout",
     "output_type": "stream",
     "text": [
      "torch.Size([150, 4096])\n",
      "torch.Size([20, 4096])\n"
     ]
    },
    {
     "name": "stderr",
     "output_type": "stream",
     "text": [
      "100%|██████████| 2/2 [00:00<00:00,  2.59it/s]\n",
      "2019-05-15 01:49:24,519 - algorithms.Algorithm - INFO   - ==> Training stats: {'process_time': 66.5342, 'prec5_c1': 100.0, 'loss': 0.0262, 'prec1_c1': 100.0, 'load_time': 33.4658}\n"
     ]
    },
    {
     "name": "stdout",
     "output_type": "stream",
     "text": [
      "torch.Size([150, 4096])\n",
      "torch.Size([20, 4096])\n"
     ]
    },
    {
     "name": "stderr",
     "output_type": "stream",
     "text": [
      "2019-05-15 01:49:25,006 - algorithms.Algorithm - INFO   - Evaluating: Vae_NonLinearClassifiers_ImageNet_RotNet_AlexNet_Features\n",
      "2019-05-15 01:49:25,007 - algorithms.Algorithm - INFO   - ==> Dataset: sample_supervised/val [170 images]\n",
      "100%|██████████| 2/2 [00:00<00:00,  4.81it/s]\n",
      "2019-05-15 01:49:25,427 - algorithms.Algorithm - INFO   - ==> Results: {'process_time': 83.9457, 'prec5_c1': 100.0, 'loss': 0.0096, 'prec1_c1': 100.0, 'load_time': 16.0543}\n",
      "2019-05-15 01:49:25,430 - algorithms.Algorithm - INFO   - ==> Evaluation stats: {'process_time': 83.9457, 'prec5_c1': 100.0, 'loss': 0.0096, 'prec1_c1': 100.0, 'load_time': 16.0543}\n",
      "2019-05-15 01:49:25,431 - algorithms.Algorithm - INFO   - Training epoch [ 40 /  40]\n",
      "2019-05-15 01:49:25,432 - algorithms.Algorithm - INFO   - ==> Set to classifier optimizer lr = 0.0000800000\n",
      "2019-05-15 01:49:25,434 - algorithms.Algorithm - INFO   - Training: Vae_NonLinearClassifiers_ImageNet_RotNet_AlexNet_Features\n",
      "  0%|          | 0/2 [00:00<?, ?it/s]"
     ]
    },
    {
     "name": "stdout",
     "output_type": "stream",
     "text": [
      "torch.Size([150, 4096])\n",
      "torch.Size([20, 4096])\n"
     ]
    },
    {
     "name": "stderr",
     "output_type": "stream",
     "text": [
      "100%|██████████| 2/2 [00:00<00:00,  4.87it/s]\n",
      "2019-05-15 01:49:25,853 - algorithms.Algorithm - INFO   - ==> Training stats: {'process_time': 60.0675, 'prec5_c1': 100.0, 'loss': 0.0207, 'prec1_c1': 100.0, 'load_time': 39.9325}\n"
     ]
    },
    {
     "name": "stdout",
     "output_type": "stream",
     "text": [
      "torch.Size([150, 4096])\n",
      "torch.Size([20, 4096])\n"
     ]
    },
    {
     "name": "stderr",
     "output_type": "stream",
     "text": [
      "2019-05-15 01:49:26,346 - algorithms.Algorithm - INFO   - Evaluating: Vae_NonLinearClassifiers_ImageNet_RotNet_AlexNet_Features\n",
      "2019-05-15 01:49:26,347 - algorithms.Algorithm - INFO   - ==> Dataset: sample_supervised/val [170 images]\n",
      "100%|██████████| 2/2 [00:00<00:00,  5.65it/s]\n",
      "2019-05-15 01:49:26,707 - algorithms.Algorithm - INFO   - ==> Results: {'process_time': 84.7553, 'prec5_c1': 100.0, 'loss': 0.0091, 'prec1_c1': 100.0, 'load_time': 15.2447}\n",
      "2019-05-15 01:49:26,709 - algorithms.Algorithm - INFO   - ==> Evaluation stats: {'process_time': 84.7553, 'prec5_c1': 100.0, 'loss': 0.0091, 'prec1_c1': 100.0, 'load_time': 15.2447}\n"
     ]
    },
    {
     "name": "stdout",
     "output_type": "stream",
     "text": [
      "torch.Size([150, 4096])\n",
      "torch.Size([20, 4096])\n"
     ]
    }
   ],
   "source": [
    "if not args_opt.evaluate: # train the algorithm\n",
    "    algorithm.solve(dloader_train, dloader_test)\n",
    "else:\n",
    "    algorithm.evaluate(dloader_test) # evaluate the algorithm\n"
   ]
  },
  {
   "cell_type": "markdown",
   "metadata": {},
   "source": [
    "/scratch/um367/urwa-env/py2.7.12/lib/python2.7/site-packages/torchvision/transforms/functional.py\", line 48, in to_tensor"
   ]
  }
 ],
 "metadata": {
  "kernelspec": {
   "display_name": "Python 2",
   "language": "python",
   "name": "python2"
  },
  "language_info": {
   "codemirror_mode": {
    "name": "ipython",
    "version": 2
   },
   "file_extension": ".py",
   "mimetype": "text/x-python",
   "name": "python",
   "nbconvert_exporter": "python",
   "pygments_lexer": "ipython2",
   "version": "2.7.12"
  }
 },
 "nbformat": 4,
 "nbformat_minor": 2
}
